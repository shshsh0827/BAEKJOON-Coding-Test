{
 "cells": [
  {
   "cell_type": "markdown",
   "id": "01ec9234",
   "metadata": {},
   "source": [
    "https://www.acmicpc.net/problem/1964\n",
    "\n",
    "문제\n",
    "오각형의 각 변에 아래 그림과 같이 점을 찍어 나간다. N단계에서 점의 개수는 모두 몇 개일까?\n",
    "\n",
    "\n",
    "\n",
    "입력\n",
    "첫째 줄에 N(1 ≤ N ≤ 10,000,000)이 주어진다.\n",
    "\n",
    "출력\n",
    "첫째 줄에 N단계에서 점의 개수를 45678로 나눈 나머지를 출력한다.\n",
    "\n",
    "예제 입력 1 \n",
    "3\n",
    "예제 출력 1 \n",
    "22"
   ]
  },
  {
   "cell_type": "code",
   "execution_count": 1,
   "id": "58ccbc5f",
   "metadata": {},
   "outputs": [
    {
     "name": "stdout",
     "output_type": "stream",
     "text": [
      "3\n",
      "22\n"
     ]
    }
   ],
   "source": [
    "n = int(input())\n",
    "answer = 0\n",
    "for i in range(n, -1, -1):\n",
    "    answer += i * 3 + 1\n",
    "    answer %= 45678\n",
    "print(answer)"
   ]
  }
 ],
 "metadata": {
  "kernelspec": {
   "display_name": "Python 3",
   "language": "python",
   "name": "python3"
  },
  "language_info": {
   "codemirror_mode": {
    "name": "ipython",
    "version": 3
   },
   "file_extension": ".py",
   "mimetype": "text/x-python",
   "name": "python",
   "nbconvert_exporter": "python",
   "pygments_lexer": "ipython3",
   "version": "3.8.8"
  }
 },
 "nbformat": 4,
 "nbformat_minor": 5
}
