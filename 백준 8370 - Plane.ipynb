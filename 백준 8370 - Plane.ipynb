{
 "cells": [
  {
   "cell_type": "markdown",
   "id": "4eb55353",
   "metadata": {},
   "source": [
    "https://www.acmicpc.net/problem/8370\n",
    "\n",
    "문제\n",
    "Byteland Airlines recently extended their aircraft fleet with a new model of a plane. The new acquisition has n1 rows of seats in the business class and n2 rows in the economic class. In the business class each row contains k1 seats, while each row in the economic class has k2 seats.\n",
    "\n",
    "Write a program which:\n",
    "\n",
    "reads information about available seats in the plane,\n",
    "calculates the sum of all seats available in that plane,\n",
    "writes the result.\n",
    "입력\n",
    "In the first and only line of the standard input there are four integers n1, k1, n2 and k2 (1 ≤ n1, k1, n2, k2 ≤ 1 000), separated by single spaces.\n",
    "\n",
    "출력\n",
    "The first and only line of the standard output should contain one integer - the total number of seats available in the plane.\n",
    "\n",
    "예제 입력 1 \n",
    "2 5 3 20\n",
    "예제 출력 1 \n",
    "70"
   ]
  },
  {
   "cell_type": "code",
   "execution_count": 1,
   "id": "c4759f09",
   "metadata": {},
   "outputs": [
    {
     "name": "stdout",
     "output_type": "stream",
     "text": [
      "2 5 3 20\n",
      "70\n"
     ]
    }
   ],
   "source": [
    "n1, k1, n2, k2 = map(int, input().split())\n",
    "print(n1 * k1 + n2 * k2)"
   ]
  }
 ],
 "metadata": {
  "kernelspec": {
   "display_name": "Python 3",
   "language": "python",
   "name": "python3"
  },
  "language_info": {
   "codemirror_mode": {
    "name": "ipython",
    "version": 3
   },
   "file_extension": ".py",
   "mimetype": "text/x-python",
   "name": "python",
   "nbconvert_exporter": "python",
   "pygments_lexer": "ipython3",
   "version": "3.8.8"
  }
 },
 "nbformat": 4,
 "nbformat_minor": 5
}
