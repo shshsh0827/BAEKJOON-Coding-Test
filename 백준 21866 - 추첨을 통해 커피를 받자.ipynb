{
 "cells": [
  {
   "cell_type": "markdown",
   "metadata": {},
   "source": [
    "https://www.acmicpc.net/problem/21866\n",
    "\n",
    "문제\n",
    "연세대학교 컴퓨터과학과 프로그래밍 경진대회는 2015년부터 지금까지 총 6번 진행되었다.\n",
    "\n",
    "지금까지 진행했던 대회의 수상자는 대부분 고학번 학생들이었다. 이러한 이유로 국렬이는 신입생들에게 알고리즘 문제 풀이에 대한 동기를 부여하기 위해 2021 연세대학교 신입생 프로그래밍 경진대회를 열게 되었다.\n",
    "\n",
    "국렬이는 가능한 많은 사람들이 대회에 많이 참여하는 것을 원하기 때문에, 대회에 참가한 학생들 중 수상자를 제외한 나머지 사람들에게 추첨을 통해서 커피를 나누어주려고 한다. 대회에 신청만 하고 참여하지 않는 학생들이 커피를 받는 상황을 막기 위해 총점이 일정 점수 이상인 학생들만을 대상으로 추첨을 하려고 한다.\n",
    "\n",
    "2021 연세대학교 신입생 프로그래밍 경진대회는 총 9문제로 구성되어 있으며, 각 문제 당 최대 점수는 100점, 100점, 200점, 200점, 300점, 300점, 400점, 400점, 500점이다. 만약 받은 점수의 합계가 100점 이상이라면 추첨 대상자가 된다.\n",
    "\n",
    "몇몇 참가자들이 상금을 받기 위해서 자신들의 점수를 조작하는 상황이 발생했다. 만약 어떤 학생이 각 문제에서 받은 점수 중, 그 문제의 최대 점수를 넘어가는 것이 한 개라도 있다면 그 학생을 해커로 간주하려고 한다. 해커로 간주된 학생에게는 커피를 무조건 나눠줄 예정이다.\n",
    "\n",
    "어떤 학생이 각 문제에서 얻은 점수가 주어졌을 때, 해당 학생이 추첨 대상자인지, 추첨 대상자가 아닌지, 혹은 해커인지를 구분해보자.\n",
    "\n",
    "입력\n",
    "첫 번째 줄에 9개의 정수가 주어진다. 각 정수는  이상  이하의 정수다. 각 정수는 해당 학생이 각 문제에서 얻은 점수를 의미한다.\n",
    "\n",
    "출력\n",
    "커피 추첨 대상자가 아니라면 none을 출력하고, 해커라면 hacker를 출력한다. 그 외의 경우에는 draw를 출력한다.\n",
    "\n",
    "예제 입력 1 \n",
    "100 0 0 0 0 0 0 0 0\n",
    "예제 출력 1 \n",
    "draw\n",
    "예제 입력 2 \n",
    "0 50 0 0 0 0 0 0 0\n",
    "예제 출력 2 \n",
    "none\n",
    "예제 입력 3 \n",
    "101 101 201 201 301 301 401 401 501\n",
    "예제 출력 3 \n",
    "hacker"
   ]
  },
  {
   "cell_type": "code",
   "execution_count": 1,
   "metadata": {},
   "outputs": [],
   "source": [
    "def solution():\n",
    "    total = 0\n",
    "    for a, b in zip(map(int, input().split()), [100, 100, 200, 200, 300, 300, 400, 400, 500]):\n",
    "        if a > b:\n",
    "            print('hacker')\n",
    "            break\n",
    "        total += a\n",
    "    else:\n",
    "        print('draw') if total >= 100 else print('none')"
   ]
  },
  {
   "cell_type": "code",
   "execution_count": 2,
   "metadata": {},
   "outputs": [
    {
     "name": "stdout",
     "output_type": "stream",
     "text": [
      "100 0 0 0 0 0 0 0 0\n",
      "draw\n"
     ]
    }
   ],
   "source": [
    "solution()"
   ]
  },
  {
   "cell_type": "code",
   "execution_count": 3,
   "metadata": {},
   "outputs": [
    {
     "name": "stdout",
     "output_type": "stream",
     "text": [
      "0 50 0 0 0 0 0 0 0\n",
      "none\n"
     ]
    }
   ],
   "source": [
    "solution()"
   ]
  },
  {
   "cell_type": "code",
   "execution_count": 4,
   "metadata": {},
   "outputs": [
    {
     "name": "stdout",
     "output_type": "stream",
     "text": [
      "101 101 201 201 301 301 401 401 501\n",
      "hacker\n"
     ]
    }
   ],
   "source": [
    "solution()"
   ]
  }
 ],
 "metadata": {
  "kernelspec": {
   "display_name": "Python 3",
   "language": "python",
   "name": "python3"
  },
  "language_info": {
   "codemirror_mode": {
    "name": "ipython",
    "version": 3
   },
   "file_extension": ".py",
   "mimetype": "text/x-python",
   "name": "python",
   "nbconvert_exporter": "python",
   "pygments_lexer": "ipython3",
   "version": "3.7.4"
  }
 },
 "nbformat": 4,
 "nbformat_minor": 2
}
