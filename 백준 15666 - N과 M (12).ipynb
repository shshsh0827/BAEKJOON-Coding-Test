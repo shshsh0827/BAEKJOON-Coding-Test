{
 "cells": [
  {
   "cell_type": "markdown",
   "id": "1bd5633a",
   "metadata": {},
   "source": [
    "https://www.acmicpc.net/problem/15666\n",
    "\n",
    "문제\n",
    "N개의 자연수와 자연수 M이 주어졌을 때, 아래 조건을 만족하는 길이가 M인 수열을 모두 구하는 프로그램을 작성하시오.\n",
    "\n",
    "N개의 자연수 중에서 M개를 고른 수열\n",
    "같은 수를 여러 번 골라도 된다.\n",
    "고른 수열은 비내림차순이어야 한다.\n",
    "길이가 K인 수열 A가 A1 ≤ A2 ≤ ... ≤ AK-1 ≤ AK를 만족하면, 비내림차순이라고 한다.\n",
    "입력\n",
    "첫째 줄에 N과 M이 주어진다. (1 ≤ M ≤ N ≤ 8)\n",
    "\n",
    "둘째 줄에 N개의 수가 주어진다. 입력으로 주어지는 수는 10,000보다 작거나 같은 자연수이다.\n",
    "\n",
    "출력\n",
    "한 줄에 하나씩 문제의 조건을 만족하는 수열을 출력한다. 중복되는 수열을 여러 번 출력하면 안되며, 각 수열은 공백으로 구분해서 출력해야 한다.\n",
    "\n",
    "수열은 사전 순으로 증가하는 순서로 출력해야 한다.\n",
    "\n",
    "예제 입력 1 \n",
    "3 1\n",
    "4 4 2\n",
    "예제 출력 1 \n",
    "2\n",
    "4\n",
    "예제 입력 2 \n",
    "4 2\n",
    "9 7 9 1\n",
    "예제 출력 2 \n",
    "1 1\n",
    "1 7\n",
    "1 9\n",
    "7 7\n",
    "7 9\n",
    "9 9\n",
    "예제 입력 3 \n",
    "4 4\n",
    "1 1 2 2\n",
    "예제 출력 3 \n",
    "1 1 1 1\n",
    "1 1 1 2\n",
    "1 1 2 2\n",
    "1 2 2 2\n",
    "2 2 2 2"
   ]
  },
  {
   "cell_type": "code",
   "execution_count": 1,
   "id": "95b4fbbf",
   "metadata": {},
   "outputs": [],
   "source": [
    "def solution():\n",
    "    from itertools import combinations_with_replacement\n",
    "    N, M = map(int, input().split())\n",
    "    lst = sorted(map(int, input().split()))\n",
    "    for combination in sorted(set(combinations_with_replacement(lst, M))):\n",
    "        for n in combination:\n",
    "            print(n, end = ' ')\n",
    "        else:\n",
    "            print()"
   ]
  },
  {
   "cell_type": "code",
   "execution_count": 2,
   "id": "445622e0",
   "metadata": {},
   "outputs": [
    {
     "name": "stdout",
     "output_type": "stream",
     "text": [
      "3 1\n",
      "4 4 2\n",
      "2 \n",
      "4 \n"
     ]
    }
   ],
   "source": [
    "solution()"
   ]
  },
  {
   "cell_type": "code",
   "execution_count": 3,
   "id": "6e03a18e",
   "metadata": {},
   "outputs": [
    {
     "name": "stdout",
     "output_type": "stream",
     "text": [
      "4 2\n",
      "9 7 9 1\n",
      "1 1 \n",
      "1 7 \n",
      "1 9 \n",
      "7 7 \n",
      "7 9 \n",
      "9 9 \n"
     ]
    }
   ],
   "source": [
    "solution()"
   ]
  },
  {
   "cell_type": "code",
   "execution_count": 4,
   "id": "c1e20e92",
   "metadata": {},
   "outputs": [
    {
     "name": "stdout",
     "output_type": "stream",
     "text": [
      "4 4\n",
      "1 1 2 2\n",
      "1 1 1 1 \n",
      "1 1 1 2 \n",
      "1 1 2 2 \n",
      "1 2 2 2 \n",
      "2 2 2 2 \n"
     ]
    }
   ],
   "source": [
    "solution()"
   ]
  }
 ],
 "metadata": {
  "kernelspec": {
   "display_name": "Python 3",
   "language": "python",
   "name": "python3"
  },
  "language_info": {
   "codemirror_mode": {
    "name": "ipython",
    "version": 3
   },
   "file_extension": ".py",
   "mimetype": "text/x-python",
   "name": "python",
   "nbconvert_exporter": "python",
   "pygments_lexer": "ipython3",
   "version": "3.8.8"
  }
 },
 "nbformat": 4,
 "nbformat_minor": 5
}
