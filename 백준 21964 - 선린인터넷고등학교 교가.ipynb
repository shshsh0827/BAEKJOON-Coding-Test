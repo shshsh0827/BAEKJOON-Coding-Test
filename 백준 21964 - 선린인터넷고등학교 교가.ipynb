{
 "cells": [
  {
   "cell_type": "markdown",
   "id": "c37752dc",
   "metadata": {},
   "source": [
    "https://www.acmicpc.net/problem/21964\n",
    "\n",
    "문제\n",
    "드높은 남산 위에 우뚝 선\n",
    "\n",
    "송백은 흰 눈빛에 푸르고\n",
    "\n",
    "옛부터 흘러가는 한가람\n",
    "\n",
    "장 할 손 우리 학원 이룩한\n",
    "\n",
    "굳세고 다함 없는 거룩한 뜻이\n",
    "\n",
    "백이십년 빛난 역사 자랑이로세\n",
    "\n",
    "비바람 몰아쳐도 나가자\n",
    "\n",
    "공들여 쌓은 탑은 빛난다\n",
    "\n",
    "울려라 삼천리에 힘차게\n",
    "\n",
    "세워라 반석 위에\n",
    "\n",
    "선린의터를\n",
    "\n",
    "선린인터넷고등학교 학생들은 이미 잘 알고 있겠지만, 학교 교가를 부를 때는 마지막 5글자인 \"선린의터를\" 부분만 크고 우렁차게 불러야 한다.\n",
    "\n",
    "정휘는 여기에 영감을 받아, 문자열이 주어지면 마지막 5글자만 우렁차게 읽으려고 한다. 공백이 없는 문자열이 주어지면 마지막 5글자만 출력하는 프로그램을 작성해보자.\n",
    "\n",
    "입력\n",
    "첫 번째 줄에 문자열의 길이 이 주어진다.\n",
    "\n",
    "두 번째 줄에는 글자로 이루어진 문자열 가 주어진다.\n",
    "\n",
    "출력\n",
    "의 마지막 5글자를 출력한다.\n",
    "\n",
    "제한\n",
    "\n",
    "문자열 는 알파벳 대문자, 알파벳 소문자, 쉼표(,), 마침표(.)로만 구성되어 있다. 쉼표와 마침표도 각각 한 글자로 센다.\n",
    "\n",
    "예제 입력 1 \n",
    "12\n",
    "Sunrin,Hair.\n",
    "예제 출력 1 \n",
    "Hair."
   ]
  },
  {
   "cell_type": "code",
   "execution_count": 1,
   "id": "73092756",
   "metadata": {},
   "outputs": [
    {
     "name": "stdout",
     "output_type": "stream",
     "text": [
      "12\n",
      "Sunrin,Hair.\n",
      "Hair.\n"
     ]
    }
   ],
   "source": [
    "N = int(input())\n",
    "print(input().strip()[-5:])"
   ]
  }
 ],
 "metadata": {
  "kernelspec": {
   "display_name": "Python 3",
   "language": "python",
   "name": "python3"
  },
  "language_info": {
   "codemirror_mode": {
    "name": "ipython",
    "version": 3
   },
   "file_extension": ".py",
   "mimetype": "text/x-python",
   "name": "python",
   "nbconvert_exporter": "python",
   "pygments_lexer": "ipython3",
   "version": "3.8.8"
  }
 },
 "nbformat": 4,
 "nbformat_minor": 5
}
