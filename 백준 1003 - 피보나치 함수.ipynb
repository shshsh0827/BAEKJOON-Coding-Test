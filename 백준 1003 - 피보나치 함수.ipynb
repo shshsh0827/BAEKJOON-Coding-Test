{
 "cells": [
  {
   "cell_type": "markdown",
   "metadata": {},
   "source": [
    "https://www.acmicpc.net/problem/1003\n",
    "\n",
    "문제\n",
    "다음 소스는 N번째 피보나치 수를 구하는 C++ 함수이다.\n",
    "\n",
    "1\n",
    "2\n",
    "3\n",
    "4\n",
    "5\n",
    "6\n",
    "7\n",
    "8\n",
    "9\n",
    "10\n",
    "11\n",
    "int fibonacci(int n) {\n",
    "    if (n == 0) {\n",
    "        printf(\"0\");\n",
    "        return 0;\n",
    "    } else if (n == 1) {\n",
    "        printf(\"1\");\n",
    "        return 1;\n",
    "    } else {\n",
    "        return fibonacci(n‐1) + fibonacci(n‐2);\n",
    "    }\n",
    "}\n",
    "fibonacci(3)을 호출하면 다음과 같은 일이 일어난다.\n",
    "\n",
    "fibonacci(3)은 fibonacci(2)와 fibonacci(1) (첫 번째 호출)을 호출한다.\n",
    "fibonacci(2)는 fibonacci(1) (두 번째 호출)과 fibonacci(0)을 호출한다.\n",
    "두 번째 호출한 fibonacci(1)은 1을 출력하고 1을 리턴한다.\n",
    "fibonacci(0)은 0을 출력하고, 0을 리턴한다.\n",
    "fibonacci(2)는 fibonacci(1)과 fibonacci(0)의 결과를 얻고, 1을 리턴한다.\n",
    "첫 번째 호출한 fibonacci(1)은 1을 출력하고, 1을 리턴한다.\n",
    "fibonacci(3)은 fibonacci(2)와 fibonacci(1)의 결과를 얻고, 2를 리턴한다.\n",
    "1은 2번 출력되고, 0은 1번 출력된다. N이 주어졌을 때, fibonacci(N)을 호출했을 때, 0과 1이 각각 몇 번 출력되는지 구하는 프로그램을 작성하시오.\n",
    "\n",
    "입력\n",
    "첫째 줄에 테스트 케이스의 개수 T가 주어진다.\n",
    "\n",
    "각 테스트 케이스는 한 줄로 이루어져 있고, N이 주어진다. N은 40보다 작거나 같은 자연수 또는 0이다.\n",
    "\n",
    "출력\n",
    "각 테스트 케이스마다 0이 출력되는 횟수와 1이 출력되는 횟수를 공백으로 구분해서 출력한다.\n",
    "\n",
    "예제 입력 1 \n",
    "3\n",
    "0\n",
    "1\n",
    "3\n",
    "예제 출력 1 \n",
    "1 0\n",
    "0 1\n",
    "1 2"
   ]
  },
  {
   "cell_type": "code",
   "execution_count": 1,
   "metadata": {},
   "outputs": [
    {
     "name": "stdout",
     "output_type": "stream",
     "text": [
      "3\n",
      "0\n",
      "1\n",
      "3\n",
      "1 0\n",
      "0 1\n",
      "1 2\n"
     ]
    }
   ],
   "source": [
    "#import sys; input = sys.stdin.readline\n",
    "testcases = [int(input()) for _ in range(int(input()))]\n",
    "arr = [0, 1]\n",
    "for i in range(2, max(testcases) + 1):\n",
    "    arr.append(arr[i - 2] + arr[i - 1])\n",
    "for testcase in testcases:\n",
    "    if testcase == 0:\n",
    "        print(1, 0)\n",
    "    else:\n",
    "        print(arr[testcase - 1], arr[testcase])"
   ]
  }
 ],
 "metadata": {
  "kernelspec": {
   "display_name": "Python 3",
   "language": "python",
   "name": "python3"
  },
  "language_info": {
   "codemirror_mode": {
    "name": "ipython",
    "version": 3
   },
   "file_extension": ".py",
   "mimetype": "text/x-python",
   "name": "python",
   "nbconvert_exporter": "python",
   "pygments_lexer": "ipython3",
   "version": "3.7.4"
  }
 },
 "nbformat": 4,
 "nbformat_minor": 2
}
