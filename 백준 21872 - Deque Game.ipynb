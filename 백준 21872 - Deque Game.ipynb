{
 "cells": [
  {
   "cell_type": "markdown",
   "metadata": {},
   "source": [
    "https://www.acmicpc.net/problem/21872\n",
    "\n",
    "문제\n",
    "21세기 최고의 게임! 연돌이와 세순이들의 극찬을 받아낸 게임! 세계를 매혹한 게임! 바로 Deque Game입니다.\n",
    "\n",
    "Deque Game은 두 사람이 각자 주어진 블록을 이용해 층을 더 다양한 방식으로 쌓을 수 있는 사람이 승리하는 게임이다. Deque Game의 자세한 규칙은 다음과 같다.\n",
    "\n",
    "총 종류의 블록이 있고, 연돌이와 세순이는 원하는 만큼 블록을 가져다 사용할 수 있다. 블록에는 이상 미만의 정수가 적혀있으며, 블록을 여러 개 쌓아서 스택을 만들 수 있다.\n",
    "게임 시작 전, 연돌이와 세순이는 각자 , 층의 스택을 무수히 많이 받는다. 연돌이가 받는 모든 스택은 동일하다. 세순이가 받는 모든 스택도 동일하다.\n",
    "연돌이와 세순이는 매초 본인이 받은 스택 중 하나를 고른다. 그리고 임의의 블록을 끼워 넣는다. 스택의 가장 아래나, 가장 위, 심지어 중간에도 끼워 넣을 수 있다. 이미 층이 쌓인 스택은 고르지 않는다.\n",
    "충분히 많은 시간이 흐르면, 더 이상 새로운 방법으로 층의 스택을 만들 수 없을 것이다. 이때, 둘 중 더 많은 방식으로 층의 스택을 완성한 사람이 승리한다. 만약 층의 스택을 완성하는 방식의 수가 같다면 승부가 나지 않는다.\n",
    "예를 들어 연돌이는 층짜리 스택을 무수히 많이 받고, 세순이는 층짜리 스택을 무수히 많이 받았다. 총 종류의 블록을 이용해서 층 스택을 쌓는 방법의 수는 가지로 같다. 이 Deque Game은 승부가 나지 않는다.  \n",
    "\n",
    "\n",
    "\n",
    "\n",
    "\n",
    "곧 밤 10시가 되기 때문에 마호가니 아르바이트생 선렬이는 문을 닫을 준비를 해야 한다. 하지만 이 순간에도 연돌이들과 세순이들이 Deque Game을 열심히 하고 있다. 선렬이는 매 게임판을 돌아다니며 Deque Game의 승자를 알려주기로 했다. 재빨리 Deque Game의 승자를 알려주고 게임판을 접지 않으면, 10시에 문을 닫지 못하고 벌금을 내야 할 것이다!\n",
    "\n",
    "입력\n",
    "첫 번째 줄에 마호가니에서 연돌이와 세순이가 진행하는 Deque Game의 수 가 주어진다. ()\n",
    "\n",
    "두 번째 줄에 블록 종류의 개수를 나타내는 와 쌓아야 하는 스택의 층수를 나타내는 이 주어진다. (, )\n",
    "\n",
    "세 번째 줄부터 개의 Deque Game에 대한 정보가 다음과 주어진다.\n",
    "\n",
    "연돌이가 받은 스택의 크기를 나타내는 정수 이 주어진다. ()\n",
    "연돌이가 받은 스택을 나타내는 문자열 가 주어진다. 문자열 의 길이는 이고, 스택을 나타내는 문자열은 최하단 블록부터 주어진다.\n",
    "세순이가 받은 스택의 크기를 나타내는 정수 이 주어진다. ()\n",
    "세순이가 받은 스택을 나타내는 문자열 가 주어진다. 문자열 의 길이는 이고, 스택을 나타내는 문자열은 최하단 블록부터 주어진다.\n",
    "출력\n",
    "개의 줄에 Deque Game의 승자를 출력한다.\n",
    "\n",
    "연돌이가 승리하면 Y를, 세순이가 승리하면 S를 출력한다. 만약 승부가 나지 않는다면 YS를 출력한다.\n",
    "\n",
    "예제 입력 1 \n",
    "1\n",
    "3 3\n",
    "2\n",
    "00\n",
    "2\n",
    "22\n",
    "예제 출력 1 \n",
    "YS\n",
    "연돌이는 가지 방식으로 층 스택을 만들 수 있고, 세순이는 가지 방식으로 층 스택을 만들 수 있다.\n",
    "\n",
    "연돌이 : \n",
    "세순이 : \n",
    "예제 입력 2 \n",
    "2\n",
    "3 3\n",
    "1\n",
    "0\n",
    "3\n",
    "012\n",
    "3\n",
    "012\n",
    "2\n",
    "22\n",
    "예제 출력 2 \n",
    "Y\n",
    "S\n",
    "게임 1\n",
    "\n",
    "연돌이는 가지 방식으로 층 스택을 만들 수 있고, 세순이는 가지 방식으로 층 스택을 만들 수 있다.\n",
    "\n",
    "따라서 연돌이가 Deque Game에서 승리한다.\n",
    "\n",
    "연돌이 : \n",
    "세순이 : \n",
    "게임 2\n",
    "\n",
    "연돌이는 가지 방식으로 층 스택을 만들 수 있고, 세순이는 가지 방식으로 층 스택을 만들 수 있다.\n",
    "\n",
    "따라서 세순이가 Deque Game에서 승리한다.\n",
    "\n",
    "연돌이 : \n",
    "세순이 : "
   ]
  },
  {
   "cell_type": "code",
   "execution_count": 1,
   "metadata": {},
   "outputs": [],
   "source": [
    "def solution():\n",
    "    #import sys; input = sys.stdin.readline\n",
    "    G = int(input())\n",
    "    K, L = map(int, input().split())\n",
    "    for _ in range(G):\n",
    "        N = int(input())\n",
    "        S = input().strip()\n",
    "        M = int(input())\n",
    "        T = input().strip()\n",
    "        if K == 1:\n",
    "            print('YS')\n",
    "        elif N < M:\n",
    "            print('Y')\n",
    "        elif M < N:\n",
    "            print('S')\n",
    "        else:\n",
    "            print('YS')"
   ]
  },
  {
   "cell_type": "code",
   "execution_count": 2,
   "metadata": {},
   "outputs": [
    {
     "name": "stdout",
     "output_type": "stream",
     "text": [
      "1\n",
      "3 3\n",
      "2\n",
      "00\n",
      "2\n",
      "22\n",
      "YS\n"
     ]
    }
   ],
   "source": [
    "solution()"
   ]
  },
  {
   "cell_type": "code",
   "execution_count": 3,
   "metadata": {},
   "outputs": [
    {
     "name": "stdout",
     "output_type": "stream",
     "text": [
      "2\n",
      "3 3\n",
      "1\n",
      "0\n",
      "3\n",
      "012\n",
      "Y\n",
      "3\n",
      "012\n",
      "2\n",
      "22\n",
      "S\n"
     ]
    }
   ],
   "source": [
    "solution()"
   ]
  }
 ],
 "metadata": {
  "kernelspec": {
   "display_name": "Python 3",
   "language": "python",
   "name": "python3"
  },
  "language_info": {
   "codemirror_mode": {
    "name": "ipython",
    "version": 3
   },
   "file_extension": ".py",
   "mimetype": "text/x-python",
   "name": "python",
   "nbconvert_exporter": "python",
   "pygments_lexer": "ipython3",
   "version": "3.7.4"
  }
 },
 "nbformat": 4,
 "nbformat_minor": 2
}
