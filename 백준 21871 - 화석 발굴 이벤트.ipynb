{
 "cells": [
  {
   "cell_type": "markdown",
   "metadata": {},
   "source": [
    "https://www.acmicpc.net/problem/21871\n",
    "\n",
    "문제\n",
    "\n",
    "\n",
    "[그림] , 인 운동장 상태\n",
    "\n",
    "국렬이는 연세대학교 신입생 프로그래밍 경진대회를 개최한 기념으로 공학관 근처 운동장에서 화석 발굴 이벤트를 진행하려고 했다. 화석 발굴 이벤트는 공학관 근처 운동장에 묻힌 화석을 찾는 이벤트이다. 그러나 공학관 내의 실험으로 인해 운동장의 일부가 인체에 매우 위험한 물질로 오염되었다.\n",
    "\n",
    "이로 인해 국렬이는 화석 발굴 이벤트의 일정을 미루고, 오염되지 않은 운동장의 흙을 다른 곳으로 퍼가서 이벤트를 진행하려고 한다. 국렬이는 외부 업체에게 이를 맡길 계획이기 때문에 흙을 옮기는 비용을 미리 알아야 했고, 이를 계산하기 위해서는 오염되지 않은 흙이 있는 칸 수를 알아야 했다.\n",
    "\n",
    "운동장은 의 격자로 구성되어 있으며, 맨 왼쪽 아래 칸이 , 맨 오른쪽 위 칸이 이다. 만약 어떤 , 가 를 만족한다면 에 있는 흙은 오염되지 않은 깨끗한 흙이고, 그렇지 않으면 오염된 흙이다. 예를 들어, [그림]과 같이 운동장의 상태가 , 로 주어진다면, 오염되지 않은 흙이 있는 칸 수는 총 6칸이다.\n",
    "\n",
    "과 가 주어질 때, 오염되지 않은 흙이 있는 칸 수를 구해보자.\n",
    "\n",
    "입력\n",
    "첫 번째 줄에 과 가 주어진다. ()\n",
    "\n",
    "출력\n",
    "오염되지 않은 흙이 있는 칸 수를 출력한다.\n",
    "\n",
    "예제 입력 1 \n",
    "1 1\n",
    "예제 출력 1 \n",
    "5\n",
    "예제 입력 2 \n",
    "1 2\n",
    "예제 출력 2 \n",
    "6\n",
    "예제 입력 3 \n",
    "1 3\n",
    "예제 출력 3 \n",
    "9"
   ]
  },
  {
   "cell_type": "code",
   "execution_count": 1,
   "metadata": {},
   "outputs": [],
   "source": [
    "def solution():\n",
    "    n, k = map(int, input().split())\n",
    "    side = n * 2 + 1\n",
    "    if side <= k:\n",
    "        print(side ** 2)\n",
    "    elif k % 2:\n",
    "        print(side ** 2 - (side - k + 2) * (side - k) // 2)\n",
    "    else:\n",
    "        print(side ** 2 - k + 1 - (side - k + 1) * ((side - k) // 2 + 1))"
   ]
  },
  {
   "cell_type": "code",
   "execution_count": 2,
   "metadata": {},
   "outputs": [
    {
     "name": "stdout",
     "output_type": "stream",
     "text": [
      "1 1\n",
      "5\n"
     ]
    }
   ],
   "source": [
    "solution()"
   ]
  },
  {
   "cell_type": "code",
   "execution_count": 3,
   "metadata": {},
   "outputs": [
    {
     "name": "stdout",
     "output_type": "stream",
     "text": [
      "1 2\n",
      "6\n"
     ]
    }
   ],
   "source": [
    "solution()"
   ]
  },
  {
   "cell_type": "code",
   "execution_count": 4,
   "metadata": {},
   "outputs": [
    {
     "name": "stdout",
     "output_type": "stream",
     "text": [
      "1 3\n",
      "9\n"
     ]
    }
   ],
   "source": [
    "solution()"
   ]
  }
 ],
 "metadata": {
  "kernelspec": {
   "display_name": "Python 3",
   "language": "python",
   "name": "python3"
  },
  "language_info": {
   "codemirror_mode": {
    "name": "ipython",
    "version": 3
   },
   "file_extension": ".py",
   "mimetype": "text/x-python",
   "name": "python",
   "nbconvert_exporter": "python",
   "pygments_lexer": "ipython3",
   "version": "3.7.4"
  }
 },
 "nbformat": 4,
 "nbformat_minor": 2
}
