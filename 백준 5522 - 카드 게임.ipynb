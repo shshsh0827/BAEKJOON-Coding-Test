{
 "cells": [
  {
   "cell_type": "markdown",
   "id": "7885f9ce",
   "metadata": {},
   "source": [
    "https://www.acmicpc.net/problem/5522\n",
    "\n",
    "문제\n",
    "JOI군은 카드 게임을 하고 있다. 이 카드 게임은 5회의 게임으로 진행되며, 그 총점으로 승부를 하는 게임이다.\n",
    "\n",
    "JOI군의 각 게임의 득점을 나타내는 정수가 주어졌을 때, JOI군의 총점을 구하는 프로그램을 작성하라.\n",
    "\n",
    "입력\n",
    "표준 입력에서 다음과 같은 데이터를 읽어온다.\n",
    "\n",
    "i 번째 줄(1 ≤ i ≤ 5)에는 정수 Ai가 적혀있다. 이것은 i번째 게임에서의 JOI군의 점수를 나타낸다.\n",
    "출력\n",
    "표준 출력에 JOI군의 총점을 한 줄로 출력하라.\n",
    "\n",
    "제한\n",
    "0 ≤ Ai ≤ 100.\n",
    "서브태스크\n",
    "번호\t배점\t제한\n",
    "1\t20\t\n",
    "0 ≤ Ai ≤ 10.\n",
    "\n",
    "2\t80\t\n",
    "추가적인 제약 조건이 없다.\n",
    "\n",
    "예제 입력 1 \n",
    "1\n",
    "2\n",
    "3\n",
    "4\n",
    "5\n",
    "예제 출력 1 \n",
    "15\n",
    "예제 입력 2 \n",
    "0\n",
    "100\n",
    "0\n",
    "10\n",
    "100\n",
    "예제 출력 2 \n",
    "210"
   ]
  },
  {
   "cell_type": "code",
   "execution_count": 1,
   "id": "d49e5429",
   "metadata": {},
   "outputs": [],
   "source": [
    "def solution():\n",
    "    print(sum([int(input()) for _ in range(5)]))"
   ]
  },
  {
   "cell_type": "code",
   "execution_count": 2,
   "id": "e073b3ac",
   "metadata": {},
   "outputs": [
    {
     "name": "stdout",
     "output_type": "stream",
     "text": [
      "1\n",
      "2\n",
      "3\n",
      "4\n",
      "5\n",
      "15\n"
     ]
    }
   ],
   "source": [
    "solution()"
   ]
  },
  {
   "cell_type": "code",
   "execution_count": 3,
   "id": "fa9a79d6",
   "metadata": {},
   "outputs": [
    {
     "name": "stdout",
     "output_type": "stream",
     "text": [
      "0\n",
      "100\n",
      "0\n",
      "10\n",
      "100\n",
      "210\n"
     ]
    }
   ],
   "source": [
    "solution()"
   ]
  }
 ],
 "metadata": {
  "kernelspec": {
   "display_name": "Python 3",
   "language": "python",
   "name": "python3"
  },
  "language_info": {
   "codemirror_mode": {
    "name": "ipython",
    "version": 3
   },
   "file_extension": ".py",
   "mimetype": "text/x-python",
   "name": "python",
   "nbconvert_exporter": "python",
   "pygments_lexer": "ipython3",
   "version": "3.8.8"
  }
 },
 "nbformat": 4,
 "nbformat_minor": 5
}
