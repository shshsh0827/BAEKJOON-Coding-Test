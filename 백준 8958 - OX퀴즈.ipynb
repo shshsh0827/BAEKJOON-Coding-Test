{
 "cells": [
  {
   "cell_type": "markdown",
   "id": "cf84146e",
   "metadata": {},
   "source": [
    "https://www.acmicpc.net/problem/8958\n",
    "\n",
    "문제\n",
    "\"OOXXOXXOOO\"와 같은 OX퀴즈의 결과가 있다. O는 문제를 맞은 것이고, X는 문제를 틀린 것이다. 문제를 맞은 경우 그 문제의 점수는 그 문제까지 연속된 O의 개수가 된다. 예를 들어, 10번 문제의 점수는 3이 된다.\n",
    "\n",
    "\"OOXXOXXOOO\"의 점수는 1+2+0+0+1+0+0+1+2+3 = 10점이다.\n",
    "\n",
    "OX퀴즈의 결과가 주어졌을 때, 점수를 구하는 프로그램을 작성하시오.\n",
    "\n",
    "입력\n",
    "첫째 줄에 테스트 케이스의 개수가 주어진다. 각 테스트 케이스는 한 줄로 이루어져 있고, 길이가 0보다 크고 80보다 작은 문자열이 주어진다. 문자열은 O와 X만으로 이루어져 있다.\n",
    "\n",
    "출력\n",
    "각 테스트 케이스마다 점수를 출력한다.\n",
    "\n",
    "예제 입력 1 \n",
    "5\n",
    "OOXXOXXOOO\n",
    "OOXXOOXXOO\n",
    "OXOXOXOXOXOXOX\n",
    "OOOOOOOOOO\n",
    "OOOOXOOOOXOOOOX\n",
    "예제 출력 1 \n",
    "10\n",
    "9\n",
    "7\n",
    "55\n",
    "30"
   ]
  },
  {
   "cell_type": "code",
   "execution_count": 1,
   "id": "2423fc29",
   "metadata": {
    "scrolled": true
   },
   "outputs": [
    {
     "name": "stdout",
     "output_type": "stream",
     "text": [
      "5\n",
      "OOXXOXXOOO\n",
      "10\n",
      "OOXXOOXXOO\n",
      "9\n",
      "OXOXOXOXOXOXOX\n",
      "7\n",
      "OOOOOOOOOO\n",
      "55\n",
      "OOOOXOOOOXOOOOX\n",
      "30\n"
     ]
    }
   ],
   "source": [
    "#import sys; input = sys.stdin.readline\n",
    "from functools import reduce\n",
    "for _ in range(int(input())):\n",
    "    print(sum(map(lambda x: reduce(lambda x, y: x + y, range(1, len(x) + 1)), input().strip().replace('X', ' ').split())))"
   ]
  }
 ],
 "metadata": {
  "kernelspec": {
   "display_name": "Python 3",
   "language": "python",
   "name": "python3"
  },
  "language_info": {
   "codemirror_mode": {
    "name": "ipython",
    "version": 3
   },
   "file_extension": ".py",
   "mimetype": "text/x-python",
   "name": "python",
   "nbconvert_exporter": "python",
   "pygments_lexer": "ipython3",
   "version": "3.8.8"
  }
 },
 "nbformat": 4,
 "nbformat_minor": 5
}
