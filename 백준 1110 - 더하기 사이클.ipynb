{
 "cells": [
  {
   "cell_type": "markdown",
   "id": "d4ac1ecc",
   "metadata": {},
   "source": [
    "https://www.acmicpc.net/problem/1110\n",
    "\n",
    "문제\n",
    "0보다 크거나 같고, 99보다 작거나 같은 정수가 주어질 때 다음과 같은 연산을 할 수 있다. 먼저 주어진 수가 10보다 작다면 앞에 0을 붙여 두 자리 수로 만들고, 각 자리의 숫자를 더한다. 그 다음, 주어진 수의 가장 오른쪽 자리 수와 앞에서 구한 합의 가장 오른쪽 자리 수를 이어 붙이면 새로운 수를 만들 수 있다. 다음 예를 보자.\n",
    "\n",
    "26부터 시작한다. 2+6 = 8이다. 새로운 수는 68이다. 6+8 = 14이다. 새로운 수는 84이다. 8+4 = 12이다. 새로운 수는 42이다. 4+2 = 6이다. 새로운 수는 26이다.\n",
    "\n",
    "위의 예는 4번만에 원래 수로 돌아올 수 있다. 따라서 26의 사이클의 길이는 4이다.\n",
    "\n",
    "N이 주어졌을 때, N의 사이클의 길이를 구하는 프로그램을 작성하시오.\n",
    "\n",
    "입력\n",
    "첫째 줄에 N이 주어진다. N은 0보다 크거나 같고, 99보다 작거나 같은 정수이다.\n",
    "\n",
    "출력\n",
    "첫째 줄에 N의 사이클 길이를 출력한다.\n",
    "\n",
    "예제 입력 1 \n",
    "26\n",
    "예제 출력 1 \n",
    "4\n",
    "예제 입력 2 \n",
    "55\n",
    "예제 출력 2 \n",
    "3\n",
    "예제 입력 3 \n",
    "1\n",
    "예제 출력 3 \n",
    "60\n",
    "예제 입력 4 \n",
    "0\n",
    "예제 출력 4 \n",
    "1"
   ]
  },
  {
   "cell_type": "code",
   "execution_count": 1,
   "id": "9d3d2b25",
   "metadata": {},
   "outputs": [],
   "source": [
    "def solution():\n",
    "    N = input()\n",
    "    M = N\n",
    "    cycle = 0\n",
    "    while True:\n",
    "        if len(M) < 2:\n",
    "            M = '0' + M\n",
    "        M = M[-1] + str(eval(M[0] + '+' + M[-1]))[-1]\n",
    "        cycle += 1\n",
    "        if int(M) == int(N):\n",
    "            break\n",
    "    print(cycle)"
   ]
  },
  {
   "cell_type": "code",
   "execution_count": 2,
   "id": "98b22454",
   "metadata": {},
   "outputs": [
    {
     "name": "stdout",
     "output_type": "stream",
     "text": [
      "26\n",
      "4\n"
     ]
    }
   ],
   "source": [
    "solution()"
   ]
  },
  {
   "cell_type": "code",
   "execution_count": 3,
   "id": "39ba4f7e",
   "metadata": {},
   "outputs": [
    {
     "name": "stdout",
     "output_type": "stream",
     "text": [
      "55\n",
      "3\n"
     ]
    }
   ],
   "source": [
    "solution()"
   ]
  },
  {
   "cell_type": "code",
   "execution_count": 4,
   "id": "21fcfe2f",
   "metadata": {},
   "outputs": [
    {
     "name": "stdout",
     "output_type": "stream",
     "text": [
      "1\n",
      "60\n"
     ]
    }
   ],
   "source": [
    "solution()"
   ]
  },
  {
   "cell_type": "code",
   "execution_count": 5,
   "id": "8bbb124f",
   "metadata": {},
   "outputs": [
    {
     "name": "stdout",
     "output_type": "stream",
     "text": [
      "0\n",
      "1\n"
     ]
    }
   ],
   "source": [
    "solution()"
   ]
  }
 ],
 "metadata": {
  "kernelspec": {
   "display_name": "Python 3",
   "language": "python",
   "name": "python3"
  },
  "language_info": {
   "codemirror_mode": {
    "name": "ipython",
    "version": 3
   },
   "file_extension": ".py",
   "mimetype": "text/x-python",
   "name": "python",
   "nbconvert_exporter": "python",
   "pygments_lexer": "ipython3",
   "version": "3.8.8"
  }
 },
 "nbformat": 4,
 "nbformat_minor": 5
}
