{
 "cells": [
  {
   "cell_type": "markdown",
   "id": "fc9fdd1d",
   "metadata": {},
   "source": [
    "https://www.acmicpc.net/problem/21756\n",
    "\n",
    "문제\n",
    "개의 칸에  부터  까지의 수들이 왼쪽부터 순서대로 저장되어 있다. 또, 각 칸은 왼쪽부터  부터 까지 순서대로 번호가 붙어 있다. 즉, 처음에는 각 칸의 번호와 각 칸에 저장된 수가 같다.\n",
    "\n",
    "아래 그림은 일 때의 예이다.\n",
    "\n",
    "\n",
    "\n",
    "다음 작업을 수가 정확히 하나가 남을 때 까지 반복한다.\n",
    "\n",
    "(A) 홀수번 칸의 수들을 모두 지운다 (B) 남은 수들을 왼쪽으로 모은다.\n",
    "\n",
    "제일 첫 작업의 (A) 단계가 끝나면 칸들의 상태는 다음과 같을 것이다.\n",
    "\n",
    "\n",
    "\n",
    "(B) 단계가 끝나면 다음과 같을 것이다.\n",
    "\n",
    "\n",
    "\n",
    "두번째 작업이 진행되면 칸들은 아래 두 그림과 같이 바뀔 것이다.\n",
    "\n",
    "\n",
    "\n",
    "\n",
    "\n",
    "이제 수가 하나 남았으므로 작업은 더 이상 진행되지 않는다.\n",
    "\n",
    "을 입력으로 받아 위와 같이 작업을 진행했을 때 마지막으로 남는 수를 계산하는 프로그램을 작성하라.\n",
    "\n",
    "입력\n",
    "첫 번째 줄에 정수 이 주어진다.\n",
    "\n",
    "출력\n",
    "마지막으로 남는 수를 한 줄에 출력한다.\n",
    "\n",
    "제한\n",
    "서브태스크\n",
    "번호\t배점\t제한\n",
    "1\t5\t\n",
    "입출력 예제만이 주어짐.\n",
    "\n",
    "2\t15\t\n",
    "\n",
    "3\t30\t\n",
    "은 1, 2, 4, 8, 16, 32, 64 중 하나이다. 즉, 은 1이거나, 2이거나, 2를 여러 번 곱한 수 중 하나이다.\n",
    "\n",
    "4\t50\t\n",
    " 추가 제약 조건 없음\n",
    "\n",
    "예제 입력 1 \n",
    "1\n",
    "예제 출력 1 \n",
    "1\n",
    "예제 입력 2 \n",
    "2\n",
    "예제 출력 2 \n",
    "2\n",
    "예제 입력 3 \n",
    "5\n",
    "예제 출력 3 \n",
    "4"
   ]
  },
  {
   "cell_type": "code",
   "execution_count": 1,
   "id": "f3a6ddd0",
   "metadata": {},
   "outputs": [],
   "source": [
    "def solution():\n",
    "    from math import log2\n",
    "    print(2 ** int(log2(int(input()))))"
   ]
  },
  {
   "cell_type": "code",
   "execution_count": 2,
   "id": "5ebd65d5",
   "metadata": {},
   "outputs": [
    {
     "name": "stdout",
     "output_type": "stream",
     "text": [
      "1\n",
      "1\n"
     ]
    }
   ],
   "source": [
    "solution()"
   ]
  },
  {
   "cell_type": "code",
   "execution_count": 3,
   "id": "6fc612ad",
   "metadata": {},
   "outputs": [
    {
     "name": "stdout",
     "output_type": "stream",
     "text": [
      "2\n",
      "2\n"
     ]
    }
   ],
   "source": [
    "solution()"
   ]
  },
  {
   "cell_type": "code",
   "execution_count": 4,
   "id": "1ff58b71",
   "metadata": {},
   "outputs": [
    {
     "name": "stdout",
     "output_type": "stream",
     "text": [
      "5\n",
      "4\n"
     ]
    }
   ],
   "source": [
    "solution()"
   ]
  }
 ],
 "metadata": {
  "kernelspec": {
   "display_name": "Python 3",
   "language": "python",
   "name": "python3"
  },
  "language_info": {
   "codemirror_mode": {
    "name": "ipython",
    "version": 3
   },
   "file_extension": ".py",
   "mimetype": "text/x-python",
   "name": "python",
   "nbconvert_exporter": "python",
   "pygments_lexer": "ipython3",
   "version": "3.8.8"
  }
 },
 "nbformat": 4,
 "nbformat_minor": 5
}
