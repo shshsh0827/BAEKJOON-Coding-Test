{
 "cells": [
  {
   "cell_type": "markdown",
   "id": "0556546f",
   "metadata": {},
   "source": [
    "https://www.acmicpc.net/problem/1193\n",
    "\n",
    "문제\n",
    "무한히 큰 배열에 다음과 같이 분수들이 적혀있다.\n",
    "\n",
    "1/1\t1/2\t1/3\t1/4\t1/5\t…\n",
    "2/1\t2/2\t2/3\t2/4\t…\t…\n",
    "3/1\t3/2\t3/3\t…\t…\t…\n",
    "4/1\t4/2\t…\t…\t…\t…\n",
    "5/1\t…\t…\t…\t…\t…\n",
    "…\t…\t…\t…\t…\t…\n",
    "이와 같이 나열된 분수들을 1/1 -> 1/2 -> 2/1 -> 3/1 -> 2/2 -> … 과 같은 지그재그 순서로 차례대로 1번, 2번, 3번, 4번, 5번, … 분수라고 하자.\n",
    "\n",
    "X가 주어졌을 때, X번째 분수를 구하는 프로그램을 작성하시오.\n",
    "\n",
    "입력\n",
    "첫째 줄에 X(1 ≤ X ≤ 10,000,000)가 주어진다.\n",
    "\n",
    "출력\n",
    "첫째 줄에 분수를 출력한다.\n",
    "\n",
    "예제 입력 1 \n",
    "14\n",
    "예제 출력 1 \n",
    "2/4"
   ]
  },
  {
   "cell_type": "code",
   "execution_count": 1,
   "id": "b49fd8d0",
   "metadata": {},
   "outputs": [
    {
     "name": "stdout",
     "output_type": "stream",
     "text": [
      "14\n",
      "2/4\n"
     ]
    }
   ],
   "source": [
    "X = int(input())\n",
    "i = 0\n",
    "while True:\n",
    "    X -= i\n",
    "    if X <= i + 1:\n",
    "        break\n",
    "    i += 1\n",
    "if i % 2:\n",
    "    print(str(X) + '/' + str(i + 2- X))\n",
    "else:\n",
    "    print(str(i + 2- X) + '/' + str(X))"
   ]
  }
 ],
 "metadata": {
  "kernelspec": {
   "display_name": "Python 3",
   "language": "python",
   "name": "python3"
  },
  "language_info": {
   "codemirror_mode": {
    "name": "ipython",
    "version": 3
   },
   "file_extension": ".py",
   "mimetype": "text/x-python",
   "name": "python",
   "nbconvert_exporter": "python",
   "pygments_lexer": "ipython3",
   "version": "3.8.8"
  }
 },
 "nbformat": 4,
 "nbformat_minor": 5
}
