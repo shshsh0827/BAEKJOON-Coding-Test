{
 "cells": [
  {
   "cell_type": "markdown",
   "id": "8df83da2",
   "metadata": {},
   "source": [
    "https://www.acmicpc.net/problem/21965\n",
    "\n",
    "문제\n",
    "드높은 남산 위에 우뚝 선\n",
    "\n",
    "(중략)\n",
    "\n",
    "세워라 반석 위에\n",
    "\n",
    "선린의 터를\n",
    "\n",
    "어떤 수열 가 산이라는 것은, 수열이 어떤 지점 이전까지는 증가하다가, 해당 지점 이후부터는 감소하는 것을 의미한다. 다시 말해, 인 에 대해 이고 인 에 대해 를 만족하는  이하의 자연수 가 존재한다는 것을 의미한다.\n",
    "\n",
    "예를 들어 1 2 3 4 2는 4번째 수까지는 증가하는 수열이고, 4번째 수 이후로는 감소하는 수열이므로 산이다(). 1 2 3 4 5 역시 산이다(). 하지만 1 2 2 3 1은 산이 아니다.\n",
    "\n",
    "입력으로 주어지는 수열이 산인지 산이 아닌지 판별하는 프로그램을 작성하자.\n",
    "\n",
    "입력\n",
    "첫 번째 줄에는 수열의 길이 이 주어진다.\n",
    "\n",
    "두 번째 줄에는 이 공백으로 구분되어 주어진다.\n",
    "\n",
    "출력\n",
    "입력으로 주어진 수열 가 산이면 \"YES\"를, 산이 아니면 \"NO\"를 출력한다.\n",
    "\n",
    "제한\n",
    "\n",
    "\n",
    "예제 입력 1 \n",
    "5\n",
    "1 2 3 4 2\n",
    "예제 출력 1 \n",
    "YES\n",
    "예제 입력 2 \n",
    "5\n",
    "1 2 3 4 5\n",
    "예제 출력 2 \n",
    "YES\n",
    "예제 입력 3 \n",
    "5\n",
    "1 2 2 3 1\n",
    "예제 출력 3 \n",
    "NO"
   ]
  },
  {
   "cell_type": "code",
   "execution_count": 1,
   "id": "cd274415",
   "metadata": {},
   "outputs": [],
   "source": [
    "def solution():\n",
    "    N = int(input())\n",
    "    A = list(map(int, input().split()))\n",
    "    sign = 1\n",
    "    before = 0\n",
    "    for n in A:\n",
    "        if before == n:\n",
    "            print('NO')\n",
    "            break\n",
    "        if sign == 1:\n",
    "            if before > n:\n",
    "                sign ^= 1\n",
    "        else:\n",
    "            if before < n:\n",
    "                print('NO')\n",
    "                break\n",
    "        before = n\n",
    "    else:\n",
    "        print('YES')"
   ]
  },
  {
   "cell_type": "code",
   "execution_count": 2,
   "id": "289ad392",
   "metadata": {},
   "outputs": [
    {
     "name": "stdout",
     "output_type": "stream",
     "text": [
      "5\n",
      "1 2 3 4 2\n",
      "YES\n"
     ]
    }
   ],
   "source": [
    "solution()"
   ]
  },
  {
   "cell_type": "code",
   "execution_count": 3,
   "id": "558d84c9",
   "metadata": {},
   "outputs": [
    {
     "name": "stdout",
     "output_type": "stream",
     "text": [
      "5\n",
      "1 2 3 4 5\n",
      "YES\n"
     ]
    }
   ],
   "source": [
    "solution()"
   ]
  },
  {
   "cell_type": "code",
   "execution_count": 4,
   "id": "0f3afd28",
   "metadata": {},
   "outputs": [
    {
     "name": "stdout",
     "output_type": "stream",
     "text": [
      "5\n",
      "1 2 2 3 1\n",
      "NO\n"
     ]
    }
   ],
   "source": [
    "solution()"
   ]
  }
 ],
 "metadata": {
  "kernelspec": {
   "display_name": "Python 3",
   "language": "python",
   "name": "python3"
  },
  "language_info": {
   "codemirror_mode": {
    "name": "ipython",
    "version": 3
   },
   "file_extension": ".py",
   "mimetype": "text/x-python",
   "name": "python",
   "nbconvert_exporter": "python",
   "pygments_lexer": "ipython3",
   "version": "3.8.8"
  }
 },
 "nbformat": 4,
 "nbformat_minor": 5
}
