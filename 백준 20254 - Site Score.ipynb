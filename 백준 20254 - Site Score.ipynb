{
 "cells": [
  {
   "cell_type": "markdown",
   "id": "b05b834a",
   "metadata": {},
   "source": [
    "https://www.acmicpc.net/problem/20254\n",
    "\n",
    "문제\n",
    "Teams from variaous universities compete in ICPC regional contests for tickets to the ICPC World Finals. The number of tickets allocated to every regional contest may be different. The allocation method in our super region, Asia Pacific, is based on a parameter called site score.\n",
    "\n",
    "Site scores will only count teams and universities solving at least one problem, in the regional contest or its preliminary contest TOPC. In 2020, the formula for calculating the site score of the Taipei-Hsinchu regional contest is much simpler than past years. Let\n",
    "\n",
    "UR be the number of universities solving at least one problem in the regional contest.\n",
    "TR be the number of teams solving at least one problem in the regional contest.\n",
    "UO be the number of universities solving at least one problem in TOPC.\n",
    "TO be the number of teams solving at least one problem in TOPC.\n",
    "The site score of 2020 Taipei-Hsinchu regional contest will be 56UR + 24TR + 14UO + 6TO. Please write a program to compute the site score of the 2020 Taipei-Hsinchu regional contest.\n",
    "\n",
    "입력\n",
    "The input has only one line containing four blank-separated positive integers UR, TR, UO, and TO.\n",
    "\n",
    "출력\n",
    "Output the site score of the 2020 Taipei-Hsinchu regional contest.\n",
    "\n",
    "제한\n",
    "0 < UR ≤ TR ≤ 120\n",
    "0 < UO ≤ TO ≤ 1000\n",
    "예제 입력 1 \n",
    "1 1 1 1\n",
    "예제 출력 1 \n",
    "100\n",
    "예제 입력 2 \n",
    "1 10 100 1000\n",
    "예제 출력 2 \n",
    "7696"
   ]
  },
  {
   "cell_type": "code",
   "execution_count": 1,
   "id": "ed9b3a83",
   "metadata": {},
   "outputs": [],
   "source": [
    "def solution():\n",
    "    UR, TR, UO, TO = map(int, input().split())\n",
    "    print(56 * UR + 24 * TR + 14 * UO + 6 * TO)"
   ]
  },
  {
   "cell_type": "code",
   "execution_count": 2,
   "id": "9a075783",
   "metadata": {},
   "outputs": [
    {
     "name": "stdout",
     "output_type": "stream",
     "text": [
      "1 1 1 1\n",
      "100\n"
     ]
    }
   ],
   "source": [
    "solution()"
   ]
  },
  {
   "cell_type": "code",
   "execution_count": 3,
   "id": "3b457180",
   "metadata": {},
   "outputs": [
    {
     "name": "stdout",
     "output_type": "stream",
     "text": [
      "1 10 100 1000\n",
      "7696\n"
     ]
    }
   ],
   "source": [
    "solution()"
   ]
  }
 ],
 "metadata": {
  "kernelspec": {
   "display_name": "Python 3",
   "language": "python",
   "name": "python3"
  },
  "language_info": {
   "codemirror_mode": {
    "name": "ipython",
    "version": 3
   },
   "file_extension": ".py",
   "mimetype": "text/x-python",
   "name": "python",
   "nbconvert_exporter": "python",
   "pygments_lexer": "ipython3",
   "version": "3.8.8"
  }
 },
 "nbformat": 4,
 "nbformat_minor": 5
}
