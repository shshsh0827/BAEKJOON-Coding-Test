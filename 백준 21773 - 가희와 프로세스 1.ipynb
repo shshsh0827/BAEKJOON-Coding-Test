{
 "cells": [
  {
   "cell_type": "markdown",
   "id": "d95360e9",
   "metadata": {},
   "source": [
    "https://www.acmicpc.net/problem/21773\n",
    "\n",
    "문제\n",
    "가희는 스케쥴러를 구현하라는 과제를 받았습니다. 스케쥴러가 실행시킬 프로세스를 선택하는 기준은 아래와 같습니다.\n",
    "\n",
    "우선 순위 값이 제일 큰 프로세스\n",
    "우선 순위 값이 제일 큰 프로세스가 여러 개라면, id가 가장 작은 프로세스\n",
    "가희가 만든 스케쥴러는 다음 알고리즘으로 실행됩니다.\n",
    "\n",
    "실행시킬 프로세스를 기준에 따라 선택합니다. 선택된 프로세스의 id를 ids라 합니다. ids를 실행시킵니다.\n",
    "1초가 지난 후, 프로세스 id가 ids인 프로세스를 제외한 나머지 프로세스들의 우선 순위가 1 상승합니다. \n",
    "프로세스 id가 ids 인 프로세스의 실행을 마치는 데 필요한 시간은 1 감소합니다.\n",
    "실행 시간이 남은 프로세스가 있다면 1로 돌아가고, 그렇지 않으면 종료합니다.\n",
    "동시에 실행되는 프로세스는 1개이고, 1초일 때 가희가 만든 스케쥴러는 최초로 선택한 프로세스를 실행시키는 작업을 합니다.\n",
    "\n",
    "가희는 1초일 때 부터 T초일 때 까지, 스케쥴러가 선택한 프로세스의 id를 알고 싶습니다. 가희를 도와주세요.\n",
    "\n",
    "입력\n",
    "첫 번째 줄에 T, n이 주어집니다.\n",
    "\n",
    "두 번째 줄 부터 n+1번째 줄까지 다음과 같은 형식으로 주어집니다.\n",
    "\n",
    "Ai Bi Ci\n",
    "\n",
    "이것은 i번째 process의 id가 Ai이고, 프로세스 id가 실행을 마치는 데 필요한 시간이 Bi초이고, 초기 우선 순위가 Ci임을 의미합니다.\n",
    "\n",
    "출력\n",
    "T개의 정수를 T개의 줄에 출력합니다.\n",
    "\n",
    "i번째 줄에는 가희가 만든 스케쥴러가 i초가 되었을 때 선택한 프로세스의 id를 출력해 주세요.\n",
    "\n",
    "제한\n",
    "1 ≤ n ≤ 105\n",
    "1 ≤ T ≤ min(프로세스들의 실행 시간 총 합, 106)\n",
    "1 ≤ Ai, Bi, Ci ≤ 106\n",
    "문제에 주어지는 프로세스의 id 값은 모두 다릅니다.\n",
    "주어지는 값들은 모두 자연수입니다.\n",
    "예제 입력 1 \n",
    "8 2\n",
    "1 5 1\n",
    "2 5 1\n",
    "예제 출력 1 \n",
    "1\n",
    "2\n",
    "1\n",
    "2\n",
    "1\n",
    "2\n",
    "1\n",
    "2\n",
    "1초일 때 부터 4초일 때 상황을 그림으로 나타내면 아래와 같습니다. 아래 그림에서 주황색은 특정 시점에 스케쥴러가 선택한 프로세스를 의미합니다.\n",
    "\n",
    " \n",
    "\n",
    "\n",
    "\n",
    "예제 입력 2 \n",
    "10 2\n",
    "1 10 1000\n",
    "2 10 1\n",
    "예제 출력 2 \n",
    "1\n",
    "1\n",
    "1\n",
    "1\n",
    "1\n",
    "1\n",
    "1\n",
    "1\n",
    "1\n",
    "1"
   ]
  },
  {
   "cell_type": "code",
   "execution_count": 1,
   "id": "2037a7b7",
   "metadata": {},
   "outputs": [],
   "source": [
    "def solution():\n",
    "    import heapq\n",
    "    #import sys; input = sys.stdin.readline\n",
    "\n",
    "    T, n = map(int, input().split())\n",
    "    I = []; P = []; R = []\n",
    "    for _ in range(n):\n",
    "        i, p, r = map(int, input().split())\n",
    "        I.append(i); P.append(p); R.append(-r)\n",
    "    pc = list(zip(R, I, P))\n",
    "    heapq.heapify(pc)\n",
    "    for _ in range(T):\n",
    "        r, i, p = heapq.heappop(pc)\n",
    "        print(i)\n",
    "        p -= 1\n",
    "        if p:\n",
    "            heapq.heappush(pc, (r + 1, i, p))"
   ]
  },
  {
   "cell_type": "code",
   "execution_count": 2,
   "id": "93351993",
   "metadata": {},
   "outputs": [
    {
     "name": "stdout",
     "output_type": "stream",
     "text": [
      "8 2\n",
      "1 5 1\n",
      "2 5 1\n",
      "1\n",
      "2\n",
      "1\n",
      "2\n",
      "1\n",
      "2\n",
      "1\n",
      "2\n"
     ]
    }
   ],
   "source": [
    "solution()"
   ]
  },
  {
   "cell_type": "code",
   "execution_count": 3,
   "id": "a8696880",
   "metadata": {},
   "outputs": [
    {
     "name": "stdout",
     "output_type": "stream",
     "text": [
      "10 2\n",
      "1 10 1000\n",
      "2 10 1\n",
      "1\n",
      "1\n",
      "1\n",
      "1\n",
      "1\n",
      "1\n",
      "1\n",
      "1\n",
      "1\n",
      "1\n"
     ]
    }
   ],
   "source": [
    "solution()"
   ]
  }
 ],
 "metadata": {
  "kernelspec": {
   "display_name": "Python 3",
   "language": "python",
   "name": "python3"
  },
  "language_info": {
   "codemirror_mode": {
    "name": "ipython",
    "version": 3
   },
   "file_extension": ".py",
   "mimetype": "text/x-python",
   "name": "python",
   "nbconvert_exporter": "python",
   "pygments_lexer": "ipython3",
   "version": "3.8.8"
  }
 },
 "nbformat": 4,
 "nbformat_minor": 5
}
