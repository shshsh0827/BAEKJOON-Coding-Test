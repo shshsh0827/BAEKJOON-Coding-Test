{
 "cells": [
  {
   "cell_type": "markdown",
   "id": "af53c2df",
   "metadata": {},
   "source": [
    "https://www.acmicpc.net/problem/11050\n",
    "\n",
    "문제\n",
    "자연수 과 정수 가 주어졌을 때 이항 계수 \n",
    "를 구하는 프로그램을 작성하시오.\n",
    "\n",
    "입력\n",
    "첫째 줄에 과 가 주어진다. (1 ≤  ≤ 10, 0 ≤  ≤ )\n",
    "\n",
    "출력\n",
    " \n",
    "를 출력한다.\n",
    "\n",
    "예제 입력 1 \n",
    "5 2\n",
    "예제 출력 1 \n",
    "10"
   ]
  },
  {
   "cell_type": "code",
   "execution_count": 1,
   "id": "8a8f73db",
   "metadata": {},
   "outputs": [
    {
     "name": "stdout",
     "output_type": "stream",
     "text": [
      "5 2\n",
      "10\n"
     ]
    }
   ],
   "source": [
    "from functools import reduce\n",
    "\n",
    "def factorial(n):\n",
    "    if not n:\n",
    "        return 1\n",
    "    return reduce(lambda x, y: x * y, list(range(1, n + 1)))\n",
    "\n",
    "N, K = map(int, input().split())\n",
    "print(factorial(N) // factorial(K) // factorial(N - K))"
   ]
  }
 ],
 "metadata": {
  "kernelspec": {
   "display_name": "Python 3",
   "language": "python",
   "name": "python3"
  },
  "language_info": {
   "codemirror_mode": {
    "name": "ipython",
    "version": 3
   },
   "file_extension": ".py",
   "mimetype": "text/x-python",
   "name": "python",
   "nbconvert_exporter": "python",
   "pygments_lexer": "ipython3",
   "version": "3.8.8"
  }
 },
 "nbformat": 4,
 "nbformat_minor": 5
}
