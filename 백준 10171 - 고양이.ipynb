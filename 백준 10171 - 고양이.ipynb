{
 "cells": [
  {
   "cell_type": "markdown",
   "id": "8243ea82",
   "metadata": {},
   "source": [
    "https://www.acmicpc.net/problem/10171\n",
    "\n",
    "문제\n",
    "아래 예제와 같이 고양이를 출력하시오.\n",
    "\n",
    "입력\n",
    "없음.\n",
    "\n",
    "출력\n",
    "고양이를 출력한다.\n",
    "\n",
    "예제 입력 1 \n",
    "예제 출력 1 \n",
    "\\    /\\\n",
    " )  ( ')\n",
    "(  /  )\n",
    " \\(__)|"
   ]
  },
  {
   "cell_type": "code",
   "execution_count": 1,
   "id": "766583bc",
   "metadata": {},
   "outputs": [
    {
     "name": "stdout",
     "output_type": "stream",
     "text": [
      "\\    /\\\n",
      " )  ( ')\n",
      "(  /  )\n",
      " \\(__)|\n"
     ]
    }
   ],
   "source": [
    "print(\"\\\\    /\\\\\")\n",
    "print(\" )  ( ')\")\n",
    "print(\"(  /  )\")\n",
    "print(\" \\\\(__)|\")"
   ]
  }
 ],
 "metadata": {
  "kernelspec": {
   "display_name": "Python 3",
   "language": "python",
   "name": "python3"
  },
  "language_info": {
   "codemirror_mode": {
    "name": "ipython",
    "version": 3
   },
   "file_extension": ".py",
   "mimetype": "text/x-python",
   "name": "python",
   "nbconvert_exporter": "python",
   "pygments_lexer": "ipython3",
   "version": "3.8.8"
  }
 },
 "nbformat": 4,
 "nbformat_minor": 5
}
