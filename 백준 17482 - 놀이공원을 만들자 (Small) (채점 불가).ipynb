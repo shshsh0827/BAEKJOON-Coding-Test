{
 "cells": [
  {
   "cell_type": "markdown",
   "metadata": {},
   "source": [
    "https://www.acmicpc.net/problem/17482\n",
    "\n",
    "문제\n",
    "오래된 놀이공원의 주인인 인서는 놀이공원을 새롭게 단장하기 위해 자신의 가장 유능한 직원인 정우에게 리모델링을 지시하였다. 리모델링의 책임자가 된 정우는 우선 놀이공원의 상태를 아래와 같이 파악하였다.\n",
    "\n",
    "놀이공원에는 N개의 놀이기구와 M개의 공원포탈이 있다.\n",
    "각 놀이기구의 주행시간은 T이며, 놀이기구를 탄 후 바로 공원포탈을 이용하여 다음 놀이기구의 대기인원 중 맨 뒤로 이동할 수 있다.\n",
    "각 놀이기구마다 대기시간 P가 있으며, 시간이 지나도 대기시간은 동일하다.\n",
    "각 공원포탈을 이용하여 한 놀이기구에서 다른 놀이기구로 이동하는 시간은 각각 S이다.\n",
    "정우는 위와 같은 놀이공원의 상태를 바탕으로 고객에 대해 아래와 같은 가설을 설립하였다.\n",
    "\n",
    "가장 작은 P의 놀이기구를 처음으로 타고, 가장 큰 P의 놀이기구를 마지막으로 타고자 한다.\n",
    "첫 놀이기구에서 마지막 놀이기구까지 최단소요시간 안에 이동하고자 한다.\n",
    "최단소요시간 안에 이동하는 동안 경로 상에 있는 모든 놀이기구를 타고자 한다.\n",
    "최단소요시간에는 공원포탈 이동시간과 놀이기구 주행시간, 놀이기구 대기시간이 포함된다.\n",
    "정우는 고객들의 편의를 위하여 최단소요시간을 더 줄이고자 아래의 기준을 설립하였다.\n",
    "\n",
    "기존에 설치되어 있던 각 공원포탈의 이동시간 S를 서로 바꿀 수 있다.\n",
    "공원포탈의 이동시간 S를 서로 바꾼 후 최단소요시간의 경로는 서로 바꾸기 전 최단소요시간의 경로와 다를 수 있다.\n",
    "정우를 위해 공원포탈의 이동시간 S를 서로 바꾸기 전의 최단소요시간과 서로 바꾼 후의 최단소요시간의 차이를 알아내는 프로그램을 작성하도록 하자.\n",
    "\n",
    "입력\n",
    "첫 번째 줄에 N과 M이 주어진다. (4 ≤ N ≤ 100, N ≤ M ≤ N(N-1)/2) 이후 놀이기구를 R이라고 할 때, 두 번째 줄부터 N개의 줄에 걸쳐 R1부터 RN까지의 T와 P가 순서대로 주어지며, (N+2)번째 줄부터 M개의 줄에 걸쳐 출발지점 Ri, 도착지점 Rj와 두 지점 사이의 이동시간 S가 주어진다. (1 ≤ T ≤ P ≤ 100, 1 ≤ S ≤ 100)\n",
    "\n",
    "출력\n",
    "공원포탈의 이동시간 S를 서로 바꾸기 전의 최단소요시간과 서로 바꾼 후의 최단소요시간의 차이를 출력한다. 만약 공원포탈의 이동시간 S를 서로 바꾸기 전 가장 작은 P의 놀이기구에서 시작하여 가장 큰 P의 놀이기구로 가는 과정에서 가장 큰 P의 놀이기구로 갈 수 있는 경로가 없다면 -1을 출력한다.\n",
    "\n",
    "예제 입력 1 \n",
    "4 5\n",
    "1 5\n",
    "2 6\n",
    "3 7\n",
    "4 8\n",
    "1 2 20\n",
    "1 3 2\n",
    "2 4 11\n",
    "3 2 3\n",
    "3 4 10\n",
    "예제 출력 1 \n",
    "9\n",
    "공원포탈의 이동시간 S를 서로 바꾸기 전 P가 가장 작은 R1에서 P가 가장 큰 R4까지 가는 최단소요시간은 6(R1) + 2 + 10(R3) + 10 + 12(R4) = 40이며, 공원포탈의 이동시간 S를 서로 바꾼 후 P가 가장 작은 R1에서 P가 가장 큰 R4까지 가는 최단소요시간은 6(R1) + 2 + 8(R2) + 3 + 12(R4) = 31이 되어 최단소요시간의 차이는 9가 된다.\n",
    "\n",
    "예제 입력 2 \n",
    "4 5\n",
    "1 5\n",
    "2 6\n",
    "3 7\n",
    "4 8\n",
    "1 2 20\n",
    "1 3 2\n",
    "2 3 3\n",
    "3 3 10\n",
    "4 1 5\n",
    "예제 출력 2 \n",
    "-1\n",
    "공원포탈의 이동시간 S를 서로 바꾸기 전 P가 가장 작은 R1에서 P가 가장 큰 R4까지 가는 최단소요시간의 경로 중 R4까지 갈 수 있는 경로가 없으므로 -1이 된다."
   ]
  },
  {
   "cell_type": "code",
   "execution_count": 1,
   "metadata": {},
   "outputs": [],
   "source": [
    "def solution():\n",
    "    N, M = map(int, input().strip().split())\n",
    "    ride = []\n",
    "    for i in range(N):\n",
    "        ride.append(sum(map(int, input().strip().split())))\n",
    "    road = dict()\n",
    "    time = dict()\n",
    "    for _ in range(M):\n",
    "        i, j, k = map(int, input().strip().split())\n",
    "        time[str(i)+'-'+str(j)] = k\n",
    "        try:\n",
    "            road[i] = road[i].union({j})\n",
    "        except:\n",
    "            road[i] = {j}\n",
    "    queue = [(1, [1], ride[0])]\n",
    "    result = []\n",
    "    while queue:\n",
    "        n, path, t = queue.pop()\n",
    "        if n == N:\n",
    "            result.append((path, t))\n",
    "        else:\n",
    "            for m in road[n] - set(path):\n",
    "                queue.append((m, path + [m], t + ride[m - 1]))\n",
    "    if not result:\n",
    "        print(-1)\n",
    "    else:\n",
    "        portal = sorted(time.values())\n",
    "        shortestA = []\n",
    "        shortestB = []\n",
    "        for route, t in result:\n",
    "            shortestB.append(t + sum(portal[:len(route) - 1]))\n",
    "            for i in range(len(route) - 1):\n",
    "                t += time[str(route[i])+'-'+str(route[i+1])]\n",
    "            shortestA.append(t)\n",
    "        print(min(shortestA) - min(shortestB))"
   ]
  },
  {
   "cell_type": "code",
   "execution_count": 2,
   "metadata": {},
   "outputs": [
    {
     "name": "stdout",
     "output_type": "stream",
     "text": [
      "4 5\n",
      "1 5\n",
      "2 6\n",
      "3 7\n",
      "4 8\n",
      "1 2 20\n",
      "1 3 2\n",
      "2 4 11\n",
      "3 2 3\n",
      "3 4 10\n",
      "9\n"
     ]
    }
   ],
   "source": [
    "solution()"
   ]
  },
  {
   "cell_type": "code",
   "execution_count": 3,
   "metadata": {
    "scrolled": true
   },
   "outputs": [
    {
     "name": "stdout",
     "output_type": "stream",
     "text": [
      "4 5\n",
      "1 5\n",
      "2 6\n",
      "3 7\n",
      "4 8\n",
      "1 2 20\n",
      "1 3 2\n",
      "2 3 3\n",
      "3 3 10\n",
      "4 1 5\n",
      "-1\n"
     ]
    }
   ],
   "source": [
    "solution()"
   ]
  }
 ],
 "metadata": {
  "kernelspec": {
   "display_name": "Python 3",
   "language": "python",
   "name": "python3"
  },
  "language_info": {
   "codemirror_mode": {
    "name": "ipython",
    "version": 3
   },
   "file_extension": ".py",
   "mimetype": "text/x-python",
   "name": "python",
   "nbconvert_exporter": "python",
   "pygments_lexer": "ipython3",
   "version": "3.7.4"
  }
 },
 "nbformat": 4,
 "nbformat_minor": 2
}
