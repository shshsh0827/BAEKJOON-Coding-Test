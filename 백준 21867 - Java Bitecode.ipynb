{
 "cells": [
  {
   "cell_type": "markdown",
   "metadata": {},
   "source": [
    "https://www.acmicpc.net/problem/21867\n",
    "\n",
    "문제\n",
    "어서 내 손을  JAVA~\n",
    "\n",
    "태한이는 JAVA를 싫어한다. 매우 싫어한다. 아주 앙증맞게 깨물고 싶을 정도다.\n",
    "\n",
    "그래서 태한이는 코딩을 할 때 알파벳 J, A, V는 사용하지 않는다. 또한 기존의 코드에서도 J, A, V가 보이면 전부 이빨로 깨물어 제거한다. 기존의 코드에서 J, A, V를 깨물어 제거한 코드를 JAVA Bitecode라고 부른다.\n",
    "\n",
    "입력으로 길이가 인 코드 가 주어지면, 그 코드의 JAVA Bitecode를 구해보자!\n",
    "\n",
    "입력\n",
    "첫째 줄에 코드의 길이를 나타내는 정수 이 주어진다. ()\n",
    "\n",
    "둘째 줄에 알파벳 대문자로 이루어진 코드 가 주어진다.\n",
    "\n",
    "출력\n",
    "코드 의 JAVA Bitecode를 출력한다.\n",
    "\n",
    "JAVA Bitecode의 길이가 이라면, 대신 nojava를 출력한다.\n",
    "\n",
    "예제 입력 1 \n",
    "4\n",
    "ABCD\n",
    "예제 출력 1 \n",
    "BCD\n",
    "예제 입력 2 \n",
    "4\n",
    "JAVA\n",
    "예제 출력 2 \n",
    "nojava"
   ]
  },
  {
   "cell_type": "code",
   "execution_count": 1,
   "metadata": {},
   "outputs": [],
   "source": [
    "def solution():\n",
    "    N = int(input())\n",
    "    S = input().replace('A', '').replace('J', '').replace('V', '')\n",
    "    print(S) if S else print('nojava')"
   ]
  },
  {
   "cell_type": "code",
   "execution_count": 2,
   "metadata": {},
   "outputs": [
    {
     "name": "stdout",
     "output_type": "stream",
     "text": [
      "4\n",
      "ABCD\n",
      "BCD\n"
     ]
    }
   ],
   "source": [
    "solution()"
   ]
  },
  {
   "cell_type": "code",
   "execution_count": 3,
   "metadata": {},
   "outputs": [
    {
     "name": "stdout",
     "output_type": "stream",
     "text": [
      "4\n",
      "JAVA\n",
      "nojava\n"
     ]
    }
   ],
   "source": [
    "solution()"
   ]
  }
 ],
 "metadata": {
  "kernelspec": {
   "display_name": "Python 3",
   "language": "python",
   "name": "python3"
  },
  "language_info": {
   "codemirror_mode": {
    "name": "ipython",
    "version": 3
   },
   "file_extension": ".py",
   "mimetype": "text/x-python",
   "name": "python",
   "nbconvert_exporter": "python",
   "pygments_lexer": "ipython3",
   "version": "3.7.4"
  }
 },
 "nbformat": 4,
 "nbformat_minor": 2
}
