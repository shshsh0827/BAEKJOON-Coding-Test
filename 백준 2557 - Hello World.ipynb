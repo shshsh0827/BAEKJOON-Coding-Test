{
 "cells": [
  {
   "cell_type": "markdown",
   "id": "0ccdfed2",
   "metadata": {},
   "source": [
    "https://www.acmicpc.net/problem/2557\n",
    "\n",
    "문제\n",
    "Hello World!를 출력하시오.\n",
    "\n",
    "입력\n",
    "없음\n",
    "\n",
    "출력\n",
    "Hello World!를 출력하시오.\n",
    "\n",
    "예제 입력 1 \n",
    "예제 출력 1 \n",
    "Hello World!"
   ]
  },
  {
   "cell_type": "code",
   "execution_count": 1,
   "id": "a4b16c54",
   "metadata": {},
   "outputs": [
    {
     "name": "stdout",
     "output_type": "stream",
     "text": [
      "Hello World!\n"
     ]
    }
   ],
   "source": [
    "print('Hello World!')"
   ]
  }
 ],
 "metadata": {
  "kernelspec": {
   "display_name": "Python 3",
   "language": "python",
   "name": "python3"
  },
  "language_info": {
   "codemirror_mode": {
    "name": "ipython",
    "version": 3
   },
   "file_extension": ".py",
   "mimetype": "text/x-python",
   "name": "python",
   "nbconvert_exporter": "python",
   "pygments_lexer": "ipython3",
   "version": "3.8.8"
  }
 },
 "nbformat": 4,
 "nbformat_minor": 5
}
