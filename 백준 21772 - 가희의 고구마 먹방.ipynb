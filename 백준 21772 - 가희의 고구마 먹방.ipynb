{
 "cells": [
  {
   "cell_type": "markdown",
   "id": "59b49a2e",
   "metadata": {},
   "source": [
    "https://www.acmicpc.net/problem/21772\n",
    "\n",
    "문제\n",
    "가희는 고구마를 정말 좋아합니다.\n",
    "\n",
    "\n",
    "\n",
    "이번에도 어김 없이 고구마 냄새가 났는데, 고구마가 보이지 않습니다. 오빠가 방 안에 고구마를 숨겨 놓았기 때문입니다.\n",
    "\n",
    "오빠는 가희에게 하나의 게임을 제안하고, 게임의 규칙을 설명해 주었습니다. 게임 규칙은 아래와 같습니다.\n",
    "\n",
    "가희는 1초마다 상하좌우 방향 중 한 방향으로 1번 이동하거나, 이동하지 않고 그 자리에 머무를 수 있습니다.\n",
    "가희가 이동한 지점에 고구마가 있는 경우에는, 고구마를 먹습니다. 고구마를 먹는 데 걸리는 시간은 없다고 가정합니다.\n",
    "가희가 고구마를 먹으면, 고구마가 다시 그 자리에 생기지 않습니다.\n",
    "가희는 현재 위치에서 T초만큼 이동했을 때 고구마를 최대한 많이 먹고 싶습니다. 가희가 최대 몇 개의 고구마를 먹을 수 있는지 알려주세요.\n",
    "\n",
    "입력\n",
    "첫 번째 줄에 맵의 세로 크기 R, 가로 크기 C, 가희가 이동하는 시간 T가 주어집니다.\n",
    "\n",
    "두 번째 줄부터 R+1번째 줄까지 길이가 C인 문자열이 주어집니다.\n",
    "\n",
    "주어지는 문자열에 있는 문자는 가희를 나타내는 'G', 고구마를 나타내는 'S', 빈 칸을 나타내는 '.', 장애물을 나타내는 '#' 중 하나 입니다.\n",
    "\n",
    "출력\n",
    "문제에 대한 답을 출력합니다.\n",
    "\n",
    "제한\n",
    "2 ≤ R ≤ 100\n",
    "2 ≤ C ≤ 100\n",
    "1 ≤ T ≤ 10\n",
    "가희를 나타내는 문자인 'G'는 맵 안에 하나만 있습니다. 'G'가 있는 위치는, 가희의 현재 위치입니다.\n",
    "'S'가 있는 위치에 고구마는 1개 있습니다.\n",
    "고구마와 장애물은 최소 1개 이상 있습니다.\n",
    "가희는 장애물을 뛰어 넘거나 통과할 수 없습니다.\n",
    "가희는 맵 밖으로 나갈 수 없습니다.\n",
    "예제 입력 1 \n",
    "11 11 5\n",
    "........G..\n",
    "......S.#S.\n",
    "........#.S\n",
    "...........\n",
    "...........\n",
    ".##########\n",
    ".##########\n",
    "...........\n",
    "...........\n",
    "##########.\n",
    "...........\n",
    "예제 출력 1 \n",
    "2\n",
    "답이 될 수 있는 경우 중 하나는 아래와 같습니다.\n",
    "\n",
    "\n",
    "\n",
    "[그림] 고구마를 2개 먹을 수 있는 경로 중 하나\n",
    "\n",
    "예제 입력 2 \n",
    "11 11 5\n",
    "G....S.....\n",
    "...........\n",
    "...........\n",
    "...........\n",
    "...........\n",
    "...........\n",
    ".....#.....\n",
    "...........\n",
    "...........\n",
    "...........\n",
    "...........\n",
    "예제 출력 2 \n",
    "1\n",
    "가희가 현재 있는 위치로부터 5번 이동하는 것이 고구마를 제일 많이 먹을 수 있는 방법입니다."
   ]
  },
  {
   "cell_type": "code",
   "execution_count": 1,
   "id": "6b0539ee",
   "metadata": {},
   "outputs": [],
   "source": [
    "def solution():\n",
    "    #import sys; input = sys.stdin.readline\n",
    "\n",
    "    def ns(path):\n",
    "        return len(list(filter(lambda x: room[x[0]][x[1]] == 'S', set(path))))\n",
    "\n",
    "    R, C, T = map(int, input().split())\n",
    "    room = []\n",
    "    G = None\n",
    "    for i in range(R):\n",
    "        raw = input().strip()\n",
    "        if not G:\n",
    "            try:\n",
    "                G = (i, raw.index('G'))\n",
    "            except:\n",
    "                pass\n",
    "        room.append(raw)\n",
    "    queue = [(G, [G])]\n",
    "    result = []\n",
    "    while queue:\n",
    "        pos, path = queue.pop()\n",
    "        if len(path) > T:\n",
    "            result.append(ns(path))\n",
    "        else:\n",
    "            r, c = pos\n",
    "            prob = []\n",
    "            if r > 0 and room[r - 1][c] != '#': prob.append((r - 1, c))\n",
    "            if r < R - 1 and room[r + 1][c] != '#': prob.append((r + 1, c))\n",
    "            if c > 0 and room[r][c - 1] != '#': prob.append((r, c - 1))\n",
    "            if c < C - 1 and room[r][c + 1] != '#': prob.append((r, c + 1))\n",
    "            for p in prob:\n",
    "                queue.append((p, path + [p]))\n",
    "    print(max(result)) if result else print(0)"
   ]
  },
  {
   "cell_type": "code",
   "execution_count": 2,
   "id": "3334e9e0",
   "metadata": {},
   "outputs": [
    {
     "name": "stdout",
     "output_type": "stream",
     "text": [
      "11 11 5\n",
      "........G..\n",
      "......S.#S.\n",
      "........#.S\n",
      "...........\n",
      "...........\n",
      ".##########\n",
      ".##########\n",
      "...........\n",
      "...........\n",
      "##########.\n",
      "...........\n",
      "2\n"
     ]
    }
   ],
   "source": [
    "solution()"
   ]
  },
  {
   "cell_type": "code",
   "execution_count": 3,
   "id": "3af3be47",
   "metadata": {},
   "outputs": [
    {
     "name": "stdout",
     "output_type": "stream",
     "text": [
      "11 11 5\n",
      "G....S.....\n",
      "...........\n",
      "...........\n",
      "...........\n",
      "...........\n",
      "...........\n",
      ".....#.....\n",
      "...........\n",
      "...........\n",
      "...........\n",
      "...........\n",
      "1\n"
     ]
    }
   ],
   "source": [
    "solution()"
   ]
  }
 ],
 "metadata": {
  "kernelspec": {
   "display_name": "Python 3",
   "language": "python",
   "name": "python3"
  },
  "language_info": {
   "codemirror_mode": {
    "name": "ipython",
    "version": 3
   },
   "file_extension": ".py",
   "mimetype": "text/x-python",
   "name": "python",
   "nbconvert_exporter": "python",
   "pygments_lexer": "ipython3",
   "version": "3.8.8"
  }
 },
 "nbformat": 4,
 "nbformat_minor": 5
}
