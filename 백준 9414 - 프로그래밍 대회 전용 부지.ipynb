{
 "cells": [
  {
   "cell_type": "markdown",
   "id": "5b00a13c",
   "metadata": {},
   "source": [
    "https://www.acmicpc.net/problem/9414\n",
    "\n",
    "문제\n",
    "상근이는 어렸을 때부터 항상 프로그래밍 캠프를 개최하고 싶어했다. 캠프를 개최할 때 가장 필요한 것은 장소이다. 지금까지 많은 사람들이 장소의 벽에 가로막혀 캠프를 주최할 수가 없었다.\n",
    "\n",
    "상근이는 프로그래밍 캠프 전용 부지를 구입해 모든 사람의 장소 문제를 해결하려고 한다. 서울의 땅값은 매년 기하급수적으로 비싸진다. 예를 들어, 땅 i의 현재 땅값이 Li인 경우, t년이 지난 후 땅값은 2×(Li)t가 된다. 모든 땅값은 서로 다르다. 상근이는 일년에 땅 하나만 구입할 수 있다.\n",
    "\n",
    "상근이가 구입하려고 하는 땅의 현재 가격이 주어졌을 때, 모든 땅을 구입하는데 드는 비용의 최솟값을 구하는 프로그램을 작성하시오. 상근이는 돈을 5×106 억원 가지고 있고, 1년이 지난 후부터 땅을 구입하기 시작한다. (누가 돈을 훔쳐가거나, 다른데에 돈을 쓰거나, 돈을 벌거나 하는 상황은 발생하지 않는다)\n",
    "\n",
    "예를 들어, 땅의 가격이 7억, 2억, 10억일 때, 각 땅을 연속한 해에 구입하는데 필요한 금액은 다음과 같다.\n",
    "\n",
    "(2×7) + (2×22) + (2×103) = 2022억\n",
    "\n",
    "입력\n",
    "첫째 줄에 테스트 케이스의 개수 T (1 ≤ T ≤ 10)가 주어진다. 각 테스트 케이스는 땅값 Li가 한 줄에 하나씩 주어지며, 0은 테스트 케이스의 마지막을 나타낸다. 각 테스트 케이스마다 상근이가 구매하려는 땅의 개수는 40개를 넘지 않는다. 모든 단위는 억단위이다.\n",
    "\n",
    "출력\n",
    "각 테스트 케이스마다 모든 땅을 구입하는데 필요한 최소 금액을 출력한다. 만약, 돈이 부족해서 땅을 모두 구입하지 못하는 경우에는 \"Too expensive\"를 출력한다. (단위: 억)\n",
    "\n",
    "예제 입력 1 \n",
    "3\n",
    "7\n",
    "2\n",
    "10\n",
    "0\n",
    "20\n",
    "29\n",
    "31\n",
    "0\n",
    "42\n",
    "41\n",
    "40\n",
    "37\n",
    "20\n",
    "0\n",
    "예제 출력 1 \n",
    "134\n",
    "17744\n",
    "Too expensive"
   ]
  },
  {
   "cell_type": "code",
   "execution_count": 1,
   "id": "8a75ad68",
   "metadata": {},
   "outputs": [
    {
     "name": "stdout",
     "output_type": "stream",
     "text": [
      "3\n",
      "7\n",
      "2\n",
      "10\n",
      "0\n",
      "134\n",
      "20\n",
      "29\n",
      "31\n",
      "0\n",
      "17744\n",
      "42\n",
      "41\n",
      "40\n",
      "37\n",
      "20\n",
      "0\n",
      "Too expensive\n"
     ]
    }
   ],
   "source": [
    "#import sys; input = sys.stdin.readline\n",
    "for _ in range(int(input())):\n",
    "    lst = []\n",
    "    while True:\n",
    "        c = int(input())\n",
    "        if c == 0:\n",
    "            break\n",
    "        else:\n",
    "            lst.append(c)\n",
    "    total = 0\n",
    "    for i, cost in zip(range(1, len(lst) + 1), sorted(lst, reverse=True)):\n",
    "        total += 2 * cost ** i\n",
    "        if total > 5000000:\n",
    "            print('Too expensive')\n",
    "            break\n",
    "    else:\n",
    "        print(total)"
   ]
  }
 ],
 "metadata": {
  "kernelspec": {
   "display_name": "Python 3",
   "language": "python",
   "name": "python3"
  },
  "language_info": {
   "codemirror_mode": {
    "name": "ipython",
    "version": 3
   },
   "file_extension": ".py",
   "mimetype": "text/x-python",
   "name": "python",
   "nbconvert_exporter": "python",
   "pygments_lexer": "ipython3",
   "version": "3.8.8"
  }
 },
 "nbformat": 4,
 "nbformat_minor": 5
}
