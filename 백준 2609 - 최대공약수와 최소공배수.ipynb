{
 "cells": [
  {
   "cell_type": "markdown",
   "id": "be60275f",
   "metadata": {},
   "source": [
    "https://www.acmicpc.net/problem/2609\n",
    "\n",
    "문제\n",
    "두 개의 자연수를 입력받아 최대 공약수와 최소 공배수를 출력하는 프로그램을 작성하시오.\n",
    "\n",
    "입력\n",
    "첫째 줄에는 두 개의 자연수가 주어진다. 이 둘은 10,000이하의 자연수이며 사이에 한 칸의 공백이 주어진다.\n",
    "\n",
    "출력\n",
    "첫째 줄에는 입력으로 주어진 두 수의 최대공약수를, 둘째 줄에는 입력으로 주어진 두 수의 최소 공배수를 출력한다.\n",
    "\n",
    "예제 입력 1 \n",
    "24 18\n",
    "예제 출력 1 \n",
    "6\n",
    "72"
   ]
  },
  {
   "cell_type": "code",
   "execution_count": 1,
   "id": "b83eca6e",
   "metadata": {},
   "outputs": [
    {
     "name": "stdout",
     "output_type": "stream",
     "text": [
      "24 18\n",
      "6\n",
      "72\n"
     ]
    }
   ],
   "source": [
    "a, b = map(int, input().split())\n",
    "for divisor in range(min(a, b), 0, -1):\n",
    "    if not (a % divisor or b % divisor):\n",
    "        gcd = divisor\n",
    "        break\n",
    "print(gcd)\n",
    "print(a * b // gcd)"
   ]
  }
 ],
 "metadata": {
  "kernelspec": {
   "display_name": "Python 3",
   "language": "python",
   "name": "python3"
  },
  "language_info": {
   "codemirror_mode": {
    "name": "ipython",
    "version": 3
   },
   "file_extension": ".py",
   "mimetype": "text/x-python",
   "name": "python",
   "nbconvert_exporter": "python",
   "pygments_lexer": "ipython3",
   "version": "3.8.8"
  }
 },
 "nbformat": 4,
 "nbformat_minor": 5
}
