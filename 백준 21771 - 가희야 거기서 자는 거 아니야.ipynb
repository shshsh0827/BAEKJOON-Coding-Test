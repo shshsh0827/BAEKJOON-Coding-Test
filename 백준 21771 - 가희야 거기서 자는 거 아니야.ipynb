{
 "cells": [
  {
   "cell_type": "markdown",
   "id": "b8dcafde",
   "metadata": {},
   "source": [
    "https://www.acmicpc.net/problem/21771\n",
    "\n",
    "문제\n",
    "베개와 가희가 방 안에 있습니다. 가희가 베개 위에서 자고 있는지 그렇지 않은지 출력해 주세요.\n",
    "\n",
    "\n",
    "\n",
    "입력\n",
    "첫 번째 줄에 방의 세로 길이 R, 가로 길이 C가 주어집니다.\n",
    "\n",
    "두 번째 줄에 가희의 세로 길이 Rg, 가로 길이 Cg, 베게의 세로 길이 Rp, 가로 길이 Cp가 주어집니다.\n",
    "\n",
    "세 번째 줄부터, R+2번째 줄까지, 길이가 C인 문자열이 주어집니다.\n",
    "\n",
    "주어지는 문자열에 있는 문자는 가희를 나타내는 'G', 베게를 나타내는 'P', 빈 칸을 나타내는 '.' 중 하나입니다.\n",
    "\n",
    "출력\n",
    "가희가 베게 위에서 자고 있다면 1을, 그렇지 않으면 0을 출력합니다.\n",
    "\n",
    "베개 중의 일부가 가희에 의해서 가려진 상태라면, 가희는 베게 위에서 자고 있습니다.\n",
    "\n",
    "제한\n",
    "11 ≤ R, C ≤ 100\n",
    "1 ≤ Rg, Rp ≤ R\n",
    "1 ≤ Cg, Cp ≤ C\n",
    "가희와 베개는 맵 안에 하나만 있으며, 방과 방 바깥에 걸쳐져 있지 않습니다.\n",
    "가희나 베개가 완전히 가려진 경우는 주어지지 않습니다.\n",
    "가희와 베개는 직사각형 형태로 주어지며, 직사각형의 각 변은 가로, 세로와 평행합니다.\n",
    "가희는 베개 위에서 잘 수도 있고, 아래에서 잘 수도 있습니다.\n",
    "예제 입력 1 \n",
    "11 11\n",
    "5 4 6 10\n",
    "....GGGG...\n",
    "....GGGG...\n",
    "....GGGG...\n",
    ".PPPGGGGPPP\n",
    ".PPPGGGGPPP\n",
    ".PPPPPPPPPP\n",
    ".PPPPPPPPPP\n",
    ".PPPPPPPPPP\n",
    ".PPPPPPPPPP\n",
    "...........\n",
    "...........\n",
    "예제 출력 1 \n",
    "1\n",
    "베게 중 8칸이 가희에 의해 가려졌으므로, 가희는 베게 위에서 자고 있습니다.\n",
    "\n",
    "예제 입력 2 \n",
    "11 11\n",
    "11 4 6 10\n",
    "....GGGG...\n",
    "....GGGG...\n",
    "....GGGG...\n",
    ".PPPPPPPPPP\n",
    ".PPPPPPPPPP\n",
    ".PPPPPPPPPP\n",
    ".PPPPPPPPPP\n",
    ".PPPPPPPPPP\n",
    ".PPPPPPPPPP\n",
    "....GGGG...\n",
    "....GGGG...\n",
    "예제 출력 2 \n",
    "0\n",
    "가희의 일부가 베개에 의해 가려진 상태이므로 가희는 베개 위에서 자고 있지 않습니다.\n",
    "\n",
    "예제 입력 3 \n",
    "11 11\n",
    "4 5 6 10\n",
    ".GGGGG.....\n",
    ".GGGGG.....\n",
    ".GGGGG.....\n",
    ".GGGGG.....\n",
    "...........\n",
    "PPPPPPPPPP.\n",
    "PPPPPPPPPP.\n",
    "PPPPPPPPPP.\n",
    "PPPPPPPPPP.\n",
    "PPPPPPPPPP.\n",
    "PPPPPPPPPP.\n",
    "예제 출력 3 \n",
    "0"
   ]
  },
  {
   "cell_type": "code",
   "execution_count": 1,
   "id": "780d7f84",
   "metadata": {},
   "outputs": [],
   "source": [
    "def solution():\n",
    "    import re\n",
    "    #import sys; input = sys.stdin.readline\n",
    "\n",
    "    R, C = map(int, input().split())\n",
    "    rg, cg, rp, cp = map(int, input().split())\n",
    "    s = 'P' * cp\n",
    "    n = 0\n",
    "    for _ in range(R):\n",
    "        state = input().strip()\n",
    "        if re.search(s, state):\n",
    "            n += 1\n",
    "    if n == rp: print(0)\n",
    "    else: print(1)"
   ]
  },
  {
   "cell_type": "code",
   "execution_count": 2,
   "id": "43affa3e",
   "metadata": {},
   "outputs": [
    {
     "name": "stdout",
     "output_type": "stream",
     "text": [
      "11 11\n",
      "5 4 6 10\n",
      "....GGGG...\n",
      "....GGGG...\n",
      "....GGGG...\n",
      ".PPPGGGGPPP\n",
      ".PPPGGGGPPP\n",
      ".PPPPPPPPPP\n",
      ".PPPPPPPPPP\n",
      ".PPPPPPPPPP\n",
      ".PPPPPPPPPP\n",
      "...........\n",
      "...........\n",
      "1\n"
     ]
    }
   ],
   "source": [
    "solution()"
   ]
  },
  {
   "cell_type": "code",
   "execution_count": 3,
   "id": "6dd8b8bd",
   "metadata": {},
   "outputs": [
    {
     "name": "stdout",
     "output_type": "stream",
     "text": [
      "11 11\n",
      "11 4 6 10\n",
      "....GGGG...\n",
      "....GGGG...\n",
      "....GGGG...\n",
      ".PPPPPPPPPP\n",
      ".PPPPPPPPPP\n",
      ".PPPPPPPPPP\n",
      ".PPPPPPPPPP\n",
      ".PPPPPPPPPP\n",
      ".PPPPPPPPPP\n",
      "....GGGG...\n",
      "....GGGG...\n",
      "0\n"
     ]
    }
   ],
   "source": [
    "solution()"
   ]
  },
  {
   "cell_type": "code",
   "execution_count": 4,
   "id": "d6beeade",
   "metadata": {},
   "outputs": [
    {
     "name": "stdout",
     "output_type": "stream",
     "text": [
      "11 11\n",
      "4 5 6 10\n",
      ".GGGGG.....\n",
      ".GGGGG.....\n",
      ".GGGGG.....\n",
      ".GGGGG.....\n",
      "...........\n",
      "PPPPPPPPPP.\n",
      "PPPPPPPPPP.\n",
      "PPPPPPPPPP.\n",
      "PPPPPPPPPP.\n",
      "PPPPPPPPPP.\n",
      "PPPPPPPPPP.\n",
      "0\n"
     ]
    }
   ],
   "source": [
    "solution()"
   ]
  }
 ],
 "metadata": {
  "kernelspec": {
   "display_name": "Python 3",
   "language": "python",
   "name": "python3"
  },
  "language_info": {
   "codemirror_mode": {
    "name": "ipython",
    "version": 3
   },
   "file_extension": ".py",
   "mimetype": "text/x-python",
   "name": "python",
   "nbconvert_exporter": "python",
   "pygments_lexer": "ipython3",
   "version": "3.8.8"
  }
 },
 "nbformat": 4,
 "nbformat_minor": 5
}
