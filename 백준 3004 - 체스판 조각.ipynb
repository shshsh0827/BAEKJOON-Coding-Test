{
 "cells": [
  {
   "cell_type": "markdown",
   "id": "970d2067",
   "metadata": {},
   "source": [
    "https://www.acmicpc.net/problem/3004\n",
    "\n",
    "문제\n",
    "상근이는 3003번에서 동혁이가 발견한 체스판을 톱으로 자르려고 한다.\n",
    "\n",
    "상근이는 체스판을 최대 N번 자를 수 있으며, 변에 평행하게만 자를 수 있다. 또, 자를 때는 체스판의 그 변의 한쪽 끝에서 다른쪽 끝까지 잘라야 한다. 자른 후에는 조각을 이동할 수 없다.\n",
    "\n",
    "이때, 최대 몇 조각을 낼 수 있는지 구하는 프로그램을 작성하시오.\n",
    "\n",
    "입력\n",
    "첫째 줄에 N이 주어진다. (1 ≤ N ≤ 100)\n",
    "\n",
    "출력\n",
    "첫째 줄에 상근이가 얻을 수 있는 조각의 최댓값을 출력한다.\n",
    "\n",
    "예제 입력 1 \n",
    "1\n",
    "예제 출력 1 \n",
    "2\n",
    "예제 입력 2 \n",
    "3\n",
    "예제 출력 2 \n",
    "6"
   ]
  },
  {
   "cell_type": "code",
   "execution_count": 1,
   "id": "58fb4346",
   "metadata": {},
   "outputs": [],
   "source": [
    "def solution():\n",
    "    def cut(n):\n",
    "        if not n:\n",
    "            return 1\n",
    "        return cut(n - 1) + n // 2 + 1\n",
    "\n",
    "    print(cut(int(input())))"
   ]
  },
  {
   "cell_type": "code",
   "execution_count": 2,
   "id": "ea508b22",
   "metadata": {},
   "outputs": [
    {
     "name": "stdout",
     "output_type": "stream",
     "text": [
      "1\n",
      "2\n"
     ]
    }
   ],
   "source": [
    "solution()"
   ]
  },
  {
   "cell_type": "code",
   "execution_count": 3,
   "id": "5afe3013",
   "metadata": {},
   "outputs": [
    {
     "name": "stdout",
     "output_type": "stream",
     "text": [
      "3\n",
      "6\n"
     ]
    }
   ],
   "source": [
    "solution()"
   ]
  }
 ],
 "metadata": {
  "kernelspec": {
   "display_name": "Python 3",
   "language": "python",
   "name": "python3"
  },
  "language_info": {
   "codemirror_mode": {
    "name": "ipython",
    "version": 3
   },
   "file_extension": ".py",
   "mimetype": "text/x-python",
   "name": "python",
   "nbconvert_exporter": "python",
   "pygments_lexer": "ipython3",
   "version": "3.8.8"
  }
 },
 "nbformat": 4,
 "nbformat_minor": 5
}
