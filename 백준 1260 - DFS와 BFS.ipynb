{
 "cells": [
  {
   "cell_type": "markdown",
   "id": "d90896c1",
   "metadata": {},
   "source": [
    "https://www.acmicpc.net/problem/1260\n",
    "\n",
    "문제\n",
    "그래프를 DFS로 탐색한 결과와 BFS로 탐색한 결과를 출력하는 프로그램을 작성하시오. 단, 방문할 수 있는 정점이 여러 개인 경우에는 정점 번호가 작은 것을 먼저 방문하고, 더 이상 방문할 수 있는 점이 없는 경우 종료한다. 정점 번호는 1번부터 N번까지이다.\n",
    "\n",
    "입력\n",
    "첫째 줄에 정점의 개수 N(1 ≤ N ≤ 1,000), 간선의 개수 M(1 ≤ M ≤ 10,000), 탐색을 시작할 정점의 번호 V가 주어진다. 다음 M개의 줄에는 간선이 연결하는 두 정점의 번호가 주어진다. 어떤 두 정점 사이에 여러 개의 간선이 있을 수 있다. 입력으로 주어지는 간선은 양방향이다.\n",
    "\n",
    "출력\n",
    "첫째 줄에 DFS를 수행한 결과를, 그 다음 줄에는 BFS를 수행한 결과를 출력한다. V부터 방문된 점을 순서대로 출력하면 된다.\n",
    "\n",
    "예제 입력 1 \n",
    "4 5 1\n",
    "1 2\n",
    "1 3\n",
    "1 4\n",
    "2 4\n",
    "3 4\n",
    "예제 출력 1 \n",
    "1 2 4 3\n",
    "1 2 3 4\n",
    "예제 입력 2 \n",
    "5 5 3\n",
    "5 4\n",
    "5 2\n",
    "1 2\n",
    "3 4\n",
    "3 1\n",
    "예제 출력 2 \n",
    "3 1 2 5 4\n",
    "3 1 4 2 5\n",
    "예제 입력 3 \n",
    "1000 1 1000\n",
    "999 1000\n",
    "예제 출력 3 \n",
    "1000 999\n",
    "1000 999"
   ]
  },
  {
   "cell_type": "code",
   "execution_count": 1,
   "id": "5bea4419",
   "metadata": {},
   "outputs": [],
   "source": [
    "def solution():\n",
    "    import sys#; input = sys.stdin.readline\n",
    "    sys.setrecursionlimit(1000000)\n",
    "    from collections import deque\n",
    "    N, M, V = map(int, input().split())\n",
    "    graph = dict()\n",
    "    for _ in range(M):\n",
    "        a, b = map(int, input().split())\n",
    "        try:\n",
    "            graph[a] += [b]\n",
    "        except:\n",
    "            graph[a] = [b]\n",
    "        try:\n",
    "            graph[b] += [a]\n",
    "        except:\n",
    "            graph[b] = [a]\n",
    "    visited = []\n",
    "    def dfs(n):\n",
    "        if n not in visited:\n",
    "            visited.append(n)\n",
    "            for m in sorted(list(set(graph[n]) - set(visited))):\n",
    "                dfs(m)\n",
    "    try:\n",
    "        dfs(V)            \n",
    "        for v in visited:\n",
    "            print(v, end=' ')\n",
    "        else:\n",
    "            print()\n",
    "    except:\n",
    "        print(V)\n",
    "    visited = []\n",
    "    queue = deque()\n",
    "    def bfs(n):\n",
    "        if n not in visited:\n",
    "            visited.append(n)\n",
    "            for m in sorted(list(set(graph[n]) - set(visited))):\n",
    "                deque.append(queue, m)\n",
    "        if queue:\n",
    "            bfs(deque.popleft(queue))\n",
    "    try:\n",
    "        bfs(V)            \n",
    "        for v in visited:\n",
    "            print(v, end=' ')\n",
    "        else:\n",
    "            print()\n",
    "    except:\n",
    "        print(V)"
   ]
  },
  {
   "cell_type": "code",
   "execution_count": 2,
   "id": "6595e065",
   "metadata": {},
   "outputs": [
    {
     "name": "stdout",
     "output_type": "stream",
     "text": [
      "4 5 1\n",
      "1 2\n",
      "1 3\n",
      "1 4\n",
      "2 4\n",
      "3 4\n",
      "1 2 4 3 \n",
      "1 2 3 4 \n"
     ]
    }
   ],
   "source": [
    "solution()"
   ]
  },
  {
   "cell_type": "code",
   "execution_count": 3,
   "id": "465c2a08",
   "metadata": {},
   "outputs": [
    {
     "name": "stdout",
     "output_type": "stream",
     "text": [
      "5 5 3\n",
      "5 4\n",
      "5 2\n",
      "1 2\n",
      "3 4\n",
      "3 1\n",
      "3 1 2 5 4 \n",
      "3 1 4 2 5 \n"
     ]
    }
   ],
   "source": [
    "solution()"
   ]
  },
  {
   "cell_type": "code",
   "execution_count": 4,
   "id": "bbb8520a",
   "metadata": {},
   "outputs": [
    {
     "name": "stdout",
     "output_type": "stream",
     "text": [
      "1000 1 1000\n",
      "999 1000\n",
      "1000 999 \n",
      "1000 999 \n"
     ]
    }
   ],
   "source": [
    "solution()"
   ]
  }
 ],
 "metadata": {
  "kernelspec": {
   "display_name": "Python 3",
   "language": "python",
   "name": "python3"
  },
  "language_info": {
   "codemirror_mode": {
    "name": "ipython",
    "version": 3
   },
   "file_extension": ".py",
   "mimetype": "text/x-python",
   "name": "python",
   "nbconvert_exporter": "python",
   "pygments_lexer": "ipython3",
   "version": "3.8.8"
  }
 },
 "nbformat": 4,
 "nbformat_minor": 5
}
