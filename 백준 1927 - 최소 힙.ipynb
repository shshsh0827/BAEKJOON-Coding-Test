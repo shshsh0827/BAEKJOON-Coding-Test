{
 "cells": [
  {
   "cell_type": "markdown",
   "id": "0e507cbb",
   "metadata": {},
   "source": [
    "https://www.acmicpc.net/problem/1927\n",
    "\n",
    "문제\n",
    "널리 잘 알려진 자료구조 중 최소 힙이 있다. 최소 힙을 이용하여 다음과 같은 연산을 지원하는 프로그램을 작성하시오.\n",
    "\n",
    "배열에 자연수 x를 넣는다.\n",
    "배열에서 가장 작은 값을 출력하고, 그 값을 배열에서 제거한다.\n",
    "프로그램은 처음에 비어있는 배열에서 시작하게 된다.\n",
    "\n",
    "입력\n",
    "첫째 줄에 연산의 개수 N(1 ≤ N ≤ 100,000)이 주어진다. 다음 N개의 줄에는 연산에 대한 정보를 나타내는 정수 x가 주어진다. 만약 x가 자연수라면 배열에 x라는 값을 넣는(추가하는) 연산이고, x가 0이라면 배열에서 가장 작은 값을 출력하고 그 값을 배열에서 제거하는 경우이다. 입력되는 자연수는 231보다 작다.\n",
    "\n",
    "출력\n",
    "입력에서 0이 주어진 회수만큼 답을 출력한다. 만약 배열이 비어 있는 경우인데 가장 작은 값을 출력하라고 한 경우에는 0을 출력하면 된다.\n",
    "\n",
    "예제 입력 1 \n",
    "9\n",
    "0\n",
    "12345678\n",
    "1\n",
    "2\n",
    "0\n",
    "0\n",
    "0\n",
    "0\n",
    "32\n",
    "예제 출력 1 \n",
    "0\n",
    "1\n",
    "2\n",
    "12345678\n",
    "0"
   ]
  },
  {
   "cell_type": "code",
   "execution_count": 1,
   "id": "f255a982",
   "metadata": {},
   "outputs": [
    {
     "name": "stdout",
     "output_type": "stream",
     "text": [
      "9\n",
      "0\n",
      "0\n",
      "12345678\n",
      "1\n",
      "2\n",
      "0\n",
      "1\n",
      "0\n",
      "2\n",
      "0\n",
      "12345678\n",
      "0\n",
      "0\n",
      "32\n"
     ]
    }
   ],
   "source": [
    "#import sys; input = sys.stdin.readline\n",
    "import heapq\n",
    "arr = []\n",
    "heapq.heapify(arr)\n",
    "for _ in range(int(input())):\n",
    "    cmd = int(input())\n",
    "    if cmd:\n",
    "        heapq.heappush(arr, cmd)\n",
    "    else:\n",
    "        try:\n",
    "            print(heapq.heappop(arr))\n",
    "        except:\n",
    "            print(0)"
   ]
  }
 ],
 "metadata": {
  "kernelspec": {
   "display_name": "Python 3",
   "language": "python",
   "name": "python3"
  },
  "language_info": {
   "codemirror_mode": {
    "name": "ipython",
    "version": 3
   },
   "file_extension": ".py",
   "mimetype": "text/x-python",
   "name": "python",
   "nbconvert_exporter": "python",
   "pygments_lexer": "ipython3",
   "version": "3.8.8"
  }
 },
 "nbformat": 4,
 "nbformat_minor": 5
}
