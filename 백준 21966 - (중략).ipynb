{
 "cells": [
  {
   "cell_type": "markdown",
   "id": "191bbf4f",
   "metadata": {},
   "source": [
    "https://www.acmicpc.net/problem/21966\n",
    "\n",
    "문제\n",
    "드높은 남산 위에 우뚝 선\n",
    "\n",
    "(중략)\n",
    "\n",
    "세워라 반석 위에\n",
    "\n",
    "선린의 터를\n",
    "\n",
    "1개 이상의 문장들이 주어진다. 아래 규칙에 따라 문장들의 중간 부분을 적당히 생략해 25글자 이내로 요약해서 출력하는 프로그램을 작성하자.\n",
    "\n",
    "단, 입출력의 편의를 위해 문장들을 공백 없이 모두 붙여 구성한 문자열 가 대신 주어진다. 문자열의 첫 글자부터 가장 먼저 만나는 '.'(마침표)까지, 그리고 각 '.'의 다음 글자부터 가장 먼저 만나는 '.'까지를 한 문장으로 생각하기로 하자. 예를 들어 주어진 문자열 가 'IamInevitable.IamIronMan.'이라면 'IamInevitable.'이 한 문장, 'IamIronMan.'이 한 문장이다.\n",
    "\n",
    "규칙은 다음과 같다.\n",
    "\n",
    "의 길이가 25 이하면 를 그대로 출력한다.\n",
    "의 길이가 25 초과이면, 의 앞에서부터 11글자, 뒤에서부터 11글자를 제외하고 나머지 부분을 생각하자. 이 나머지 부분이 모두 같은 문장에 속한다면, 생략한 뒤 '...'('.' 3개)으로 바꿔서 출력한다.\n",
    "위 두 경우에 해당되지 않는다면 를 앞에서부터 9글자, 뒤에서부터 10글자만 남기고 중간은 '......'('.' 6개)으로 바꿔서 출력한다.\n",
    "입력\n",
    "첫 번째 줄에 문자열의 길이 이 주어진다.\n",
    "\n",
    "두 번째 줄에는 글자로 이루어진 문자열 가 주어진다.\n",
    "\n",
    "출력\n",
    "문제에서 제시된 규칙에 따라 를 25글자 이내로 요약해서 출력한다.\n",
    "\n",
    "제한\n",
    "\n",
    "문자열 는 알파벳 대문자, 알파벳 소문자, 쉼표(,), 마침표(.)로만 구성되어 있다.\n",
    "\n",
    "문자열 의 첫 글자는 마침표(.)가 아니다.\n",
    "\n",
    "문자열 의 마지막 글자는 마침표(.)이다.\n",
    "\n",
    "예제 입력 1 \n",
    "11\n",
    "IamIronMan.\n",
    "예제 출력 1 \n",
    "IamIronMan.\n",
    "11글자이므로 그대로 출력하면 된다.\n",
    "\n",
    "예제 입력 2 \n",
    "26\n",
    "And,IamIronMan.IamIronMan.\n",
    "예제 출력 2 \n",
    "And,IamIron...IamIronMan.\n",
    "'And,IamIronMan.IamIronMan.' 의 길이는 26이므로 그대로 출력할 수 없다.\n",
    "\n",
    "'And,IamIronMan.IamIronMan.' 에서 앞/뒤 11글자를 제외한 나머지 부분은 'Man.' 으로, 한 문장 안에 포함되었기 때문에 '...'으로 치환할 수 았다.\n",
    "\n",
    "그러므로 'And,IamIron...IamIronMan.' 이 정답이 된다.\n",
    "\n",
    "예제 입력 3 \n",
    "29\n",
    "IamInevitable.And,IamIronMan.\n",
    "예제 출력 3 \n",
    "IamInevit......amIronMan.\n",
    "'IamInevitable.And,IamIronMan.' 의 길이는 29이므로 그대로 출력할 수 없다.\n",
    "\n",
    "'IamInevitable.And,IamIronMan.' 에서 앞/뒤 11글자를 제외한 나머지 부분은 'le.And,' 으로, 한 문장 안에 포함되지 않았기 때문에 '...'으로 치환할 수 없다.\n",
    "\n",
    "그러므로 앞 9글자, 뒤 10글자를 제외한 나머지 부분을 '......'으로 치환한 'IamInevit......amIronMan.'이 정답이 된다."
   ]
  },
  {
   "cell_type": "code",
   "execution_count": 1,
   "id": "89bfd223",
   "metadata": {},
   "outputs": [],
   "source": [
    "def solution():\n",
    "    N = int(input())\n",
    "    S = input().strip()\n",
    "    if N <= 25:\n",
    "        print(S)\n",
    "    else:\n",
    "        s = S[11:-11]\n",
    "        for sentence in S.split('.'):\n",
    "            if s in sentence + '.':\n",
    "                print(S[:11] + '.' * 3 + S[-11:])\n",
    "                break\n",
    "        else:\n",
    "            print(S[:9] + '.' * 6 + S[-10:])"
   ]
  },
  {
   "cell_type": "code",
   "execution_count": 2,
   "id": "24b3e70a",
   "metadata": {},
   "outputs": [
    {
     "name": "stdout",
     "output_type": "stream",
     "text": [
      "11\n",
      "IamIronMan.\n",
      "IamIronMan.\n"
     ]
    }
   ],
   "source": [
    "solution()"
   ]
  },
  {
   "cell_type": "code",
   "execution_count": 3,
   "id": "d789de9f",
   "metadata": {},
   "outputs": [
    {
     "name": "stdout",
     "output_type": "stream",
     "text": [
      "26\n",
      "And,IamIronMan.IamIronMan.\n",
      "And,IamIron...IamIronMan.\n"
     ]
    }
   ],
   "source": [
    "solution()"
   ]
  },
  {
   "cell_type": "code",
   "execution_count": 4,
   "id": "641d3e91",
   "metadata": {},
   "outputs": [
    {
     "name": "stdout",
     "output_type": "stream",
     "text": [
      "29\n",
      "IamInevitable.And,IamIronMan.\n",
      "IamInevit......amIronMan.\n"
     ]
    }
   ],
   "source": [
    "solution()"
   ]
  }
 ],
 "metadata": {
  "kernelspec": {
   "display_name": "Python 3",
   "language": "python",
   "name": "python3"
  },
  "language_info": {
   "codemirror_mode": {
    "name": "ipython",
    "version": 3
   },
   "file_extension": ".py",
   "mimetype": "text/x-python",
   "name": "python",
   "nbconvert_exporter": "python",
   "pygments_lexer": "ipython3",
   "version": "3.8.8"
  }
 },
 "nbformat": 4,
 "nbformat_minor": 5
}
