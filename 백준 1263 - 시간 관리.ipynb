{
 "cells": [
  {
   "cell_type": "markdown",
   "id": "b36fc58e",
   "metadata": {},
   "source": [
    "https://www.acmicpc.net/problem/1263\n",
    "\n",
    "문제\n",
    "진영이는 캠프 조교를 온 후 효율적으로 시간 관리를 해야 한다는 것을 깨달았다. 진영이는 하루에 해야 할 일이 총 N개가 있고 이 일들을 편하게 1번부터 N번까지 차례대로 번호를 붙였다.\n",
    "\n",
    "진영이는 시간을 효율적으로 관리하기 위해, 할 일들에 대해 끝내야할 시간과 걸리는 시간을 적은 명단을 만들었다. 즉, 이 명단은 i번째 일은 일을 처리하는데 정확히 Ti 시간이 걸리고 Si 시 내에 이 일을 처리하여야 한다는 것을 담고 있다. 진영이는 0시부터 활동을 시작할 수 있고, 두 개 이상의 일을 같은 시간에 처리할 수 없다.\n",
    "\n",
    "진영이가 바라는 점은 최대한 늦잠을 자는 것이다. 문제는 이러한 진영이를 도와 일들은 모두 마감시간 내에 처리할 수 있는 범위 내에서 최대한 늦게 일을 시작할 수 있는 시간이 몇 시인지 알아내는 것이다.\n",
    "\n",
    "입력\n",
    "첫째 줄에 일의 수 N이 입력되고 다음 N(1≤N≤1,000)개의 줄에 대해 i+1번째 줄에는 i번째 일에 대한 Ti(1≤Ti≤1,000)와 Si(1≤Si≤1,000,000)가 입력된다.\n",
    "\n",
    "출력\n",
    "진영이가 일을 모두 끝마칠 수 있는 가장 늦은 시간을 출력한다. 만약 0시부터 시작하여도 일을 끝마칠 수 없다면 -1을 출력한다.\n",
    "\n",
    "예제 입력 1 \n",
    "4\n",
    "3 5\n",
    "8 14\n",
    "5 20\n",
    "1 16\n",
    "예제 출력 1 \n",
    "2"
   ]
  },
  {
   "cell_type": "code",
   "execution_count": 1,
   "id": "21b90e24",
   "metadata": {},
   "outputs": [
    {
     "name": "stdout",
     "output_type": "stream",
     "text": [
      "4\n",
      "3 5\n",
      "8 14\n",
      "5 20\n",
      "1 16\n",
      "2\n"
     ]
    }
   ],
   "source": [
    "time = []\n",
    "for _ in range(int(input())):\n",
    "    t, s = map(int, input().split())\n",
    "    time.append((s, t))\n",
    "S = max(map(lambda x: x[0], time))\n",
    "if S - sum(map(lambda x: x[1], time)) < 0:\n",
    "    print(-1)\n",
    "else:\n",
    "    for s, t in sorted(time, reverse=True):\n",
    "        S = min(S, s)\n",
    "        S = S - t\n",
    "    print(S) if S >= 0 else print(-1)"
   ]
  }
 ],
 "metadata": {
  "kernelspec": {
   "display_name": "Python 3",
   "language": "python",
   "name": "python3"
  },
  "language_info": {
   "codemirror_mode": {
    "name": "ipython",
    "version": 3
   },
   "file_extension": ".py",
   "mimetype": "text/x-python",
   "name": "python",
   "nbconvert_exporter": "python",
   "pygments_lexer": "ipython3",
   "version": "3.8.8"
  }
 },
 "nbformat": 4,
 "nbformat_minor": 5
}
