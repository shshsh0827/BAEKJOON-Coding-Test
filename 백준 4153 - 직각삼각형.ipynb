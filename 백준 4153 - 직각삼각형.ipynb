{
 "cells": [
  {
   "cell_type": "markdown",
   "id": "121692d0",
   "metadata": {},
   "source": [
    "https://www.acmicpc.net/problem/4153\n",
    "\n",
    "문제\n",
    "과거 이집트인들은 각 변들의 길이가 3, 4, 5인 삼각형이 직각 삼각형인것을 알아냈다. 주어진 세변의 길이로 삼각형이 직각인지 아닌지 구분하시오.\n",
    "\n",
    "입력\n",
    "입력은 여러개의 테스트케이스로 주어지며 마지막줄에는 0 0 0이 입력된다. 각 테스트케이스는 모두 30,000보다 작은 양의 정수로 주어지며, 각 입력은 변의 길이를 의미한다.\n",
    "\n",
    "출력\n",
    "각 입력에 대해 직각 삼각형이 맞다면 \"right\", 아니라면 \"wrong\"을 출력한다.\n",
    "\n",
    "예제 입력 1 \n",
    "6 8 10\n",
    "25 52 60\n",
    "5 12 13\n",
    "0 0 0\n",
    "예제 출력 1 \n",
    "right\n",
    "wrong\n",
    "right"
   ]
  },
  {
   "cell_type": "code",
   "execution_count": 1,
   "id": "3a03fe2c",
   "metadata": {},
   "outputs": [
    {
     "name": "stdout",
     "output_type": "stream",
     "text": [
      "6 8 10\n",
      "right\n",
      "25 52 60\n",
      "wrong\n",
      "5 12 13\n",
      "right\n",
      "0 0 0\n"
     ]
    }
   ],
   "source": [
    "#import sys; input = sys.stdin.readline\n",
    "while True:\n",
    "    sides = list(map(int, input().split()))\n",
    "    if not sum(sides):\n",
    "        break\n",
    "    a, b, c = sorted(sides)\n",
    "    if c ** 2 == a ** 2 + b ** 2:\n",
    "        print('right')\n",
    "    else:\n",
    "        print('wrong')"
   ]
  }
 ],
 "metadata": {
  "kernelspec": {
   "display_name": "Python 3",
   "language": "python",
   "name": "python3"
  },
  "language_info": {
   "codemirror_mode": {
    "name": "ipython",
    "version": 3
   },
   "file_extension": ".py",
   "mimetype": "text/x-python",
   "name": "python",
   "nbconvert_exporter": "python",
   "pygments_lexer": "ipython3",
   "version": "3.8.8"
  }
 },
 "nbformat": 4,
 "nbformat_minor": 5
}
