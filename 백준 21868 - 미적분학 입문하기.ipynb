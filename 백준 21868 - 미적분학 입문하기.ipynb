{
 "cells": [
  {
   "cell_type": "markdown",
   "metadata": {},
   "source": [
    "https://www.acmicpc.net/problem/21868\n",
    "\n",
    "문제\n",
    "  : For a given , there exists a  such that , then \n",
    "\n",
    "이공계 대학생들은 대학교에 입학하면 반드시 입실론-델타 논법을 배운다. 위의 식은 입실론-델타 논법을 이용한 극한의 정의다.\n",
    "\n",
    "21학번 신입생들이 수강하고 있는 연세대학교 공학수학 I의 2차 퀴즈가 저번 주에 있었다. 국렬이는 연세대학교 신입생들에게 극한의 정의에 관한 내용을 되새겨주기 위해서 이 문제를 출제했다.\n",
    "\n",
    "문제는 간단하다. 양수 과 정수 , 그리고 일차 이하의 다항함수 가 주어졌을 때,  \n",
    " 의 값인 을 찾고, 을 만족하는 양수 의 최댓값을 구해보자.\n",
    "\n",
    "입력\n",
    "첫 번째 줄에는 양수 을 분수로 표현했을 때의 분자와 분모가 공백으로 구분되어 주어진다. 각 분자와 분모는  이상  이하의 자연수다.\n",
    "\n",
    "두 번째 줄에는 일차 이하의 다항함수 의 의 계수와 상수가 공백으로 구분되어 주어진다. 의 계수와 상수는  이상  이하의 정수다.\n",
    "\n",
    "마지막 줄에는 정수 이 주어진다. ()\n",
    "\n",
    "출력\n",
    "첫 번째 줄에 극한값 을 출력한다.\n",
    "\n",
    "두 번째 줄에 양수 의 최댓값을 분수로 표현했을 때의 분자와 분모를 공백으로 구분해서 출력한다. 해당 분수가 기약분수일 필요는 없으나, 분자와 분모는  이하의 자연수여야 한다. 만약에 양수 의 최댓값이 존재하지 않거나 최댓값을 분수로 표현했을 때의 분자, 분모를  이하의 자연수로 표현할 수 없다면 0 0을 출력한다.\n",
    "\n",
    "답이 여러 가지 존재하는 경우, 그 중 하나만 출력한다.\n",
    "\n",
    "예제 입력 1 \n",
    "1 1\n",
    "1 1\n",
    "1\n",
    "예제 출력 1 \n",
    "2\n",
    "1 1"
   ]
  },
  {
   "cell_type": "code",
   "execution_count": 1,
   "metadata": {},
   "outputs": [
    {
     "name": "stdout",
     "output_type": "stream",
     "text": [
      "1 1\n",
      "1 1\n",
      "1\n",
      "2\n",
      "1 1\n"
     ]
    }
   ],
   "source": [
    "c, p = map(int, input().split())\n",
    "a, b = map(int, input().split())\n",
    "x0 = int(input())\n",
    "print(a * x0 + b)\n",
    "print(abs(c), abs(p * a)) if c and p and a else print(0, 0)"
   ]
  }
 ],
 "metadata": {
  "kernelspec": {
   "display_name": "Python 3",
   "language": "python",
   "name": "python3"
  },
  "language_info": {
   "codemirror_mode": {
    "name": "ipython",
    "version": 3
   },
   "file_extension": ".py",
   "mimetype": "text/x-python",
   "name": "python",
   "nbconvert_exporter": "python",
   "pygments_lexer": "ipython3",
   "version": "3.7.4"
  }
 },
 "nbformat": 4,
 "nbformat_minor": 2
}
