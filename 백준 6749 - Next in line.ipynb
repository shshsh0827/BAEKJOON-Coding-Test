{
 "cells": [
  {
   "cell_type": "markdown",
   "id": "b91e4d46",
   "metadata": {},
   "source": [
    "https://www.acmicpc.net/problem/6749\n",
    "\n",
    "문제\n",
    "You know a family with three children. Their ages form an arithmetic sequence: the difference in ages between the middle child and youngest child is the same as the difference in ages between the oldest child and the middle child. For example, their ages could be 5, 10 and 15, since both adjacent pairs have a difference of 5 years.\n",
    "\n",
    "Given the ages of the youngest and middle children, what is the age of the oldest child?\n",
    "\n",
    "입력\n",
    "The input consists of two integers, each on a separate line. The first line is the age Y of the youngest child (0 ≤ Y ≤ 50). The second line is the age M of the middle child (Y ≤ M ≤ 50).\n",
    "\n",
    "출력\n",
    "The output will be the age of the oldest child.\n",
    "\n",
    "예제 입력 1 \n",
    "12\n",
    "15\n",
    "예제 출력 1 \n",
    "18"
   ]
  },
  {
   "cell_type": "code",
   "execution_count": 1,
   "id": "caa348eb",
   "metadata": {},
   "outputs": [
    {
     "name": "stdout",
     "output_type": "stream",
     "text": [
      "12\n",
      "15\n",
      "18\n"
     ]
    }
   ],
   "source": [
    "#import sys; input = sys.stdin.readline\n",
    "a = int(input())\n",
    "b = int(input())\n",
    "print(2 * b - a)"
   ]
  }
 ],
 "metadata": {
  "kernelspec": {
   "display_name": "Python 3",
   "language": "python",
   "name": "python3"
  },
  "language_info": {
   "codemirror_mode": {
    "name": "ipython",
    "version": 3
   },
   "file_extension": ".py",
   "mimetype": "text/x-python",
   "name": "python",
   "nbconvert_exporter": "python",
   "pygments_lexer": "ipython3",
   "version": "3.8.8"
  }
 },
 "nbformat": 4,
 "nbformat_minor": 5
}
