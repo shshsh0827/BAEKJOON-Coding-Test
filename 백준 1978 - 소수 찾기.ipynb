{
 "cells": [
  {
   "cell_type": "markdown",
   "id": "edd2cec0",
   "metadata": {},
   "source": [
    "https://www.acmicpc.net/problem/1978\n",
    "\n",
    "문제\n",
    "주어진 수 N개 중에서 소수가 몇 개인지 찾아서 출력하는 프로그램을 작성하시오.\n",
    "\n",
    "입력\n",
    "첫 줄에 수의 개수 N이 주어진다. N은 100이하이다. 다음으로 N개의 수가 주어지는데 수는 1,000 이하의 자연수이다.\n",
    "\n",
    "출력\n",
    "주어진 수들 중 소수의 개수를 출력한다.\n",
    "\n",
    "예제 입력 1 \n",
    "4\n",
    "1 3 5 7\n",
    "예제 출력 1 \n",
    "3"
   ]
  },
  {
   "cell_type": "code",
   "execution_count": 1,
   "id": "6a26043e",
   "metadata": {},
   "outputs": [
    {
     "name": "stdout",
     "output_type": "stream",
     "text": [
      "4\n",
      "1 3 5 7\n",
      "3\n"
     ]
    }
   ],
   "source": [
    "#import sys; input = sys.stdin.readline\n",
    "prime = list(range(2, 1001))\n",
    "i = 0\n",
    "n = prime[i]\n",
    "while n ** 2 <= 1000:\n",
    "    prime = sorted(list(set(prime) - set(range(n * 2, 1001, n))))\n",
    "    i += 1\n",
    "    n = prime[i]\n",
    "N = int(input())\n",
    "print(len(list(filter(lambda x: x in prime, map(int, input().split())))))"
   ]
  }
 ],
 "metadata": {
  "kernelspec": {
   "display_name": "Python 3",
   "language": "python",
   "name": "python3"
  },
  "language_info": {
   "codemirror_mode": {
    "name": "ipython",
    "version": 3
   },
   "file_extension": ".py",
   "mimetype": "text/x-python",
   "name": "python",
   "nbconvert_exporter": "python",
   "pygments_lexer": "ipython3",
   "version": "3.8.8"
  }
 },
 "nbformat": 4,
 "nbformat_minor": 5
}
