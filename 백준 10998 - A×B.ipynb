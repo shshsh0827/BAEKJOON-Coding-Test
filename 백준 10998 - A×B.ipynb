{
 "cells": [
  {
   "cell_type": "markdown",
   "id": "79c7045f",
   "metadata": {},
   "source": [
    "https://www.acmicpc.net/problem/10998\n",
    "\n",
    "문제\n",
    "두 정수 A와 B를 입력받은 다음, A×B를 출력하는 프로그램을 작성하시오.\n",
    "\n",
    "입력\n",
    "첫째 줄에 A와 B가 주어진다. (0 < A, B < 10)\n",
    "\n",
    "출력\n",
    "첫째 줄에 A×B를 출력한다.\n",
    "\n",
    "예제 입력 1 \n",
    "1 2\n",
    "예제 출력 1 \n",
    "2\n",
    "예제 입력 2 \n",
    "3 4\n",
    "예제 출력 2 \n",
    "12"
   ]
  },
  {
   "cell_type": "code",
   "execution_count": 1,
   "id": "e6ce9bb4",
   "metadata": {},
   "outputs": [],
   "source": [
    "def solution():\n",
    "    A, B = map(int, input().split())\n",
    "    print(A * B)"
   ]
  },
  {
   "cell_type": "code",
   "execution_count": 2,
   "id": "49427152",
   "metadata": {},
   "outputs": [
    {
     "name": "stdout",
     "output_type": "stream",
     "text": [
      "1 2\n",
      "2\n"
     ]
    }
   ],
   "source": [
    "solution()"
   ]
  },
  {
   "cell_type": "code",
   "execution_count": 3,
   "id": "f62b8848",
   "metadata": {},
   "outputs": [
    {
     "name": "stdout",
     "output_type": "stream",
     "text": [
      "3 4\n",
      "12\n"
     ]
    }
   ],
   "source": [
    "solution()"
   ]
  }
 ],
 "metadata": {
  "kernelspec": {
   "display_name": "Python 3",
   "language": "python",
   "name": "python3"
  },
  "language_info": {
   "codemirror_mode": {
    "name": "ipython",
    "version": 3
   },
   "file_extension": ".py",
   "mimetype": "text/x-python",
   "name": "python",
   "nbconvert_exporter": "python",
   "pygments_lexer": "ipython3",
   "version": "3.8.8"
  }
 },
 "nbformat": 4,
 "nbformat_minor": 5
}
