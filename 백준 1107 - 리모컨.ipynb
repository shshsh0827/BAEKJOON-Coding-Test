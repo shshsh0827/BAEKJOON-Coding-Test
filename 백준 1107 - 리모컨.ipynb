{
 "cells": [
  {
   "cell_type": "markdown",
   "id": "a33c2547",
   "metadata": {},
   "source": [
    "https://www.acmicpc.net/problem/1107\n",
    "\n",
    "문제\n",
    "수빈이는 TV를 보고 있다. 수빈이는 채널을 돌리려고 했지만, 버튼을 너무 세게 누르는 바람에, 일부 숫자 버튼이 고장났다.\n",
    "\n",
    "리모컨에는 버튼이 0부터 9까지 숫자, +와 -가 있다. +를 누르면 현재 보고있는 채널에서 +1된 채널로 이동하고, -를 누르면 -1된 채널로 이동한다. 채널 0에서 -를 누른 경우에는 채널이 변하지 않고, 채널은 무한대 만큼 있다.\n",
    "\n",
    "수빈이가 지금 이동하려고 하는 채널은 N이다. 어떤 버튼이 고장났는지 주어졌을 때, 채널 N으로 이동하기 위해서 버튼을 최소 몇 번 눌러야하는지 구하는 프로그램을 작성하시오. \n",
    "\n",
    "수빈이가 지금 보고 있는 채널은 100번이다.\n",
    "\n",
    "입력\n",
    "첫째 줄에 수빈이가 이동하려고 하는 채널 N (0 ≤ N ≤ 500,000)이 주어진다.  둘째 줄에는 고장난 버튼의 개수 M (0 ≤ M ≤ 10)이 주어진다. 고장난 버튼이 있는 경우에는 셋째 줄에는 고장난 버튼이 주어지며, 같은 버튼이 여러 번 주어지는 경우는 없다.\n",
    "\n",
    "출력\n",
    "첫째 줄에 채널 N으로 이동하기 위해 버튼을 최소 몇 번 눌러야 하는지를 출력한다.\n",
    "\n",
    "예제 입력 1 \n",
    "5457\n",
    "3\n",
    "6 7 8\n",
    "예제 출력 1 \n",
    "6\n",
    "예제 입력 2 \n",
    "100\n",
    "5\n",
    "0 1 2 3 4\n",
    "예제 출력 2 \n",
    "0\n",
    "예제 입력 3 \n",
    "500000\n",
    "8\n",
    "0 2 3 4 6 7 8 9\n",
    "예제 출력 3 \n",
    "11117"
   ]
  },
  {
   "cell_type": "code",
   "execution_count": 1,
   "id": "b9d758fa",
   "metadata": {},
   "outputs": [],
   "source": [
    "def solution():\n",
    "    #import sys; input = sys.stdin.readline\n",
    "    N = input().strip()\n",
    "    M = int(input().strip())\n",
    "    push = abs(int(N) - 100)\n",
    "    if M:\n",
    "        br = list(input().strip().split())\n",
    "        for channel in range(0, 1000001):\n",
    "            for number in str(channel):\n",
    "                if number in br:\n",
    "                    break\n",
    "            else:\n",
    "                push = min(push, abs(int(N) - channel) + len(str(channel)))\n",
    "        print(push)\n",
    "    else:\n",
    "        print(min(push, len(N)))"
   ]
  },
  {
   "cell_type": "code",
   "execution_count": 2,
   "id": "760f9ae2",
   "metadata": {},
   "outputs": [
    {
     "name": "stdout",
     "output_type": "stream",
     "text": [
      "5457\n",
      "3\n",
      "6 7 8\n",
      "6\n"
     ]
    }
   ],
   "source": [
    "solution()"
   ]
  },
  {
   "cell_type": "code",
   "execution_count": 3,
   "id": "038fc4cc",
   "metadata": {},
   "outputs": [
    {
     "name": "stdout",
     "output_type": "stream",
     "text": [
      "100\n",
      "5\n",
      "0 1 2 3 4\n",
      "0\n"
     ]
    }
   ],
   "source": [
    "solution()"
   ]
  },
  {
   "cell_type": "code",
   "execution_count": 4,
   "id": "edf2e3d5",
   "metadata": {},
   "outputs": [
    {
     "name": "stdout",
     "output_type": "stream",
     "text": [
      "500000\n",
      "8\n",
      "0 2 3 4 6 7 8 9\n",
      "11117\n"
     ]
    }
   ],
   "source": [
    "solution()"
   ]
  }
 ],
 "metadata": {
  "kernelspec": {
   "display_name": "Python 3",
   "language": "python",
   "name": "python3"
  },
  "language_info": {
   "codemirror_mode": {
    "name": "ipython",
    "version": 3
   },
   "file_extension": ".py",
   "mimetype": "text/x-python",
   "name": "python",
   "nbconvert_exporter": "python",
   "pygments_lexer": "ipython3",
   "version": "3.8.8"
  }
 },
 "nbformat": 4,
 "nbformat_minor": 5
}
