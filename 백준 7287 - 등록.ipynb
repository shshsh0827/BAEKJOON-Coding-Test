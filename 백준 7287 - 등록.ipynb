{
 "cells": [
  {
   "cell_type": "markdown",
   "id": "109abda0",
   "metadata": {},
   "source": [
    "https://www.acmicpc.net/problem/7287\n",
    "\n",
    "문제\n",
    "자신이 백준 온라인 저지(BOJ)에서 맞은 문제의 수와 아이디를 그대로 출력하는 프로그램을 작성하시오.\n",
    "\n",
    "입력\n",
    "이 문제는 입력이 없다.\n",
    "\n",
    "출력\n",
    "첫 줄에 자신이 맞은 문제의 수, 둘째 줄에 아이디를 출력한다.\n",
    "\n",
    "예제 입력 1 \n",
    "예제 출력 1 \n",
    "123\n",
    "Your_ICPC_Team_Name"
   ]
  },
  {
   "cell_type": "code",
   "execution_count": 1,
   "id": "3f1cd76d",
   "metadata": {},
   "outputs": [
    {
     "name": "stdout",
     "output_type": "stream",
     "text": [
      "115\n",
      "vkdldjvkdnj\n"
     ]
    }
   ],
   "source": [
    "print(115)\n",
    "print('vkdldjvkdnj')"
   ]
  }
 ],
 "metadata": {
  "kernelspec": {
   "display_name": "Python 3",
   "language": "python",
   "name": "python3"
  },
  "language_info": {
   "codemirror_mode": {
    "name": "ipython",
    "version": 3
   },
   "file_extension": ".py",
   "mimetype": "text/x-python",
   "name": "python",
   "nbconvert_exporter": "python",
   "pygments_lexer": "ipython3",
   "version": "3.8.8"
  }
 },
 "nbformat": 4,
 "nbformat_minor": 5
}
