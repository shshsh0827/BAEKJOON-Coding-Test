{
 "cells": [
  {
   "cell_type": "markdown",
   "metadata": {},
   "source": [
    "https://www.acmicpc.net/problem/9019\n",
    "\n",
    "문제\n",
    "네 개의 명령어 D, S, L, R 을 이용하는 간단한 계산기가 있다. 이 계산기에는 레지스터가 하나 있는데, 이 레지스터에는 0 이상 10,000 미만의 십진수를 저장할 수 있다. 각 명령어는 이 레지스터에 저장된 n을 다음과 같이 변환한다. n의 네 자릿수를 d1, d2, d3, d4라고 하자(즉 n = ((d1 × 10 + d2) × 10 + d3) × 10 + d4라고 하자)\n",
    "\n",
    "D: D 는 n을 두 배로 바꾼다. 결과 값이 9999 보다 큰 경우에는 10000 으로 나눈 나머지를 취한다. 그 결과 값(2n mod 10000)을 레지스터에 저장한다.\n",
    "S: S 는 n에서 1 을 뺀 결과 n-1을 레지스터에 저장한다. n이 0 이라면 9999 가 대신 레지스터에 저장된다.\n",
    "L: L 은 n의 각 자릿수를 왼편으로 회전시켜 그 결과를 레지스터에 저장한다. 이 연산이 끝나면 레지스터에 저장된 네 자릿수는 왼편부터 d2, d3, d4, d1이 된다.\n",
    "R: R 은 n의 각 자릿수를 오른편으로 회전시켜 그 결과를 레지스터에 저장한다. 이 연산이 끝나면 레지스터에 저장된 네 자릿수는 왼편부터 d4, d1, d2, d3이 된다.\n",
    "위에서 언급한 것처럼, L 과 R 명령어는 십진 자릿수를 가정하고 연산을 수행한다. 예를 들어서 n = 1234 라면 여기에 L 을 적용하면 2341 이 되고 R 을 적용하면 4123 이 된다.\n",
    "\n",
    "여러분이 작성할 프로그램은 주어진 서로 다른 두 정수 A와 B(A ≠ B)에 대하여 A를 B로 바꾸는 최소한의 명령어를 생성하는 프로그램이다. 예를 들어서 A = 1234, B = 3412 라면 다음과 같이 두 개의 명령어를 적용하면 A를 B로 변환할 수 있다.\n",
    "\n",
    "1234 →L 2341 →L 3412\n",
    "1234 →R 4123 →R 3412\n",
    "\n",
    "따라서 여러분의 프로그램은 이 경우에 LL 이나 RR 을 출력해야 한다.\n",
    "\n",
    "n의 자릿수로 0 이 포함된 경우에 주의해야 한다. 예를 들어서 1000 에 L 을 적용하면 0001 이 되므로 결과는 1 이 된다. 그러나 R 을 적용하면 0100 이 되므로 결과는 100 이 된다.\n",
    "\n",
    "입력\n",
    "프로그램 입력은 T 개의 테스트 케이스로 구성된다. 테스트 케이스 개수 T 는 입력의 첫 줄에 주어진다. 각 테스트 케이스로는 두 개의 정수 A와 B(A ≠ B)가 공백으로 분리되어 차례로 주어지는데 A는 레지스터의 초기 값을 나타내고 B는 최종 값을 나타낸다. A 와 B는 모두 0 이상 10,000 미만이다.\n",
    "\n",
    "출력\n",
    "A에서 B로 변환하기 위해 필요한 최소한의 명령어 나열을 출력한다. 가능한 명령어 나열이 여러가지면, 아무거나 출력한다.\n",
    "\n",
    "예제 입력 1 \n",
    "3\n",
    "1234 3412\n",
    "1000 1\n",
    "1 16\n",
    "예제 출력 1 \n",
    "LL\n",
    "L\n",
    "DDDD"
   ]
  },
  {
   "cell_type": "code",
   "execution_count": 1,
   "metadata": {},
   "outputs": [
    {
     "name": "stdout",
     "output_type": "stream",
     "text": [
      "3\n",
      "1234 3412\n",
      "LL\n",
      "1000 1\n",
      "L\n",
      "1 16\n",
      "DDDD\n"
     ]
    }
   ],
   "source": [
    "## PyPy3\n",
    "#import sys; input = sys.stdin.readline\n",
    "from collections import deque\n",
    "\n",
    "def D(n):\n",
    "    return n * 2 % 10000\n",
    "\n",
    "def S(n):\n",
    "    return (n - 1) % 10000\n",
    "\n",
    "def L(n):\n",
    "    return n % 1000 * 10 + n // 1000\n",
    "\n",
    "def R(n):\n",
    "    return n * 1000 % 10000 + n // 10\n",
    "\n",
    "for _ in range(int(input())):\n",
    "    A, B = map(int, input().split())\n",
    "    dp = ['' for _ in range(10000)]\n",
    "    queue = deque([A])\n",
    "    dp[A] = 'A'\n",
    "    while not dp[B]:\n",
    "        n = deque.popleft(queue)\n",
    "        if not dp[D(n)]:\n",
    "            deque.append(queue, D(n))\n",
    "            dp[D(n)] = dp[n] + 'D'\n",
    "        if not dp[S(n)]:\n",
    "            deque.append(queue, S(n))\n",
    "            dp[S(n)] = dp[n] + 'S'\n",
    "        if not dp[L(n)]:\n",
    "            deque.append(queue, L(n))\n",
    "            dp[L(n)] = dp[n] + 'L'\n",
    "        if not dp[R(n)]:\n",
    "            deque.append(queue, R(n))\n",
    "            dp[R(n)] = dp[n] + 'R'\n",
    "    else:\n",
    "        print(dp[B].lstrip('A'))"
   ]
  }
 ],
 "metadata": {
  "kernelspec": {
   "display_name": "Python 3",
   "language": "python",
   "name": "python3"
  },
  "language_info": {
   "codemirror_mode": {
    "name": "ipython",
    "version": 3
   },
   "file_extension": ".py",
   "mimetype": "text/x-python",
   "name": "python",
   "nbconvert_exporter": "python",
   "pygments_lexer": "ipython3",
   "version": "3.7.4"
  }
 },
 "nbformat": 4,
 "nbformat_minor": 2
}
