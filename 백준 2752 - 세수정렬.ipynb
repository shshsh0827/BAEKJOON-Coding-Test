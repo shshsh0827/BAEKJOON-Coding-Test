{
 "cells": [
  {
   "cell_type": "markdown",
   "id": "43521ea6",
   "metadata": {},
   "source": [
    "https://www.acmicpc.net/problem/2752\n",
    "\n",
    "문제\n",
    "동규는 세수를 하다가 정렬이 하고싶어졌다.\n",
    "\n",
    "숫자 세 개를 생각한 뒤에, 이를 오름차순으로 정렬하고 싶어 졌다.\n",
    "\n",
    "숫자 세 개가 주어졌을 때, 가장 작은 수, 그 다음 수, 가장 큰 수를 출력하는 프로그램을 작성하시오.\n",
    "\n",
    "입력\n",
    "숫자 세 개가 주어진다. 이 숫자는 1보다 크거나 같고, 1,000,000보다 작거나 같다. 이 숫자는 모두 다르다.\n",
    "\n",
    "출력\n",
    "제일 작은 수, 그 다음 수, 제일 큰 수를 차례대로 출력한다.\n",
    "\n",
    "예제 입력 1 \n",
    "3 1 2\n",
    "예제 출력 1 \n",
    "1 2 3"
   ]
  },
  {
   "cell_type": "code",
   "execution_count": 1,
   "id": "0da95c32",
   "metadata": {},
   "outputs": [
    {
     "name": "stdout",
     "output_type": "stream",
     "text": [
      "3 1 2\n",
      "1 2 3 "
     ]
    }
   ],
   "source": [
    "for n in sorted(map(int, input().split())): print(n, end = ' ')"
   ]
  }
 ],
 "metadata": {
  "kernelspec": {
   "display_name": "Python 3",
   "language": "python",
   "name": "python3"
  },
  "language_info": {
   "codemirror_mode": {
    "name": "ipython",
    "version": 3
   },
   "file_extension": ".py",
   "mimetype": "text/x-python",
   "name": "python",
   "nbconvert_exporter": "python",
   "pygments_lexer": "ipython3",
   "version": "3.8.8"
  }
 },
 "nbformat": 4,
 "nbformat_minor": 5
}
