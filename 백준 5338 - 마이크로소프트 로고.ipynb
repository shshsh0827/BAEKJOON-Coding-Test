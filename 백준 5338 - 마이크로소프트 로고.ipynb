{
 "cells": [
  {
   "cell_type": "markdown",
   "id": "4c933821",
   "metadata": {},
   "source": [
    "https://www.acmicpc.net/problem/5338\n",
    "\n",
    "문제\n",
    "마이크로소프트 로고를 예제 출력처럼 출력하는 프로그램을 작성하시오.\n",
    "\n",
    "출력\n",
    "마이크로소프트 로고를 예제 출력처럼 출력한다.\n",
    "\n",
    "예제 입력 1 \n",
    "예제 출력 1 \n",
    "       _.-;;-._\n",
    "'-..-'|   ||   |\n",
    "'-..-'|_.-;;-._|\n",
    "'-..-'|   ||   |\n",
    "'-..-'|_.-''-._|"
   ]
  },
  {
   "cell_type": "code",
   "execution_count": 1,
   "id": "a63c43d6",
   "metadata": {},
   "outputs": [
    {
     "name": "stdout",
     "output_type": "stream",
     "text": [
      "       _.-;;-._\n",
      "'-..-'|   ||   |\n",
      "'-..-'|_.-;;-._|\n",
      "'-..-'|   ||   |\n",
      "'-..-'|_.-''-._|\n"
     ]
    }
   ],
   "source": [
    "print(\"       _.-;;-._\")\n",
    "print(\"'-..-'|   ||   |\")\n",
    "print(\"'-..-'|_.-;;-._|\")\n",
    "print(\"'-..-'|   ||   |\")\n",
    "print(\"'-..-'|_.-''-._|\")"
   ]
  }
 ],
 "metadata": {
  "kernelspec": {
   "display_name": "Python 3",
   "language": "python",
   "name": "python3"
  },
  "language_info": {
   "codemirror_mode": {
    "name": "ipython",
    "version": 3
   },
   "file_extension": ".py",
   "mimetype": "text/x-python",
   "name": "python",
   "nbconvert_exporter": "python",
   "pygments_lexer": "ipython3",
   "version": "3.8.8"
  }
 },
 "nbformat": 4,
 "nbformat_minor": 5
}
