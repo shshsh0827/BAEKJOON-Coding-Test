{
 "cells": [
  {
   "cell_type": "markdown",
   "id": "1b193cc7",
   "metadata": {},
   "source": [
    "https://www.acmicpc.net/problem/1022\n",
    "\n",
    "문제\n",
    "크기가 무한인 정사각형 모눈종이가 있다. 모눈종이의 각 정사각형은 행과 열의 쌍으로 표현할 수 있다.\n",
    "\n",
    "이 모눈종이 전체를 양의 정수의 소용돌이 모양으로 채울 것이다. 일단 숫자 1을 0행 0열에 쓴다. 그리고 나서 0행 1열에 숫자 2를 쓴다. 거기서 부터 소용돌이는 반시계 방향으로 시작된다. 다음 숫자는 다음과 같이 채우면 된다.\n",
    "\n",
    "    -3 -2 -1  0  1  2  3\n",
    "    --------------------\n",
    "-3 |37 36 35 34 33 32 31\n",
    "-2 |38 17 16 15 14 13 30\n",
    "-1 |39 18  5  4  3 12 29\n",
    " 0 |40 19  6  1  2 11 28\n",
    " 1 |41 20  7  8  9 10 27\n",
    " 2 |42 21 22 23 24 25 26\n",
    " 3 |43 44 45 46 47 48 49\n",
    "이 문제는 위와 같이 채운 것을 예쁘게 출력하면 된다. r1, c1, r2, c2가 입력으로 주어진다. r1, c1은 가장 왼쪽 위 칸이고, r2, c2는 가장 오른쪽 아래 칸이다.\n",
    "\n",
    "예쁘게 출력한다는 것은 다음과 같이 출력하는 것이다.\n",
    "\n",
    "출력은 r1행부터 r2행까지 차례대로 출력한다.\n",
    "각 원소는 공백으로 구분한다.\n",
    "모든 행은 같은 길이를 가져야 한다.\n",
    "공백의 길이는 최소로 해야 한다.\n",
    "모든 숫자의 길이(앞에 붙는 공백을 포함)는 같아야 한다.\n",
    "만약 수의 길이가 가장 길이가 긴 수보다 작다면, 왼쪽에서부터 공백을 삽입해 길이를 맞춘다.\n",
    "입력\n",
    "첫째 줄에 네 정수 r1, c1, r2, c2가 주어진다.\n",
    "\n",
    "출력\n",
    "r2 - r1 + 1개의 줄에 소용돌이를 예쁘게 출력한다.\n",
    "\n",
    "제한\n",
    "-5 000 ≤ r1, c1, r2, c2 ≤ 5,000\n",
    "0 ≤ r2 - r1 ≤ 49\n",
    "0 ≤ c2 - c1 ≤ 4\n",
    "예제 입력 1 \n",
    "-3 -3 2 0\n",
    "예제 출력 1 \n",
    "37 36 35 34\n",
    "38 17 16 15\n",
    "39 18  5  4\n",
    "40 19  6  1\n",
    "41 20  7  8\n",
    "42 21 22 23"
   ]
  },
  {
   "cell_type": "code",
   "execution_count": 1,
   "id": "4831c291",
   "metadata": {},
   "outputs": [
    {
     "name": "stdout",
     "output_type": "stream",
     "text": [
      "-3 -3 2 0\n",
      "37 36 35 34\n",
      "38 17 16 15\n",
      "39 18  5  4\n",
      "40 19  6  1\n",
      "41 20  7  8\n",
      "42 21 22 23\n"
     ]
    }
   ],
   "source": [
    "def rc(r, c):\n",
    "    n = max(abs(r), abs(c))\n",
    "    N = n * 2 + 1\n",
    "    if r < c:\n",
    "        return (N - 2) ** 2 + n - r + n - c\n",
    "    else:\n",
    "        return N ** 2 - n + r - n + c\n",
    "\n",
    "r1, c1, r2, c2 = list(map(int, input().split()))\n",
    "\n",
    "answer = []\n",
    "for r in range(r1, r2 + 1):\n",
    "    raw = []\n",
    "    for c in range(c1, c2 + 1):\n",
    "        raw.append(rc(r, c))\n",
    "    answer.append(raw)\n",
    "length = len(str(max(map(lambda x: max(x), answer))))\n",
    "for i in [' '.join(map(lambda x: str(x).rjust(length), raw)) for raw in answer]:\n",
    "    print(i)"
   ]
  }
 ],
 "metadata": {
  "kernelspec": {
   "display_name": "Python 3",
   "language": "python",
   "name": "python3"
  },
  "language_info": {
   "codemirror_mode": {
    "name": "ipython",
    "version": 3
   },
   "file_extension": ".py",
   "mimetype": "text/x-python",
   "name": "python",
   "nbconvert_exporter": "python",
   "pygments_lexer": "ipython3",
   "version": "3.8.8"
  }
 },
 "nbformat": 4,
 "nbformat_minor": 5
}
