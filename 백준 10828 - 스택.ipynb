{
 "cells": [
  {
   "cell_type": "markdown",
   "id": "92cf9ed2",
   "metadata": {},
   "source": [
    "https://www.acmicpc.net/problem/10828\n",
    "\n",
    "문제\n",
    "정수를 저장하는 스택을 구현한 다음, 입력으로 주어지는 명령을 처리하는 프로그램을 작성하시오.\n",
    "\n",
    "명령은 총 다섯 가지이다.\n",
    "\n",
    "push X: 정수 X를 스택에 넣는 연산이다.\n",
    "pop: 스택에서 가장 위에 있는 정수를 빼고, 그 수를 출력한다. 만약 스택에 들어있는 정수가 없는 경우에는 -1을 출력한다.\n",
    "size: 스택에 들어있는 정수의 개수를 출력한다.\n",
    "empty: 스택이 비어있으면 1, 아니면 0을 출력한다.\n",
    "top: 스택의 가장 위에 있는 정수를 출력한다. 만약 스택에 들어있는 정수가 없는 경우에는 -1을 출력한다.\n",
    "입력\n",
    "첫째 줄에 주어지는 명령의 수 N (1 ≤ N ≤ 10,000)이 주어진다. 둘째 줄부터 N개의 줄에는 명령이 하나씩 주어진다. 주어지는 정수는 1보다 크거나 같고, 100,000보다 작거나 같다. 문제에 나와있지 않은 명령이 주어지는 경우는 없다.\n",
    "\n",
    "출력\n",
    "출력해야하는 명령이 주어질 때마다, 한 줄에 하나씩 출력한다.\n",
    "\n",
    "예제 입력 1 \n",
    "14\n",
    "push 1\n",
    "push 2\n",
    "top\n",
    "size\n",
    "empty\n",
    "pop\n",
    "pop\n",
    "pop\n",
    "size\n",
    "empty\n",
    "pop\n",
    "push 3\n",
    "empty\n",
    "top\n",
    "예제 출력 1 \n",
    "2\n",
    "2\n",
    "0\n",
    "2\n",
    "1\n",
    "-1\n",
    "0\n",
    "1\n",
    "-1\n",
    "0\n",
    "3\n",
    "예제 입력 2 \n",
    "7\n",
    "pop\n",
    "top\n",
    "push 123\n",
    "top\n",
    "pop\n",
    "top\n",
    "pop\n",
    "예제 출력 2 \n",
    "-1\n",
    "-1\n",
    "123\n",
    "123\n",
    "-1\n",
    "-1"
   ]
  },
  {
   "cell_type": "code",
   "execution_count": 1,
   "id": "35d6e15b",
   "metadata": {},
   "outputs": [],
   "source": [
    "def solution():\n",
    "    #import sys; input = sys.stdin.readline\n",
    "    stack = []\n",
    "    for _ in range(int(input())):\n",
    "        commandX = input().strip().split()\n",
    "        command = commandX[0]\n",
    "        if command == 'push':\n",
    "            stack.append(int(commandX[1]))\n",
    "        elif command == 'pop':\n",
    "            try:\n",
    "                print(stack.pop())\n",
    "            except:\n",
    "                print(-1)\n",
    "        elif command == 'size':\n",
    "            print(len(stack))\n",
    "        elif command == 'empty':\n",
    "            print(int(bool(not stack)))\n",
    "        else:\n",
    "            try:\n",
    "                print(stack[-1])\n",
    "            except:\n",
    "                print(-1)"
   ]
  },
  {
   "cell_type": "code",
   "execution_count": 2,
   "id": "1e43ff5f",
   "metadata": {},
   "outputs": [
    {
     "name": "stdout",
     "output_type": "stream",
     "text": [
      "14\n",
      "push 1\n",
      "push 2\n",
      "top\n",
      "2\n",
      "size\n",
      "2\n",
      "empty\n",
      "0\n",
      "pop\n",
      "2\n",
      "pop\n",
      "1\n",
      "pop\n",
      "-1\n",
      "size\n",
      "0\n",
      "empty\n",
      "1\n",
      "pop\n",
      "-1\n",
      "push 3\n",
      "empty\n",
      "0\n",
      "top\n",
      "3\n"
     ]
    }
   ],
   "source": [
    "solution()"
   ]
  },
  {
   "cell_type": "code",
   "execution_count": 3,
   "id": "e800c7b2",
   "metadata": {},
   "outputs": [
    {
     "name": "stdout",
     "output_type": "stream",
     "text": [
      "7\n",
      "pop\n",
      "-1\n",
      "top\n",
      "-1\n",
      "push 123\n",
      "top\n",
      "123\n",
      "pop\n",
      "123\n",
      "top\n",
      "-1\n",
      "pop\n",
      "-1\n"
     ]
    }
   ],
   "source": [
    "solution()"
   ]
  }
 ],
 "metadata": {
  "kernelspec": {
   "display_name": "Python 3",
   "language": "python",
   "name": "python3"
  },
  "language_info": {
   "codemirror_mode": {
    "name": "ipython",
    "version": 3
   },
   "file_extension": ".py",
   "mimetype": "text/x-python",
   "name": "python",
   "nbconvert_exporter": "python",
   "pygments_lexer": "ipython3",
   "version": "3.8.8"
  }
 },
 "nbformat": 4,
 "nbformat_minor": 5
}
