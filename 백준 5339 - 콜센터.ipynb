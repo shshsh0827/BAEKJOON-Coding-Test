{
 "cells": [
  {
   "cell_type": "markdown",
   "id": "a16ca982",
   "metadata": {},
   "source": [
    "https://www.acmicpc.net/problem/5339\n",
    "\n",
    "문제\n",
    "스타워즈에 등장하는 로봇인 C3PO는 요즘 콜센터에 근무하고 있다. 콜센터에 앉아있는 C3PO를 그리는 프로그램을 작성하시오.\n",
    "\n",
    "출력\n",
    "예제 출력처럼 콜센터에 앉아있는 C3PO를 출력한다. 마지막 세 줄의 두 '|' 사이에는 공백이 10개 있다.\n",
    "\n",
    "예제 입력 1 \n",
    "예제 출력 1 \n",
    "     /~\\\n",
    "    ( oo|\n",
    "    _\\=/_\n",
    "   /  _  \\\n",
    "  //|/.\\|\\\\\n",
    " ||  \\ /  ||\n",
    "============\n",
    "|          |\n",
    "|          |\n",
    "|          |"
   ]
  },
  {
   "cell_type": "code",
   "execution_count": 1,
   "id": "6871561d",
   "metadata": {},
   "outputs": [
    {
     "name": "stdout",
     "output_type": "stream",
     "text": [
      "     /~\\\n",
      "    ( oo|\n",
      "    _\\=/_\n",
      "   /  _  \\\n",
      "  //|/.\\|\\\\\n",
      " ||  \\ /  ||\n",
      "============\n",
      "|          |\n",
      "|          |\n",
      "|          |\n"
     ]
    }
   ],
   "source": [
    "print('     /~\\\\')\n",
    "print('    ( oo|')\n",
    "print('    _\\=/_')\n",
    "print('   /  _  \\\\')\n",
    "print('  //|/.\\|\\\\\\\\')\n",
    "print(' ||  \\ /  ||')\n",
    "print('============')\n",
    "print('|          |')\n",
    "print('|          |')\n",
    "print('|          |')"
   ]
  }
 ],
 "metadata": {
  "kernelspec": {
   "display_name": "Python 3",
   "language": "python",
   "name": "python3"
  },
  "language_info": {
   "codemirror_mode": {
    "name": "ipython",
    "version": 3
   },
   "file_extension": ".py",
   "mimetype": "text/x-python",
   "name": "python",
   "nbconvert_exporter": "python",
   "pygments_lexer": "ipython3",
   "version": "3.8.8"
  }
 },
 "nbformat": 4,
 "nbformat_minor": 5
}
