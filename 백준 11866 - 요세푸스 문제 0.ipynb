{
 "cells": [
  {
   "cell_type": "markdown",
   "id": "a6af7a91",
   "metadata": {},
   "source": [
    "https://www.acmicpc.net/problem/11866\n",
    "\n",
    "문제\n",
    "요세푸스 문제는 다음과 같다.\n",
    "\n",
    "1번부터 N번까지 N명의 사람이 원을 이루면서 앉아있고, 양의 정수 K(≤ N)가 주어진다. 이제 순서대로 K번째 사람을 제거한다. 한 사람이 제거되면 남은 사람들로 이루어진 원을 따라 이 과정을 계속해 나간다. 이 과정은 N명의 사람이 모두 제거될 때까지 계속된다. 원에서 사람들이 제거되는 순서를 (N, K)-요세푸스 순열이라고 한다. 예를 들어 (7, 3)-요세푸스 순열은 <3, 6, 2, 7, 5, 1, 4>이다.\n",
    "\n",
    "N과 K가 주어지면 (N, K)-요세푸스 순열을 구하는 프로그램을 작성하시오.\n",
    "\n",
    "입력\n",
    "첫째 줄에 N과 K가 빈 칸을 사이에 두고 순서대로 주어진다. (1 ≤ K ≤ N ≤ 1,000)\n",
    "\n",
    "출력\n",
    "예제와 같이 요세푸스 순열을 출력한다.\n",
    "\n",
    "예제 입력 1 \n",
    "7 3\n",
    "예제 출력 1 \n",
    "<3, 6, 2, 7, 5, 1, 4>"
   ]
  },
  {
   "cell_type": "code",
   "execution_count": 1,
   "id": "cf7bd28f",
   "metadata": {},
   "outputs": [
    {
     "name": "stdout",
     "output_type": "stream",
     "text": [
      "7 3\n",
      "<3, 6, 2, 7, 5, 1, 4>\n"
     ]
    }
   ],
   "source": [
    "from collections import deque\n",
    "N, K = map(int, input().split())\n",
    "queue = deque(range(1, N + 1))\n",
    "josephus = []\n",
    "while queue:\n",
    "    for _ in range(K - 1):\n",
    "        deque.append(queue, deque.popleft(queue))\n",
    "    else:\n",
    "        josephus.append(deque.popleft(queue))\n",
    "print('<' + str(josephus)[1:-1] + '>')"
   ]
  }
 ],
 "metadata": {
  "kernelspec": {
   "display_name": "Python 3",
   "language": "python",
   "name": "python3"
  },
  "language_info": {
   "codemirror_mode": {
    "name": "ipython",
    "version": 3
   },
   "file_extension": ".py",
   "mimetype": "text/x-python",
   "name": "python",
   "nbconvert_exporter": "python",
   "pygments_lexer": "ipython3",
   "version": "3.8.8"
  }
 },
 "nbformat": 4,
 "nbformat_minor": 5
}
