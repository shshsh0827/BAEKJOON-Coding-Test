{
 "cells": [
  {
   "cell_type": "markdown",
   "id": "3691da14",
   "metadata": {},
   "source": [
    "https://www.acmicpc.net/problem/16928\n",
    "\n",
    "문제\n",
    "뱀과 사다리 게임을 즐겨 하는 큐브러버는 어느 날 궁금한 점이 생겼다.\n",
    "\n",
    "주사위를 조작해 내가 원하는 수가 나오게 만들 수 있다면, 최소 몇 번만에 도착점에 도착할 수 있을까?\n",
    "\n",
    "게임은 정육면체 주사위를 사용하며, 주사위의 각 면에는 1부터 6까지 수가 하나씩 적혀있다. 게임은 크기가 10×10이고, 총 100개의 칸으로 나누어져 있는 보드판에서 진행된다. 보드판에는 1부터 100까지 수가 하나씩 순서대로 적혀져 있다.\n",
    "\n",
    "플레이어는 주사위를 굴려 나온 수만큼 이동해야 한다. 예를 들어, 플레이어가 i번 칸에 있고, 주사위를 굴려 나온 수가 4라면, i+4번 칸으로 이동해야 한다. 만약 주사위를 굴린 결과가 100번 칸을 넘어간다면 이동할 수 없다. 도착한 칸이 사다리면, 사다리를 타고 위로 올라간다. 뱀이 있는 칸에 도착하면, 뱀을 따라서 내려가게 된다. 즉, 사다리를 이용해 이동한 칸의 번호는 원래 있던 칸의 번호보다 크고, 뱀을 이용해 이동한 칸의 번호는 원래 있던 칸의 번호보다 작아진다.\n",
    "\n",
    "게임의 목표는 1번 칸에서 시작해서 100번 칸에 도착하는 것이다.\n",
    "\n",
    "게임판의 상태가 주어졌을 때, 100번 칸에 도착하기 위해 주사위를 굴려야 하는 횟수의 최솟값을 구해보자.\n",
    "\n",
    "입력\n",
    "첫째 줄에 게임판에 있는 사다리의 수 N(1 ≤ N ≤ 15)과 뱀의 수 M(1 ≤ M ≤ 15)이 주어진다.\n",
    "\n",
    "둘째 줄부터 N개의 줄에는 사다리의 정보를 의미하는 x, y (x < y)가 주어진다. x번 칸에 도착하면, y번 칸으로 이동한다는 의미이다.\n",
    "\n",
    "다음 M개의 줄에는 뱀의 정보를 의미하는 u, v (u > v)가 주어진다. u번 칸에 도착하면, v번 칸으로 이동한다는 의미이다.\n",
    "\n",
    "1번 칸과 100번 칸은 뱀과 사다리의 시작 또는 끝이 아니다. 모든 칸은 최대 하나의 사다리 또는 뱀을 가지고 있으며, 동시에 두 가지를 모두 가지고 있는 경우는 없다. 항상 100번 칸에 도착할 수 있는 입력만 주어진다.\n",
    "\n",
    "출력\n",
    "100번 칸에 도착하기 위해 주사위를 최소 몇 번 굴려야 하는지 출력한다.\n",
    "\n",
    "예제 입력 1 \n",
    "3 7\n",
    "32 62\n",
    "42 68\n",
    "12 98\n",
    "95 13\n",
    "97 25\n",
    "93 37\n",
    "79 27\n",
    "75 19\n",
    "49 47\n",
    "67 17\n",
    "예제 출력 1 \n",
    "3\n",
    "5를 굴려 6으로 이동한다.\n",
    "6을 굴려 12로 이동한다. 이 곳은 98로 이동하는 사다리가 있기 때문에, 98로 이동한다.\n",
    "2를 굴려 100으로 이동한다.\n",
    "예제 입력 2 \n",
    "4 9\n",
    "8 52\n",
    "6 80\n",
    "26 42\n",
    "2 72\n",
    "51 19\n",
    "39 11\n",
    "37 29\n",
    "81 3\n",
    "59 5\n",
    "79 23\n",
    "53 7\n",
    "43 33\n",
    "77 21\n",
    "예제 출력 2 \n",
    "5\n",
    "5를 굴려 6으로 이동하고, 사다리를 이용해 80으로 이동한다. \n",
    "6을 굴려 86으로\n",
    "6을 또 굴려 92로\n",
    "6을 또 굴려 98로 이동하고\n",
    "2를 굴려 100으로 이동한다."
   ]
  },
  {
   "cell_type": "code",
   "execution_count": 1,
   "id": "31380bd4",
   "metadata": {},
   "outputs": [],
   "source": [
    "def solution():\n",
    "    #import sys; input = sys.stdin.readline\n",
    "    from collections import deque, defaultdict\n",
    "    graph = defaultdict(int)\n",
    "    N, M = map(int, input().split())\n",
    "    for _ in range(N):\n",
    "        a, b = map(int, input().split())\n",
    "        graph[a] = b\n",
    "    for _ in range(M):\n",
    "        a, b = map(int, input().split())\n",
    "        graph[a] = b\n",
    "    queue = deque([(1, [1])])\n",
    "    while True:\n",
    "        n, path = queue.popleft()\n",
    "        if 100 - n <= 6:\n",
    "            print(len(path))\n",
    "            break\n",
    "        prob = set()\n",
    "        normal = 0\n",
    "        for i in range(n + 6, n, -1):\n",
    "            if graph[i]:\n",
    "                prob.add(i)\n",
    "            else:\n",
    "                normal = max(normal, i)\n",
    "        for m in prob - set(path):\n",
    "            queue.append((graph[m], path + [graph[m]]))\n",
    "        if normal not in path and normal:\n",
    "            queue.append((normal, path + [normal]))"
   ]
  },
  {
   "cell_type": "code",
   "execution_count": 2,
   "id": "28ee6934",
   "metadata": {},
   "outputs": [
    {
     "name": "stdout",
     "output_type": "stream",
     "text": [
      "3 7\n",
      "32 62\n",
      "42 68\n",
      "12 98\n",
      "95 13\n",
      "97 25\n",
      "93 37\n",
      "79 27\n",
      "75 19\n",
      "49 47\n",
      "67 17\n",
      "3\n"
     ]
    }
   ],
   "source": [
    "solution()"
   ]
  },
  {
   "cell_type": "code",
   "execution_count": 3,
   "id": "d5e5330a",
   "metadata": {},
   "outputs": [
    {
     "name": "stdout",
     "output_type": "stream",
     "text": [
      "4 9\n",
      "8 52\n",
      "6 80\n",
      "26 42\n",
      "2 72\n",
      "51 19\n",
      "39 11\n",
      "37 29\n",
      "81 3\n",
      "59 5\n",
      "79 23\n",
      "53 7\n",
      "43 33\n",
      "77 21\n",
      "5\n"
     ]
    }
   ],
   "source": [
    "solution()"
   ]
  }
 ],
 "metadata": {
  "kernelspec": {
   "display_name": "Python 3",
   "language": "python",
   "name": "python3"
  },
  "language_info": {
   "codemirror_mode": {
    "name": "ipython",
    "version": 3
   },
   "file_extension": ".py",
   "mimetype": "text/x-python",
   "name": "python",
   "nbconvert_exporter": "python",
   "pygments_lexer": "ipython3",
   "version": "3.8.8"
  }
 },
 "nbformat": 4,
 "nbformat_minor": 5
}
