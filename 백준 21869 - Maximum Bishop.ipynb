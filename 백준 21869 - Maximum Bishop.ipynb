{
 "cells": [
  {
   "cell_type": "markdown",
   "metadata": {},
   "source": [
    "https://www.acmicpc.net/problem/21869\n",
    "\n",
    "문제\n",
    "체스에는 대각선 방향으로 움직일 수 있는 비숍(bishop)이 있다. 다음 그림과 같은  정사각형 체스판 위의 B라고 표시된 곳에 비숍이 있을 때, 비숍은 대각선 방향으로 움직여 X로 표시된 칸에 있는 다른 말을 잡을 수 있다.\n",
    "\n",
    "\n",
    "\n",
    "-Maximum Bishop 문제는  체스판 위에 최대한 많은 비숍을 서로 공격할 수 없도록 배치하는 문제다.\n",
    "\n",
    "이 주어졌을 때, 최대한 많은 비숍을 서로 공격할 수 없도록 배치해보자.\n",
    "\n",
    "입력\n",
    "첫째 줄에 N이 주어진다. ()\n",
    "\n",
    "출력\n",
    "배치할 수 있는 비숍의 최대 개수 을 첫 번째 줄에 출력한다. 이후 개의 줄에 걸쳐 비숍을 배치해야 하는 행의 번호와 열의 번호를 공백으로 구분해서 출력한다. 행과 열의 번호는 부터 시작한다.\n",
    "\n",
    "답이 여러 개인 경우에는 그중 아무거나 출력한다.\n",
    "\n",
    "예제 입력 1 \n",
    "1\n",
    "예제 출력 1 \n",
    "1\n",
    "1 1"
   ]
  },
  {
   "cell_type": "code",
   "execution_count": 1,
   "metadata": {},
   "outputs": [
    {
     "name": "stdout",
     "output_type": "stream",
     "text": [
      "1\n",
      "1\n",
      "1 1\n"
     ]
    }
   ],
   "source": [
    "N = int(input())\n",
    "print(N * 2 - 2) if N > 2 else print(N)\n",
    "for i in range(1, N + 1):\n",
    "    print(1, i)\n",
    "for i in range(2, N):\n",
    "    print(N, i)"
   ]
  }
 ],
 "metadata": {
  "kernelspec": {
   "display_name": "Python 3",
   "language": "python",
   "name": "python3"
  },
  "language_info": {
   "codemirror_mode": {
    "name": "ipython",
    "version": 3
   },
   "file_extension": ".py",
   "mimetype": "text/x-python",
   "name": "python",
   "nbconvert_exporter": "python",
   "pygments_lexer": "ipython3",
   "version": "3.7.4"
  }
 },
 "nbformat": 4,
 "nbformat_minor": 2
}
