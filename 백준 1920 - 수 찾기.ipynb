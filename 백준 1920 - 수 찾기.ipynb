{
 "cells": [
  {
   "cell_type": "markdown",
   "id": "ab311250",
   "metadata": {},
   "source": [
    "https://www.acmicpc.net/problem/1920\n",
    "\n",
    "문제\n",
    "N개의 정수 A[1], A[2], …, A[N]이 주어져 있을 때, 이 안에 X라는 정수가 존재하는지 알아내는 프로그램을 작성하시오.\n",
    "\n",
    "입력\n",
    "첫째 줄에 자연수 N(1 ≤ N ≤ 100,000)이 주어진다. 다음 줄에는 N개의 정수 A[1], A[2], …, A[N]이 주어진다. 다음 줄에는 M(1 ≤ M ≤ 100,000)이 주어진다. 다음 줄에는 M개의 수들이 주어지는데, 이 수들이 A안에 존재하는지 알아내면 된다. 모든 정수의 범위는 -231 보다 크거나 같고 231보다 작다.\n",
    "\n",
    "출력\n",
    "M개의 줄에 답을 출력한다. 존재하면 1을, 존재하지 않으면 0을 출력한다.\n",
    "\n",
    "예제 입력 1 \n",
    "5\n",
    "4 1 5 2 3\n",
    "5\n",
    "1 3 7 9 5\n",
    "예제 출력 1 \n",
    "1\n",
    "1\n",
    "0\n",
    "0\n",
    "1"
   ]
  },
  {
   "cell_type": "code",
   "execution_count": 1,
   "id": "a140bcd6",
   "metadata": {},
   "outputs": [
    {
     "name": "stdout",
     "output_type": "stream",
     "text": [
      "5\n",
      "4 1 5 2 3\n",
      "5\n",
      "1 3 7 9 5\n",
      "1\n",
      "1\n",
      "0\n",
      "0\n",
      "1\n"
     ]
    }
   ],
   "source": [
    "#import sys; input = sys.stdin.readline\n",
    "\n",
    "def binSearch(start, end):\n",
    "    if start == end:\n",
    "        return '1' if A[start] == n else 0\n",
    "    mid = (start + end) // 2\n",
    "    if A[mid] >= n:\n",
    "        return binSearch(start, mid)\n",
    "    else:\n",
    "        return binSearch(mid + 1, end)\n",
    "\n",
    "N = int(input())\n",
    "A = sorted(list(map(int, input().split())))\n",
    "M = int(input())\n",
    "for n in list(map(int, input().split())):\n",
    "    print(binSearch(0, N - 1))"
   ]
  }
 ],
 "metadata": {
  "kernelspec": {
   "display_name": "Python 3",
   "language": "python",
   "name": "python3"
  },
  "language_info": {
   "codemirror_mode": {
    "name": "ipython",
    "version": 3
   },
   "file_extension": ".py",
   "mimetype": "text/x-python",
   "name": "python",
   "nbconvert_exporter": "python",
   "pygments_lexer": "ipython3",
   "version": "3.8.8"
  }
 },
 "nbformat": 4,
 "nbformat_minor": 5
}
