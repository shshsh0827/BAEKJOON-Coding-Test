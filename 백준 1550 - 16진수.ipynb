{
 "cells": [
  {
   "cell_type": "markdown",
   "id": "4898687b",
   "metadata": {},
   "source": [
    "https://www.acmicpc.net/problem/1550\n",
    "\n",
    "문제\n",
    "16진수 수를 입력받아서 10진수로 출력하는 프로그램을 작성하시오.\n",
    "\n",
    "입력\n",
    "첫째 줄에 16진수 수가 주어진다. 이 수의 최대 길이는 6글자이다. 16진수 수는 0~9와 A~F로 이루어져 있고, A~F는 10~15를 뜻한다. 또, 이 수는 음이 아닌 정수이다.\n",
    "\n",
    "출력\n",
    "첫째 줄에 입력으로 주어진 16진수 수를 10진수로 변환해 출력한다.\n",
    "\n",
    "예제 입력 1 \n",
    "A\n",
    "예제 출력 1 \n",
    "10"
   ]
  },
  {
   "cell_type": "code",
   "execution_count": 1,
   "id": "b6c399c4",
   "metadata": {},
   "outputs": [
    {
     "name": "stdout",
     "output_type": "stream",
     "text": [
      "A\n",
      "10\n"
     ]
    }
   ],
   "source": [
    "string = 'ABCDEF'\n",
    "n = 0; exp = 0\n",
    "for s in reversed(input()):\n",
    "    if s.isalpha():\n",
    "        n += (string.index(s) + 10) * 16 ** exp\n",
    "    else:\n",
    "        n += int(s) * 16 ** exp\n",
    "    exp += 1\n",
    "print(n)"
   ]
  }
 ],
 "metadata": {
  "kernelspec": {
   "display_name": "Python 3",
   "language": "python",
   "name": "python3"
  },
  "language_info": {
   "codemirror_mode": {
    "name": "ipython",
    "version": 3
   },
   "file_extension": ".py",
   "mimetype": "text/x-python",
   "name": "python",
   "nbconvert_exporter": "python",
   "pygments_lexer": "ipython3",
   "version": "3.8.8"
  }
 },
 "nbformat": 4,
 "nbformat_minor": 5
}
