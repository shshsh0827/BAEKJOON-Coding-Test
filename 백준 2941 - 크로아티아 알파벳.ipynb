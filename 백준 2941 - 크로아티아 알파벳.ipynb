{
 "cells": [
  {
   "cell_type": "markdown",
   "id": "9cd5fa93",
   "metadata": {},
   "source": [
    "https://www.acmicpc.net/problem/2941\n",
    "\n",
    "문제\n",
    "예전에는 운영체제에서 크로아티아 알파벳을 입력할 수가 없었다. 따라서, 다음과 같이 크로아티아 알파벳을 변경해서 입력했다.\n",
    "\n",
    "크로아티아 알파벳\t변경\n",
    "č\tc=\n",
    "ć\tc-\n",
    "dž\tdz=\n",
    "đ\td-\n",
    "lj\tlj\n",
    "nj\tnj\n",
    "š\ts=\n",
    "ž\tz=\n",
    "예를 들어, ljes=njak은 크로아티아 알파벳 6개(lj, e, š, nj, a, k)로 이루어져 있다. 단어가 주어졌을 때, 몇 개의 크로아티아 알파벳으로 이루어져 있는지 출력한다.\n",
    "\n",
    "dž는 무조건 하나의 알파벳으로 쓰이고, d와 ž가 분리된 것으로 보지 않는다. lj와 nj도 마찬가지이다. 위 목록에 없는 알파벳은 한 글자씩 센다.\n",
    "\n",
    "입력\n",
    "첫째 줄에 최대 100글자의 단어가 주어진다. 알파벳 소문자와 '-', '='로만 이루어져 있다.\n",
    "\n",
    "단어는 크로아티아 알파벳으로 이루어져 있다. 문제 설명의 표에 나와있는 알파벳은 변경된 형태로 입력된다.\n",
    "\n",
    "출력\n",
    "입력으로 주어진 단어가 몇 개의 크로아티아 알파벳으로 이루어져 있는지 출력한다.\n",
    "\n",
    "예제 입력 1 \n",
    "ljes=njak\n",
    "예제 출력 1 \n",
    "6\n",
    "예제 입력 2 \n",
    "ddz=z=\n",
    "예제 출력 2 \n",
    "3\n",
    "예제 입력 3 \n",
    "nljj\n",
    "예제 출력 3 \n",
    "3\n",
    "예제 입력 4 \n",
    "c=c=\n",
    "예제 출력 4 \n",
    "2\n",
    "예제 입력 5 \n",
    "dz=ak\n",
    "예제 출력 5 \n",
    "3"
   ]
  },
  {
   "cell_type": "code",
   "execution_count": 1,
   "id": "dc4cfa00",
   "metadata": {},
   "outputs": [],
   "source": [
    "def solution():\n",
    "    print(len(input().replace('dz=', 'd').replace('lj', 'l').replace('nj', 'n').replace('-', '').replace('=', '')))"
   ]
  },
  {
   "cell_type": "code",
   "execution_count": 2,
   "id": "187f5948",
   "metadata": {},
   "outputs": [
    {
     "name": "stdout",
     "output_type": "stream",
     "text": [
      "ljes=njak\n",
      "6\n"
     ]
    }
   ],
   "source": [
    "solution()"
   ]
  },
  {
   "cell_type": "code",
   "execution_count": 3,
   "id": "4f3cf145",
   "metadata": {},
   "outputs": [
    {
     "name": "stdout",
     "output_type": "stream",
     "text": [
      "ddz=z=\n",
      "3\n"
     ]
    }
   ],
   "source": [
    "solution()"
   ]
  },
  {
   "cell_type": "code",
   "execution_count": 4,
   "id": "be9c5bdd",
   "metadata": {},
   "outputs": [
    {
     "name": "stdout",
     "output_type": "stream",
     "text": [
      "nljj\n",
      "3\n"
     ]
    }
   ],
   "source": [
    "solution()"
   ]
  },
  {
   "cell_type": "code",
   "execution_count": 5,
   "id": "a9c3452e",
   "metadata": {},
   "outputs": [
    {
     "name": "stdout",
     "output_type": "stream",
     "text": [
      "c=c=\n",
      "2\n"
     ]
    }
   ],
   "source": [
    "solution()"
   ]
  },
  {
   "cell_type": "code",
   "execution_count": 6,
   "id": "89ab254e",
   "metadata": {},
   "outputs": [
    {
     "name": "stdout",
     "output_type": "stream",
     "text": [
      "dz=ak\n",
      "3\n"
     ]
    }
   ],
   "source": [
    "solution()"
   ]
  }
 ],
 "metadata": {
  "kernelspec": {
   "display_name": "Python 3",
   "language": "python",
   "name": "python3"
  },
  "language_info": {
   "codemirror_mode": {
    "name": "ipython",
    "version": 3
   },
   "file_extension": ".py",
   "mimetype": "text/x-python",
   "name": "python",
   "nbconvert_exporter": "python",
   "pygments_lexer": "ipython3",
   "version": "3.8.8"
  }
 },
 "nbformat": 4,
 "nbformat_minor": 5
}
