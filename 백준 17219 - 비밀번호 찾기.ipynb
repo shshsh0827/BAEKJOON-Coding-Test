{
 "cells": [
  {
   "cell_type": "markdown",
   "metadata": {},
   "source": [
    "https://www.acmicpc.net/problem/17219\n",
    "\n",
    "문제\n",
    "2019 HEPC - MAVEN League의 \"비밀번호 만들기\"와 같은 방식으로 비밀번호를 만든 경민이는 한 가지 문제점을 발견하였다. 비밀번호가 랜덤으로 만들어져서 기억을 못 한다는 것이었다! 그래서 경민이는 메모장에 사이트의 주소와 비밀번호를 저장해두기로 했다. 하지만 컴맹인 경민이는 메모장에서 찾기 기능을 활용하지 못하고 직접 눈으로 사이트의 주소와 비밀번호를 찾았다. 메모장에 저장된 사이트의 수가 늘어나면서 경민이는 비밀번호를 찾는 일에 시간을 너무 많이 쓰게 되었다. 이를 딱하게 여긴 문석이는 경민이를 위해 메모장에서 비밀번호를 찾는 프로그램을 만들기로 결심하였다! 문석이를 도와 경민이의 메모장에서 비밀번호를 찾아주는 프로그램을 만들어보자.\n",
    "\n",
    "입력\n",
    "첫째 줄에 저장된 사이트 주소의 수 N(1 ≤ N ≤ 100,000)과 비밀번호를 찾으려는 사이트 주소의 수 M(1 ≤ M ≤ 100,000)이 주어진다.\n",
    "\n",
    "두번째 줄부터 N개의 줄에 걸쳐 각 줄에 사이트 주소와 비밀번호가 공백으로 구분되어 주어진다. 사이트 주소는 알파벳 소문자, 알파벳 대문자, 대시('-'), 마침표('.')로 이루어져 있고, 중복되지 않는다. 비밀번호는 알파벳 대문자로만 이루어져 있다. 모두 길이는 최대 20자이다.\n",
    "\n",
    "N+2번째 줄부터 M개의 줄에 걸쳐 비밀번호를 찾으려는 사이트 주소가 한줄에 하나씩 입력된다. 이때, 반드시 이미 저장된 사이트 주소가 입력된다.\n",
    "\n",
    "출력\n",
    "첫 번째 줄부터 M개의 줄에 걸쳐 비밀번호를 찾으려는 사이트 주소의 비밀번호를 차례대로 각 줄에 하나씩 출력한다.\n",
    "\n",
    "예제 입력 1 \n",
    "16 4\n",
    "noj.am IU\n",
    "acmicpc.net UAENA\n",
    "startlink.io THEKINGOD\n",
    "google.com ZEZE\n",
    "nate.com VOICEMAIL\n",
    "naver.com REDQUEEN\n",
    "daum.net MODERNTIMES\n",
    "utube.com BLACKOUT\n",
    "zum.com LASTFANTASY\n",
    "dreamwiz.com RAINDROP\n",
    "hanyang.ac.kr SOMEDAY\n",
    "dhlottery.co.kr BOO\n",
    "duksoo.hs.kr HAVANA\n",
    "hanyang-u.ms.kr OBLIVIATE\n",
    "yd.es.kr LOVEATTACK\n",
    "mcc.hanyang.ac.kr ADREAMER\n",
    "startlink.io\n",
    "acmicpc.net\n",
    "noj.am\n",
    "mcc.hanyang.ac.kr\n",
    "예제 출력 1 \n",
    "THEKINGOD\n",
    "UAENA\n",
    "IU\n",
    "ADREAMER"
   ]
  },
  {
   "cell_type": "code",
   "execution_count": 1,
   "metadata": {},
   "outputs": [
    {
     "name": "stdout",
     "output_type": "stream",
     "text": [
      "16 4\n",
      "noj.am IU\n",
      "acmicpc.net UAENA\n",
      "startlink.io THEKINGOD\n",
      "google.com ZEZE\n",
      "nate.com VOICEMAIL\n",
      "naver.com REDQUEEN\n",
      "daum.net MODERNTIMES\n",
      "utube.com BLACKOUT\n",
      "zum.com LASTFANTASY\n",
      "dreamwiz.com RAINDROP\n",
      "hanyang.ac.kr SOMEDAY\n",
      "dhlottery.co.kr BOO\n",
      "duksoo.hs.kr HAVANA\n",
      "hanyang-u.ms.kr OBLIVIATE\n",
      "yd.es.kr LOVEATTACK\n",
      "mcc.hanyang.ac.kr ADREAMER\n",
      "startlink.io\n",
      "THEKINGOD\n",
      "acmicpc.net\n",
      "UAENA\n",
      "noj.am\n",
      "IU\n",
      "mcc.hanyang.ac.kr\n",
      "ADREAMER\n"
     ]
    }
   ],
   "source": [
    "#import sys; input = sys.stdin.readline\n",
    "N, M = map(int, input().split())\n",
    "password = dict()\n",
    "for _ in range(N):\n",
    "    site, pw = input().strip().split()\n",
    "    password[site] = pw\n",
    "for _ in range(M): print(password[input().strip()])"
   ]
  }
 ],
 "metadata": {
  "kernelspec": {
   "display_name": "Python 3",
   "language": "python",
   "name": "python3"
  },
  "language_info": {
   "codemirror_mode": {
    "name": "ipython",
    "version": 3
   },
   "file_extension": ".py",
   "mimetype": "text/x-python",
   "name": "python",
   "nbconvert_exporter": "python",
   "pygments_lexer": "ipython3",
   "version": "3.7.4"
  }
 },
 "nbformat": 4,
 "nbformat_minor": 2
}
