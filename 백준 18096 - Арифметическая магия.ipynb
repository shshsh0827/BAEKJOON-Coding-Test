{
 "cells": [
  {
   "cell_type": "markdown",
   "id": "853f8335",
   "metadata": {},
   "source": [
    "https://www.acmicpc.net/problem/18096\n",
    "\n",
    "문제\n",
    "Дэвид Блейн попросил зрителя задумать два числа.  Затем он попросил перемножить два числа, большие каждого из задуманных на единицу,  вычесть из результата сначала одно задуманное число, затем другое, а затем --- их произведение, а полученный результат возвести в -ю степень.\n",
    "\n",
    "После чего Дэвид внимательно вгляделся в лицо зрителя и правильно назвал получившийся результат. Ваша задача --- повторить фокус Дэвида. По заданному  угадайте получившееся у зрителя число.\n",
    "\n",
    "입력\n",
    "Входные данные содержат одно целое число  ().\n",
    "\n",
    "출력\n",
    "Выведите одно число --- получившийся у зрителя результат.\n",
    "\n",
    "예제 입력 1 \n",
    "3\n",
    "예제 출력 1 \n",
    "1"
   ]
  },
  {
   "cell_type": "code",
   "execution_count": 1,
   "id": "f82d294c",
   "metadata": {},
   "outputs": [
    {
     "name": "stdout",
     "output_type": "stream",
     "text": [
      "3\n",
      "1\n"
     ]
    }
   ],
   "source": [
    "input()\n",
    "print(1)"
   ]
  }
 ],
 "metadata": {
  "kernelspec": {
   "display_name": "Python 3",
   "language": "python",
   "name": "python3"
  },
  "language_info": {
   "codemirror_mode": {
    "name": "ipython",
    "version": 3
   },
   "file_extension": ".py",
   "mimetype": "text/x-python",
   "name": "python",
   "nbconvert_exporter": "python",
   "pygments_lexer": "ipython3",
   "version": "3.8.8"
  }
 },
 "nbformat": 4,
 "nbformat_minor": 5
}
