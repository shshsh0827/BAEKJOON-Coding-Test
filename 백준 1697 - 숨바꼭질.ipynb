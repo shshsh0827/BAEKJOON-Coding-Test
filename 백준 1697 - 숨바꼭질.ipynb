{
 "cells": [
  {
   "cell_type": "markdown",
   "id": "f5676714",
   "metadata": {},
   "source": [
    "https://www.acmicpc.net/problem/1697\n",
    "\n",
    "문제\n",
    "수빈이는 동생과 숨바꼭질을 하고 있다. 수빈이는 현재 점 N(0 ≤ N ≤ 100,000)에 있고, 동생은 점 K(0 ≤ K ≤ 100,000)에 있다. 수빈이는 걷거나 순간이동을 할 수 있다. 만약, 수빈이의 위치가 X일 때 걷는다면 1초 후에 X-1 또는 X+1로 이동하게 된다. 순간이동을 하는 경우에는 1초 후에 2*X의 위치로 이동하게 된다.\n",
    "\n",
    "수빈이와 동생의 위치가 주어졌을 때, 수빈이가 동생을 찾을 수 있는 가장 빠른 시간이 몇 초 후인지 구하는 프로그램을 작성하시오.\n",
    "\n",
    "입력\n",
    "첫 번째 줄에 수빈이가 있는 위치 N과 동생이 있는 위치 K가 주어진다. N과 K는 정수이다.\n",
    "\n",
    "출력\n",
    "수빈이가 동생을 찾는 가장 빠른 시간을 출력한다.\n",
    "\n",
    "예제 입력 1 \n",
    "5 17\n",
    "예제 출력 1 \n",
    "4"
   ]
  },
  {
   "cell_type": "code",
   "execution_count": 1,
   "id": "f4bb9368",
   "metadata": {},
   "outputs": [
    {
     "name": "stdout",
     "output_type": "stream",
     "text": [
      "5 17\n",
      "4\n"
     ]
    }
   ],
   "source": [
    "from collections import deque\n",
    "N, K = map(int, input().split())\n",
    "queue = deque([N])\n",
    "dp = [0] * 200001\n",
    "dp[N] = 1\n",
    "while True:\n",
    "    n = queue.popleft()\n",
    "    if n >= 0:\n",
    "        if n == K:\n",
    "            print(dp[n] - 1)\n",
    "            break\n",
    "        if n > K:\n",
    "            if not dp[n - 1]:\n",
    "                dp[n - 1] = dp[n] + 1\n",
    "                queue.append(n - 1)\n",
    "        else:\n",
    "            for m in [n - 1, n + 1, n * 2]:\n",
    "                if not dp[m]:\n",
    "                    dp[m] = dp[n] + 1\n",
    "                    queue.append(m)"
   ]
  }
 ],
 "metadata": {
  "kernelspec": {
   "display_name": "Python 3",
   "language": "python",
   "name": "python3"
  },
  "language_info": {
   "codemirror_mode": {
    "name": "ipython",
    "version": 3
   },
   "file_extension": ".py",
   "mimetype": "text/x-python",
   "name": "python",
   "nbconvert_exporter": "python",
   "pygments_lexer": "ipython3",
   "version": "3.8.8"
  }
 },
 "nbformat": 4,
 "nbformat_minor": 5
}
