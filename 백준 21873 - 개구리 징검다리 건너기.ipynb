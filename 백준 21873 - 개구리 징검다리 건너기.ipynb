{
 "cells": [
  {
   "cell_type": "markdown",
   "metadata": {},
   "source": [
    "https://www.acmicpc.net/problem/21873\n",
    "\n",
    "문제\n",
    "\n",
    "\n",
    "서대문구에 있는 한 연못에 마리의 하얀 개구리와 마리의 검은 개구리가 개의 연꽃으로 이루어진 징검다리를 건너려고 하고 있다. 그림에서 보이는 것과 같이 각 무리의 개구리들에는 앞에서부터 부터 까지 번호가 붙어있다. 각 무리의 개구리들은 징검다리를 건너서 서로 반대쪽으로 지나가려고 하고 있다. 그러나 바쁜 일이 있는 개구리들은 서로 먼저 지나가라고 양보하기 어려운 상황이었기 때문에 모두 동시에 징검다리를 건너려고 한다.\n",
    "\n",
    "개구리들은 다음과 같이 이동할 수 있다.\n",
    "\n",
    "하얀 개구리들은 오른쪽으로만, 검은 개구리들은 왼쪽으로만 움직인다.\n",
    "한 번에 한 마리의 개구리만 움직일 수 있다.\n",
    "자신의 진행 방향 바로 앞에 있는 연꽃이 비어있는 경우, 진행 방향으로 한 칸 이동할 수 있다.\n",
    "자신의 진행 방향 바로 앞에 있는 연꽃에 자신의 색과 다른 개구리가 있는 경우, 그 개구리 한 마리를 건너뛰어서 두 칸 이동할 수 있다.\n",
    "자신의 진행 방향 앞에 있는 두 개 이상의 연꽃이 비어있다고 하더라도 한 번에 두 칸 이상 이동할 수 없다.\n",
    "두 마리 이상의 개구리를 뛰어넘거나, 자신의 색과 같은 색의 개구리를 뛰어넘을 수 없다.\n",
    "\n",
    "\n",
    "위의 규칙에 따라 각 개구리를 움직여서 그림과 같이 개구리들이 반대편에 도달할 수 있도록 하여라.\n",
    "\n",
    "입력\n",
    "각 무리에 있는 개구리의 수 이 주어진다. ()\n",
    "\n",
    "출력\n",
    "첫 번째 줄에 개구리들을 움직여야 하는 횟수 을 출력한다. 단, 은 을 넘어서는 안된다.\n",
    "\n",
    "두 번째 줄부터 개의 줄에 걸쳐서 움직인 개구리의 정보를 순서대로 출력한다. 번째 하얀 개구리가 움직인 경우 1 p를 출력하고, 번째 검은 개구리가 움직인 경우 2 p를 출력한다.\n",
    "\n",
    "예제 입력 1 \n",
    "1\n",
    "예제 출력 1 \n",
    "3\n",
    "1 1\n",
    "2 1\n",
    "1 1"
   ]
  },
  {
   "cell_type": "code",
   "execution_count": 1,
   "metadata": {},
   "outputs": [
    {
     "name": "stdout",
     "output_type": "stream",
     "text": [
      "1\n",
      "3\n",
      "1 1\n",
      "2 1\n",
      "1 1\n"
     ]
    }
   ],
   "source": [
    "N = int(input())\n",
    "print(N ** 2 + 2 * N)\n",
    "frog = 2\n",
    "for i in range(1, N + 1):\n",
    "    frog = frog % 2 + 1\n",
    "    for j in range(1, i + 1):\n",
    "        print(frog, j)\n",
    "frog = frog % 2 + 1\n",
    "for i in range(1, N + 1):\n",
    "    print(frog, i)\n",
    "for i in range(1, N + 1):\n",
    "    frog = frog % 2 + 1\n",
    "    for j in range(i, N + 1):\n",
    "        print(frog, j)"
   ]
  }
 ],
 "metadata": {
  "kernelspec": {
   "display_name": "Python 3",
   "language": "python",
   "name": "python3"
  },
  "language_info": {
   "codemirror_mode": {
    "name": "ipython",
    "version": 3
   },
   "file_extension": ".py",
   "mimetype": "text/x-python",
   "name": "python",
   "nbconvert_exporter": "python",
   "pygments_lexer": "ipython3",
   "version": "3.7.4"
  }
 },
 "nbformat": 4,
 "nbformat_minor": 2
}
