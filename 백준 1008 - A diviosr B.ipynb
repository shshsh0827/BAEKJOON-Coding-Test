{
 "cells": [
  {
   "cell_type": "markdown",
   "id": "52e4e8f0",
   "metadata": {},
   "source": [
    "https://www.acmicpc.net/problem/1008\n",
    "\n",
    "문제\n",
    "두 정수 A와 B를 입력받은 다음, A/B를 출력하는 프로그램을 작성하시오.\n",
    "\n",
    "입력\n",
    "첫째 줄에 A와 B가 주어진다. (0 < A, B < 10)\n",
    "\n",
    "출력\n",
    "첫째 줄에 A/B를 출력한다. 실제 정답과 출력값의 절대오차 또는 상대오차가 10-9 이하이면 정답이다.\n",
    "\n",
    "예제 입력 1 \n",
    "1 3\n",
    "예제 출력 1 \n",
    "0.33333333333333333333333333333333\n",
    "10-9 이하의 오차를 허용한다는 말은 꼭 소수 9번째 자리까지만 출력하라는 뜻이 아니다.\n",
    "\n",
    "예제 입력 2 \n",
    "4 5\n",
    "예제 출력 2 \n",
    "0.8"
   ]
  },
  {
   "cell_type": "code",
   "execution_count": 1,
   "id": "0e3f8db9",
   "metadata": {},
   "outputs": [],
   "source": [
    "def solution():\n",
    "    A, B = map(int, input().split())\n",
    "    print(A / B)"
   ]
  },
  {
   "cell_type": "code",
   "execution_count": 2,
   "id": "da13c3bc",
   "metadata": {},
   "outputs": [
    {
     "name": "stdout",
     "output_type": "stream",
     "text": [
      "1 3\n",
      "0.3333333333333333\n"
     ]
    }
   ],
   "source": [
    "solution()"
   ]
  },
  {
   "cell_type": "code",
   "execution_count": 3,
   "id": "d51bc461",
   "metadata": {},
   "outputs": [
    {
     "name": "stdout",
     "output_type": "stream",
     "text": [
      "4 5\n",
      "0.8\n"
     ]
    }
   ],
   "source": [
    "solution()"
   ]
  }
 ],
 "metadata": {
  "kernelspec": {
   "display_name": "Python 3",
   "language": "python",
   "name": "python3"
  },
  "language_info": {
   "codemirror_mode": {
    "name": "ipython",
    "version": 3
   },
   "file_extension": ".py",
   "mimetype": "text/x-python",
   "name": "python",
   "nbconvert_exporter": "python",
   "pygments_lexer": "ipython3",
   "version": "3.8.8"
  }
 },
 "nbformat": 4,
 "nbformat_minor": 5
}
