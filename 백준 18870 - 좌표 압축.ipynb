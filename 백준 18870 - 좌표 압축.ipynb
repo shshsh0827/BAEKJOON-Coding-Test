{
 "cells": [
  {
   "cell_type": "markdown",
   "id": "c167fa5b",
   "metadata": {},
   "source": [
    "https://www.acmicpc.net/problem/18870\n",
    "\n",
    "문제\n",
    "수직선 위에 N개의 좌표 X1, X2, ..., XN이 있다. 이 좌표에 좌표 압축을 적용하려고 한다.\n",
    "\n",
    "Xi를 좌표 압축한 결과 X'i의 값은 Xi > Xj를 만족하는 서로 다른 좌표의 개수와 같아야 한다.\n",
    "\n",
    "X1, X2, ..., XN에 좌표 압축을 적용한 결과 X'1, X'2, ..., X'N를 출력해보자.\n",
    "\n",
    "입력\n",
    "첫째 줄에 N이 주어진다.\n",
    "\n",
    "둘째 줄에는 공백 한 칸으로 구분된 X1, X2, ..., XN이 주어진다.\n",
    "\n",
    "출력\n",
    "첫째 줄에 X'1, X'2, ..., X'N을 공백 한 칸으로 구분해서 출력한다.\n",
    "\n",
    "제한\n",
    "1 ≤ N ≤ 1,000,000\n",
    "-109 ≤ Xi ≤ 109\n",
    "예제 입력 1 \n",
    "5\n",
    "2 4 -10 4 -9\n",
    "예제 출력 1 \n",
    "2 3 0 3 1\n",
    "예제 입력 2 \n",
    "6\n",
    "1000 999 1000 999 1000 999\n",
    "예제 출력 2 \n",
    "1 0 1 0 1 0"
   ]
  },
  {
   "cell_type": "code",
   "execution_count": 1,
   "id": "b1d7fb5d",
   "metadata": {},
   "outputs": [],
   "source": [
    "def solution():\n",
    "    from collections import defaultdict\n",
    "    N = int(input())\n",
    "    arr = list(map(int, input().split()))\n",
    "    zipp = defaultdict(int)\n",
    "    acc = 0\n",
    "    for n in sorted(set(arr)):\n",
    "        zipp[n] = acc\n",
    "        acc += 1\n",
    "    for n in arr:\n",
    "        print(zipp[n], end = ' ')"
   ]
  },
  {
   "cell_type": "code",
   "execution_count": 2,
   "id": "0ff02ba1",
   "metadata": {},
   "outputs": [
    {
     "name": "stdout",
     "output_type": "stream",
     "text": [
      "5\n",
      "2 4 -10 4 -9\n",
      "2 3 0 3 1 "
     ]
    }
   ],
   "source": [
    "solution()"
   ]
  },
  {
   "cell_type": "code",
   "execution_count": 3,
   "id": "90522133",
   "metadata": {},
   "outputs": [
    {
     "name": "stdout",
     "output_type": "stream",
     "text": [
      "6\n",
      "1000 999 1000 999 1000 999\n",
      "1 0 1 0 1 0 "
     ]
    }
   ],
   "source": [
    "solution()"
   ]
  }
 ],
 "metadata": {
  "kernelspec": {
   "display_name": "Python 3",
   "language": "python",
   "name": "python3"
  },
  "language_info": {
   "codemirror_mode": {
    "name": "ipython",
    "version": 3
   },
   "file_extension": ".py",
   "mimetype": "text/x-python",
   "name": "python",
   "nbconvert_exporter": "python",
   "pygments_lexer": "ipython3",
   "version": "3.8.8"
  }
 },
 "nbformat": 4,
 "nbformat_minor": 5
}
