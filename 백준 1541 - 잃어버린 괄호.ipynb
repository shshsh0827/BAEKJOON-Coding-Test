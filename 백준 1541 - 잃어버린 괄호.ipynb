{
 "cells": [
  {
   "cell_type": "markdown",
   "id": "be579e4b",
   "metadata": {},
   "source": [
    "https://www.acmicpc.net/problem/1541\n",
    "\n",
    "문제\n",
    "세준이는 양수와 +, -, 그리고 괄호를 가지고 식을 만들었다. 그리고 나서 세준이는 괄호를 모두 지웠다.\n",
    "\n",
    "그리고 나서 세준이는 괄호를 적절히 쳐서 이 식의 값을 최소로 만들려고 한다.\n",
    "\n",
    "괄호를 적절히 쳐서 이 식의 값을 최소로 만드는 프로그램을 작성하시오.\n",
    "\n",
    "입력\n",
    "첫째 줄에 식이 주어진다. 식은 ‘0’~‘9’, ‘+’, 그리고 ‘-’만으로 이루어져 있고, 가장 처음과 마지막 문자는 숫자이다. 그리고 연속해서 두 개 이상의 연산자가 나타나지 않고, 5자리보다 많이 연속되는 숫자는 없다. 수는 0으로 시작할 수 있다. 입력으로 주어지는 식의 길이는 50보다 작거나 같다.\n",
    "\n",
    "출력\n",
    "첫째 줄에 정답을 출력한다.\n",
    "\n",
    "예제 입력 1 \n",
    "55-50+40\n",
    "예제 출력 1 \n",
    "-35"
   ]
  },
  {
   "cell_type": "code",
   "execution_count": 1,
   "id": "8685a63a",
   "metadata": {},
   "outputs": [
    {
     "name": "stdout",
     "output_type": "stream",
     "text": [
      "55-50+40\n",
      "-35\n"
     ]
    }
   ],
   "source": [
    "expression = input().strip()\n",
    "E = ''\n",
    "start = 0\n",
    "for i, e in enumerate(expression):\n",
    "    if e == '-':\n",
    "        E += str(sum(map(int, expression[start:i].split('+')))) + '-'\n",
    "        start = i + 1\n",
    "else:\n",
    "    E += str(sum(map(int, expression[start:i + 1].split('+'))))\n",
    "print(eval(E))"
   ]
  }
 ],
 "metadata": {
  "kernelspec": {
   "display_name": "Python 3",
   "language": "python",
   "name": "python3"
  },
  "language_info": {
   "codemirror_mode": {
    "name": "ipython",
    "version": 3
   },
   "file_extension": ".py",
   "mimetype": "text/x-python",
   "name": "python",
   "nbconvert_exporter": "python",
   "pygments_lexer": "ipython3",
   "version": "3.8.8"
  }
 },
 "nbformat": 4,
 "nbformat_minor": 5
}
