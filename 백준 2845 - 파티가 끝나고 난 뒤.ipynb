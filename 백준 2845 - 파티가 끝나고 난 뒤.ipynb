{
 "cells": [
  {
   "cell_type": "markdown",
   "id": "8870baf9",
   "metadata": {},
   "source": [
    "https://www.acmicpc.net/problem/2845\n",
    "\n",
    "문제\n",
    "파티가 끝나고 나면, 사람들은 누가 파티에 왔는지와 얼마나 많은 사람들이 왔는지를 궁금해한다. 보통 파티는 매우 크게 열리기 때문에, 정확하게 몇 명이 참가했는지 알 수가 없다.\n",
    "\n",
    "지난주 토요일에 상근이는 자신의 3학년 진학을 기념하면서 매우 성대한 파티를 열었다. 그리고, 상근이는 1m2당 몇 명의 사람이 있었는지 알고있다.\n",
    "\n",
    "상근이의 파티는 정말 엄청난 규모였기 때문에, 대부분의 신문에도 기사가 실렸다. 상근이는 서로 다른 5개의 신문을 보면서 그 기사에 적혀져있는 참가자의 수를 적었다.\n",
    "\n",
    "상근이는 자신이 알고있는 참가자의 수가 정확하다고 생각한다. 각 신문 기사에 실려있는 참가자의 수가 몇 명 만큼 잘못되어있는지 구하는 프로그램을 작성하시오.\n",
    "\n",
    "입력\n",
    "첫째 줄에 1m2당 사람의 수 L (1 ≤ L ≤ 10)과 파티가 열렸던 곳의 넓이 P (1 ≤ P ≤ 1000)가 주어진다.\n",
    "\n",
    "둘째 줄에는 각 기사에 실려있는 참가자의 수가 주어진다. 106보다 작은 양의 정수 5개가 주어진다.\n",
    "\n",
    "출력\n",
    "출력은 첫째 줄에 다섯 개의 숫자를 출력해야 한다. 이 숫자는 상근이가 계산한 참가자의 수와  각 기사에 적혀있는 참가자의 수의 차이이다.\n",
    "\n",
    "예제 입력 1 \n",
    "1 10\n",
    "10 10 10 10 10\n",
    "예제 출력 1 \n",
    "0 0 0 0 0\n",
    "예제 입력 2 \n",
    "5 20\n",
    "99 101 1000 0 97\n",
    "예제 출력 2 \n",
    "-1 1 900 -100 -3"
   ]
  },
  {
   "cell_type": "code",
   "execution_count": 1,
   "id": "cc3d5b78",
   "metadata": {},
   "outputs": [],
   "source": [
    "def solution():\n",
    "    L, P = map(int, input().split())\n",
    "    answer = list(map(lambda x: x - L * P, map(int, input().split())))\n",
    "    print(answer[0], answer[1], answer[2], answer[3], answer[4])"
   ]
  },
  {
   "cell_type": "code",
   "execution_count": 2,
   "id": "dfb0f099",
   "metadata": {},
   "outputs": [
    {
     "name": "stdout",
     "output_type": "stream",
     "text": [
      "1 10\n",
      "10 10 10 10 10\n",
      "0 0 0 0 0\n"
     ]
    }
   ],
   "source": [
    "solution()"
   ]
  },
  {
   "cell_type": "code",
   "execution_count": 3,
   "id": "859811ed",
   "metadata": {},
   "outputs": [
    {
     "name": "stdout",
     "output_type": "stream",
     "text": [
      "5 20\n",
      "99 101 1000 0 97\n",
      "-1 1 900 -100 -3\n"
     ]
    }
   ],
   "source": [
    "solution()"
   ]
  }
 ],
 "metadata": {
  "kernelspec": {
   "display_name": "Python 3",
   "language": "python",
   "name": "python3"
  },
  "language_info": {
   "codemirror_mode": {
    "name": "ipython",
    "version": 3
   },
   "file_extension": ".py",
   "mimetype": "text/x-python",
   "name": "python",
   "nbconvert_exporter": "python",
   "pygments_lexer": "ipython3",
   "version": "3.8.8"
  }
 },
 "nbformat": 4,
 "nbformat_minor": 5
}
