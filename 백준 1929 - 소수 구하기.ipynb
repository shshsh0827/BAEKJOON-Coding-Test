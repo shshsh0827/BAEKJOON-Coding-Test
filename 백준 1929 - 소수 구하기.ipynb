{
 "cells": [
  {
   "cell_type": "markdown",
   "metadata": {},
   "source": [
    "https://www.acmicpc.net/problem/1929\n",
    "\n",
    "문제\n",
    "M이상 N이하의 소수를 모두 출력하는 프로그램을 작성하시오.\n",
    "\n",
    "입력\n",
    "첫째 줄에 자연수 M과 N이 빈 칸을 사이에 두고 주어진다. (1 ≤ M ≤ N ≤ 1,000,000) M이상 N이하의 소수가 하나 이상 있는 입력만 주어진다.\n",
    "\n",
    "출력\n",
    "한 줄에 하나씩, 증가하는 순서대로 소수를 출력한다.\n",
    "\n",
    "예제 입력 1 \n",
    "3 16\n",
    "예제 출력 1 \n",
    "3\n",
    "5\n",
    "7\n",
    "11\n",
    "13"
   ]
  },
  {
   "cell_type": "code",
   "execution_count": 1,
   "metadata": {},
   "outputs": [
    {
     "name": "stdout",
     "output_type": "stream",
     "text": [
      "3 16\n",
      "3\n",
      "5\n",
      "7\n",
      "11\n",
      "13\n"
     ]
    }
   ],
   "source": [
    "#import sys; input = sys.stdin.readline\n",
    "M, N = map(int, input().split())\n",
    "prime = range(2, N + 1)\n",
    "i = 0\n",
    "while True:\n",
    "    n = prime[i]\n",
    "    if n > N ** 0.5:\n",
    "        break\n",
    "    prime = sorted(set(prime) - set(range(n * 2, N + 1, n)))\n",
    "    i += 1\n",
    "prime = sorted(set(prime) - set(range(2, M)))\n",
    "for num in prime:\n",
    "    print(num)"
   ]
  }
 ],
 "metadata": {
  "kernelspec": {
   "display_name": "Python 3",
   "language": "python",
   "name": "python3"
  },
  "language_info": {
   "codemirror_mode": {
    "name": "ipython",
    "version": 3
   },
   "file_extension": ".py",
   "mimetype": "text/x-python",
   "name": "python",
   "nbconvert_exporter": "python",
   "pygments_lexer": "ipython3",
   "version": "3.7.4"
  }
 },
 "nbformat": 4,
 "nbformat_minor": 2
}
