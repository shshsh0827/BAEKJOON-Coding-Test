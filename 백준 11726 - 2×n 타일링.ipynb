{
 "cells": [
  {
   "cell_type": "markdown",
   "id": "63c1d9e8",
   "metadata": {},
   "source": [
    "https://www.acmicpc.net/problem/11726\n",
    "\n",
    "문제\n",
    "2×n 크기의 직사각형을 1×2, 2×1 타일로 채우는 방법의 수를 구하는 프로그램을 작성하시오.\n",
    "\n",
    "아래 그림은 2×5 크기의 직사각형을 채운 한 가지 방법의 예이다.\n",
    "\n",
    "\n",
    "\n",
    "입력\n",
    "첫째 줄에 n이 주어진다. (1 ≤ n ≤ 1,000)\n",
    "\n",
    "출력\n",
    "첫째 줄에 2×n 크기의 직사각형을 채우는 방법의 수를 10,007로 나눈 나머지를 출력한다.\n",
    "\n",
    "예제 입력 1 \n",
    "2\n",
    "예제 출력 1 \n",
    "2\n",
    "예제 입력 2 \n",
    "9\n",
    "예제 출력 2 \n",
    "55"
   ]
  },
  {
   "cell_type": "code",
   "execution_count": 1,
   "id": "8a6bde0a",
   "metadata": {},
   "outputs": [],
   "source": [
    "def solution():\n",
    "    n = int(input()); a = 1; b = 1; i = 2\n",
    "    while i <= n:\n",
    "        a, b = b % 10007, (a + b) % 10007\n",
    "        i += 1\n",
    "    print(b)"
   ]
  },
  {
   "cell_type": "code",
   "execution_count": 2,
   "id": "ae057b63",
   "metadata": {},
   "outputs": [
    {
     "name": "stdout",
     "output_type": "stream",
     "text": [
      "2\n",
      "2\n"
     ]
    }
   ],
   "source": [
    "solution()"
   ]
  },
  {
   "cell_type": "code",
   "execution_count": 3,
   "id": "e3931c7d",
   "metadata": {},
   "outputs": [
    {
     "name": "stdout",
     "output_type": "stream",
     "text": [
      "9\n",
      "55\n"
     ]
    }
   ],
   "source": [
    "solution()"
   ]
  }
 ],
 "metadata": {
  "kernelspec": {
   "display_name": "Python 3",
   "language": "python",
   "name": "python3"
  },
  "language_info": {
   "codemirror_mode": {
    "name": "ipython",
    "version": 3
   },
   "file_extension": ".py",
   "mimetype": "text/x-python",
   "name": "python",
   "nbconvert_exporter": "python",
   "pygments_lexer": "ipython3",
   "version": "3.8.8"
  }
 },
 "nbformat": 4,
 "nbformat_minor": 5
}
