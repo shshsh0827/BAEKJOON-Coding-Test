{
 "cells": [
  {
   "cell_type": "markdown",
   "id": "7261febb",
   "metadata": {},
   "source": [
    "https://www.acmicpc.net/problem/18301\n",
    "\n",
    "문제\n",
    "To celebrate the Lunar New Year of the Rat, Douglas decides to count the number of rats living in his area. It is impossible for him to find all rats, as they tend to be well hidden. However, on the first day of the new year, Douglas manages to capture n1 rats, and marks each of them with an ear tag before releasing them. On the second day of the new year, Douglas captures n2 rats, and observes that n12 of them had been marked during the first day.\n",
    "\n",
    "Douglas is asking for your help to estimate the total number of rats in his area. Looking up in your statistics textbook, you propose using the Chapman estimator N, given by:\n",
    "\n",
    "N := ⌊(n1 + 1)(n2 + 1)/(n12 + 1) - 1⌋\n",
    "\n",
    "where ⌊x⌋ is the floor of a real number x, i.e., the closest integer less than or equal to x.\n",
    "\n",
    "입력\n",
    "The input consists of a single line, with three space-separated integers: n1, n2, n12, in that order.\n",
    "\n",
    "출력\n",
    "The output should contain a single line with the single integer N.\n",
    "\n",
    "제한\n",
    "0 ≤ n1, n2 ≤ 10 000;\n",
    "0 ≤ n12 ≤ min(n1, n2).\n",
    "예제 입력 1 \n",
    "15 18 11\n",
    "예제 출력 1 \n",
    "24"
   ]
  },
  {
   "cell_type": "code",
   "execution_count": 1,
   "id": "4378ddfa",
   "metadata": {},
   "outputs": [
    {
     "name": "stdout",
     "output_type": "stream",
     "text": [
      "15 18 11\n",
      "24\n"
     ]
    }
   ],
   "source": [
    "n1, n2, n12 = map(int, input().split())\n",
    "print((n1 + 1) * (n2 + 1) // (n12 + 1) - 1)"
   ]
  }
 ],
 "metadata": {
  "kernelspec": {
   "display_name": "Python 3",
   "language": "python",
   "name": "python3"
  },
  "language_info": {
   "codemirror_mode": {
    "name": "ipython",
    "version": 3
   },
   "file_extension": ".py",
   "mimetype": "text/x-python",
   "name": "python",
   "nbconvert_exporter": "python",
   "pygments_lexer": "ipython3",
   "version": "3.8.8"
  }
 },
 "nbformat": 4,
 "nbformat_minor": 5
}
