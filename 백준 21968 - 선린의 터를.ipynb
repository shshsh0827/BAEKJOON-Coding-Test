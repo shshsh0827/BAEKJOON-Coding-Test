{
 "cells": [
  {
   "cell_type": "markdown",
   "id": "41fd11ac",
   "metadata": {},
   "source": [
    "https://www.acmicpc.net/problem/21968\n",
    "\n",
    "문제\n",
    "드높은 남산 위에 우뚝 선\n",
    "\n",
    "(중략)\n",
    "\n",
    "세워라 반석 위에\n",
    "\n",
    "선린의 터를\n",
    "\n",
    "1899년, 여러분들은 대한제국 고종 황제의 칙령을 받아 한국 최초의 실업교육기관인 관립상공학교를 세울 터를 선택해야 한다.\n",
    "\n",
    "대한제국에서 학교를 지을만한 터는 여러 개 있는데, 각 터는 서로 다른 자연수를 번호로 갖고 있다. 특히, 선린의 터의 번호는 꼴의 자연수가 최대 한 번씩 더해진 자연수이다(단, ). 즉, 선린의 터의 번호는  등이 있다.\n",
    "\n",
    "여러분은 번째로 작은 선린의 터를 탐색하라는 명령을 받았다. 번째 선린의 터를 구하는 프로그램을 작성하자.\n",
    "\n",
    "입력\n",
    "첫 번째 줄에 여러분들이 찾아야 하는 선린의 터의 개수 가 주어진다.\n",
    "\n",
    "두 번째 줄부터 개의 줄에 여러분들이 찾아야 하는 선린의 터에 대한 정보 이 주어진다.\n",
    "\n",
    "출력\n",
    "여러분들이 찾아야 하는 선린의 터의 번호를 한 줄에 하나씩 차례대로 출력한다.\n",
    "\n",
    "제한\n",
    "\n",
    "\n",
    "예제 입력 1 \n",
    "3\n",
    "1\n",
    "2\n",
    "123456789123\n",
    "예제 출력 1 \n",
    "1\n",
    "3\n",
    "217523656249693825"
   ]
  },
  {
   "cell_type": "code",
   "execution_count": 1,
   "id": "714228db",
   "metadata": {},
   "outputs": [
    {
     "name": "stdout",
     "output_type": "stream",
     "text": [
      "3\n",
      "1\n",
      "1\n",
      "2\n",
      "3\n",
      "123456789123\n",
      "217523656249693825\n"
     ]
    }
   ],
   "source": [
    "#import sys; input = sys.stdin.readline\n",
    "from math import log2\n",
    "for _ in range(int(input())):\n",
    "    n = int(input())\n",
    "    answer = 0\n",
    "    while n:\n",
    "        answer += 3 ** int(log2(n))\n",
    "        n -= 2 ** int(log2(n))\n",
    "    print(answer)"
   ]
  }
 ],
 "metadata": {
  "kernelspec": {
   "display_name": "Python 3",
   "language": "python",
   "name": "python3"
  },
  "language_info": {
   "codemirror_mode": {
    "name": "ipython",
    "version": 3
   },
   "file_extension": ".py",
   "mimetype": "text/x-python",
   "name": "python",
   "nbconvert_exporter": "python",
   "pygments_lexer": "ipython3",
   "version": "3.8.8"
  }
 },
 "nbformat": 4,
 "nbformat_minor": 5
}
