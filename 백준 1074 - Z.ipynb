{
 "cells": [
  {
   "cell_type": "markdown",
   "id": "77e95b9a",
   "metadata": {},
   "source": [
    "https://www.acmicpc.net/problem/1074\n",
    "\n",
    "문제\n",
    "한수는 크기가 2N × 2N인 2차원 배열을 Z모양으로 탐색하려고 한다. 예를 들어, 2×2배열을 왼쪽 위칸, 오른쪽 위칸, 왼쪽 아래칸, 오른쪽 아래칸 순서대로 방문하면 Z모양이다.\n",
    "\n",
    "\n",
    "\n",
    "만약, N > 1이 라서 왼쪽 위에 있는 칸이 하나가 아니라면, 배열을 크기가 2N-1 × 2N-1로 4등분 한 후에 재귀적으로 순서대로 방문한다.\n",
    "\n",
    "다음 예는 22 × 22 크기의 배열을 방문한 순서이다.\n",
    "\n",
    "\n",
    "\n",
    "N이 주어졌을 때, r행 c열을 몇 번째로 방문하는지 출력하는 프로그램을 작성하시오.\n",
    "\n",
    "다음은 N=3일 때의 예이다.\n",
    "\n",
    "\n",
    "\n",
    "입력\n",
    "첫째 줄에 정수 N, r, c가 주어진다.\n",
    "\n",
    "출력\n",
    "r행 c열을 몇 번째로 방문했는지 출력한다.\n",
    "\n",
    "제한\n",
    "1 ≤ N ≤ 15\n",
    "0 ≤ r, c < 2N\n",
    "예제 입력 1 \n",
    "2 3 1\n",
    "예제 출력 1 \n",
    "11\n",
    "예제 입력 2 \n",
    "3 7 7\n",
    "예제 출력 2 \n",
    "63"
   ]
  },
  {
   "cell_type": "code",
   "execution_count": 1,
   "id": "8b7ff981",
   "metadata": {},
   "outputs": [],
   "source": [
    "def solution():\n",
    "    N, r, c = map(int, input().split())\n",
    "    answer = 0\n",
    "    while r or c:\n",
    "        n = 2 ** N\n",
    "        if r < n // 2:\n",
    "            if c >= n // 2:\n",
    "                answer += n ** 2 // 4\n",
    "                c -= n // 2\n",
    "        else:\n",
    "            if c < n // 2:\n",
    "                answer += n ** 2 // 2\n",
    "                r -= n // 2\n",
    "            else:\n",
    "                answer += n ** 2 // 4 * 3\n",
    "                r -= n // 2\n",
    "                c -= n // 2\n",
    "        N -= 1\n",
    "    print(answer)"
   ]
  },
  {
   "cell_type": "code",
   "execution_count": 2,
   "id": "90d6f02c",
   "metadata": {},
   "outputs": [
    {
     "name": "stdout",
     "output_type": "stream",
     "text": [
      "2 3 1\n",
      "11\n"
     ]
    }
   ],
   "source": [
    "solution()"
   ]
  },
  {
   "cell_type": "code",
   "execution_count": 3,
   "id": "ad15e6ac",
   "metadata": {},
   "outputs": [
    {
     "name": "stdout",
     "output_type": "stream",
     "text": [
      "3 7 7\n",
      "63\n"
     ]
    }
   ],
   "source": [
    "solution()"
   ]
  }
 ],
 "metadata": {
  "kernelspec": {
   "display_name": "Python 3",
   "language": "python",
   "name": "python3"
  },
  "language_info": {
   "codemirror_mode": {
    "name": "ipython",
    "version": 3
   },
   "file_extension": ".py",
   "mimetype": "text/x-python",
   "name": "python",
   "nbconvert_exporter": "python",
   "pygments_lexer": "ipython3",
   "version": "3.8.8"
  }
 },
 "nbformat": 4,
 "nbformat_minor": 5
}
