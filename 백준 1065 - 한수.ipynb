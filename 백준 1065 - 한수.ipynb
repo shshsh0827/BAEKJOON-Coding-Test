{
 "cells": [
  {
   "cell_type": "markdown",
   "id": "4ebfe454",
   "metadata": {},
   "source": [
    "https://www.acmicpc.net/problem/1065\n",
    "\n",
    "문제\n",
    "어떤 양의 정수 X의 각 자리가 등차수열을 이룬다면, 그 수를 한수라고 한다. 등차수열은 연속된 두 개의 수의 차이가 일정한 수열을 말한다. N이 주어졌을 때, 1보다 크거나 같고, N보다 작거나 같은 한수의 개수를 출력하는 프로그램을 작성하시오. \n",
    "\n",
    "입력\n",
    "첫째 줄에 1,000보다 작거나 같은 자연수 N이 주어진다.\n",
    "\n",
    "출력\n",
    "첫째 줄에 1보다 크거나 같고, N보다 작거나 같은 한수의 개수를 출력한다.\n",
    "\n",
    "예제 입력 1 \n",
    "110\n",
    "예제 출력 1 \n",
    "99\n",
    "예제 입력 2 \n",
    "1\n",
    "예제 출력 2 \n",
    "1\n",
    "예제 입력 3 \n",
    "210\n",
    "예제 출력 3 \n",
    "105\n",
    "예제 입력 4 \n",
    "1000\n",
    "예제 출력 4 \n",
    "144"
   ]
  },
  {
   "cell_type": "code",
   "execution_count": 1,
   "id": "b44e877a",
   "metadata": {},
   "outputs": [],
   "source": [
    "def solution():\n",
    "    def dist(n):\n",
    "        if len(n) == 1:\n",
    "            return True\n",
    "        dif = int(n[1]) - int(n[0])\n",
    "        for i in range(2, len(n)):\n",
    "            if dif != int(n[i]) - int(n[i - 1]):\n",
    "                return False\n",
    "        else:\n",
    "            return True\n",
    "    print(sum(dist(str(n)) for n in range(1, int(input()) + 1)))"
   ]
  },
  {
   "cell_type": "code",
   "execution_count": 2,
   "id": "c13db0b4",
   "metadata": {},
   "outputs": [
    {
     "name": "stdout",
     "output_type": "stream",
     "text": [
      "110\n",
      "99\n"
     ]
    }
   ],
   "source": [
    "solution()"
   ]
  },
  {
   "cell_type": "code",
   "execution_count": 3,
   "id": "85f01a43",
   "metadata": {},
   "outputs": [
    {
     "name": "stdout",
     "output_type": "stream",
     "text": [
      "1\n",
      "1\n"
     ]
    }
   ],
   "source": [
    "solution()"
   ]
  },
  {
   "cell_type": "code",
   "execution_count": 4,
   "id": "c68f390d",
   "metadata": {},
   "outputs": [
    {
     "name": "stdout",
     "output_type": "stream",
     "text": [
      "210\n",
      "105\n"
     ]
    }
   ],
   "source": [
    "solution()"
   ]
  },
  {
   "cell_type": "code",
   "execution_count": 5,
   "id": "d3e3648e",
   "metadata": {},
   "outputs": [
    {
     "name": "stdout",
     "output_type": "stream",
     "text": [
      "1000\n",
      "144\n"
     ]
    }
   ],
   "source": [
    "solution()"
   ]
  }
 ],
 "metadata": {
  "kernelspec": {
   "display_name": "Python 3",
   "language": "python",
   "name": "python3"
  },
  "language_info": {
   "codemirror_mode": {
    "name": "ipython",
    "version": 3
   },
   "file_extension": ".py",
   "mimetype": "text/x-python",
   "name": "python",
   "nbconvert_exporter": "python",
   "pygments_lexer": "ipython3",
   "version": "3.8.8"
  }
 },
 "nbformat": 4,
 "nbformat_minor": 5
}
