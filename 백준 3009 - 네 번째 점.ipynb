{
 "cells": [
  {
   "cell_type": "markdown",
   "metadata": {},
   "source": [
    "https://www.acmicpc.net/problem/3009\n",
    "\n",
    "문제\n",
    "세 점이 주어졌을 때, 축에 평행한 직사각형을 만들기 위해서 필요한 네 번째 점을 찾는 프로그램을 작성하시오.\n",
    "\n",
    "입력\n",
    "세 점의 좌표가 한 줄에 하나씩 주어진다. 좌표는 1보다 크거나 같고, 1000보다 작거나 같은 정수이다.\n",
    "\n",
    "출력\n",
    "직사각형의 네 번째 점의 좌표를 출력한다.\n",
    "\n",
    "예제 입력 1 \n",
    "5 5\n",
    "5 7\n",
    "7 5\n",
    "예제 출력 1 \n",
    "7 7\n",
    "예제 입력 2 \n",
    "30 20\n",
    "10 10\n",
    "10 20\n",
    "예제 출력 2 \n",
    "30 10"
   ]
  },
  {
   "cell_type": "code",
   "execution_count": 1,
   "metadata": {},
   "outputs": [],
   "source": [
    "def solution():\n",
    "    #import sys; input = sys.stdin.readline\n",
    "    from collections import Counter\n",
    "    X = []; Y = []\n",
    "    for _ in range(3):\n",
    "        x, y = map(int, input().split())\n",
    "        X.append(x)\n",
    "        Y.append(y)\n",
    "    print(Counter(X).most_common().pop()[0], Counter(Y).most_common().pop()[0])"
   ]
  },
  {
   "cell_type": "code",
   "execution_count": 2,
   "metadata": {},
   "outputs": [
    {
     "name": "stdout",
     "output_type": "stream",
     "text": [
      "5 5\n",
      "5 7\n",
      "7 5\n",
      "7 7\n"
     ]
    }
   ],
   "source": [
    "solution()"
   ]
  },
  {
   "cell_type": "code",
   "execution_count": 3,
   "metadata": {},
   "outputs": [
    {
     "name": "stdout",
     "output_type": "stream",
     "text": [
      "30 20\n",
      "10 10\n",
      "10 20\n",
      "30 10\n"
     ]
    }
   ],
   "source": [
    "solution()"
   ]
  }
 ],
 "metadata": {
  "kernelspec": {
   "display_name": "Python 3",
   "language": "python",
   "name": "python3"
  },
  "language_info": {
   "codemirror_mode": {
    "name": "ipython",
    "version": 3
   },
   "file_extension": ".py",
   "mimetype": "text/x-python",
   "name": "python",
   "nbconvert_exporter": "python",
   "pygments_lexer": "ipython3",
   "version": "3.7.4"
  }
 },
 "nbformat": 4,
 "nbformat_minor": 2
}
