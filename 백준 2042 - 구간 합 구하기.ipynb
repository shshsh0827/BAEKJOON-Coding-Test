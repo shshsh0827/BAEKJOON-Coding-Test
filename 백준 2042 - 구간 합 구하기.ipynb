{
 "cells": [
  {
   "cell_type": "markdown",
   "metadata": {},
   "source": [
    "https://www.acmicpc.net/problem/2042\n",
    "\n",
    "문제\n",
    "어떤 N개의 수가 주어져 있다. 그런데 중간에 수의 변경이 빈번히 일어나고 그 중간에 어떤 부분의 합을 구하려 한다. 만약에 1,2,3,4,5 라는 수가 있고, 3번째 수를 6으로 바꾸고 2번째부터 5번째까지 합을 구하라고 한다면 17을 출력하면 되는 것이다. 그리고 그 상태에서 다섯 번째 수를 2로 바꾸고 3번째부터 5번째까지 합을 구하라고 한다면 12가 될 것이다.\n",
    "\n",
    "입력\n",
    "첫째 줄에 수의 개수 N(1 ≤ N ≤ 1,000,000)과 M(1 ≤ M ≤ 10,000), K(1 ≤ K ≤ 10,000) 가 주어진다. M은 수의 변경이 일어나는 횟수이고, K는 구간의 합을 구하는 횟수이다. 그리고 둘째 줄부터 N+1번째 줄까지 N개의 수가 주어진다. 그리고 N+2번째 줄부터 N+M+K+1번째 줄까지 세 개의 정수 a, b, c가 주어지는데, a가 1인 경우 b(1 ≤ b ≤ N)번째 수를 c로 바꾸고 a가 2인 경우에는 b(1 ≤ b ≤ N)번째 수부터 c(b ≤ c ≤ N)번째 수까지의 합을 구하여 출력하면 된다.\n",
    "\n",
    "입력으로 주어지는 모든 수는 -263보다 크거나 같고, 263-1보다 작거나 같은 정수이다.\n",
    "\n",
    "출력\n",
    "첫째 줄부터 K줄에 걸쳐 구한 구간의 합을 출력한다. 단, 정답은 -263보다 크거나 같고, 263-1보다 작거나 같은 정수이다.\n",
    "\n",
    "예제 입력 1 \n",
    "5 2 2\n",
    "1\n",
    "2\n",
    "3\n",
    "4\n",
    "5\n",
    "1 3 6\n",
    "2 2 5\n",
    "1 5 2\n",
    "2 3 5\n",
    "예제 출력 1 \n",
    "17\n",
    "12"
   ]
  },
  {
   "cell_type": "code",
   "execution_count": 1,
   "metadata": {},
   "outputs": [
    {
     "name": "stdout",
     "output_type": "stream",
     "text": [
      "5 2 2\n",
      "1\n",
      "2\n",
      "3\n",
      "4\n",
      "5\n",
      "1 3 6\n",
      "2 2 5\n",
      "17\n",
      "1 5 2\n",
      "2 3 5\n",
      "12\n"
     ]
    }
   ],
   "source": [
    "#import sys; input = sys.stdin.readline\n",
    "\n",
    "def seg(node, start, end):\n",
    "    if start == end:\n",
    "        tree[node] = arr[start]\n",
    "        return tree[node]\n",
    "    mid = (start + end) // 2\n",
    "    tree[node] = seg(node * 2, start, mid) + seg(node * 2 + 1, mid + 1, end)\n",
    "    return tree[node]\n",
    "\n",
    "def update(node, start, end, idx, dif):\n",
    "    if start <= idx and idx <= end:\n",
    "        tree[node] += dif\n",
    "        if start != end:\n",
    "            mid = (start + end) // 2\n",
    "            update(node * 2, start, mid, idx, dif)\n",
    "            update(node * 2 + 1, mid + 1, end, idx, dif)\n",
    "\n",
    "def Sum(node, start, end, left, right):\n",
    "    if left > end or right < start:\n",
    "        return 0\n",
    "    if left <= start and end <= right:\n",
    "        return tree[node]\n",
    "    mid = (start + end) // 2\n",
    "    return Sum(node * 2, start, mid, left, right) + Sum(node * 2 + 1, mid + 1, end, left, right)\n",
    "\n",
    "N, M, K = map(int, input().split())\n",
    "arr = []\n",
    "for _ in range(N):\n",
    "    arr.append(int(input()))\n",
    "tree = [0] * (4 * N)\n",
    "seg(1, 0, N - 1)\n",
    "for _ in range(M + K):\n",
    "    a, b, c = map(int, input().split())\n",
    "    if a == 1:\n",
    "        update(1, 0, N - 1, b - 1, c - arr[b - 1])\n",
    "        arr[b - 1] = c\n",
    "    else:\n",
    "        print(Sum(1, 0, N - 1, b - 1, c - 1))"
   ]
  }
 ],
 "metadata": {
  "kernelspec": {
   "display_name": "Python 3",
   "language": "python",
   "name": "python3"
  },
  "language_info": {
   "codemirror_mode": {
    "name": "ipython",
    "version": 3
   },
   "file_extension": ".py",
   "mimetype": "text/x-python",
   "name": "python",
   "nbconvert_exporter": "python",
   "pygments_lexer": "ipython3",
   "version": "3.7.4"
  }
 },
 "nbformat": 4,
 "nbformat_minor": 2
}
