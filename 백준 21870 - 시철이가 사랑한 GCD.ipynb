{
 "cells": [
  {
   "cell_type": "markdown",
   "metadata": {},
   "source": [
    "https://www.acmicpc.net/problem/21870\n",
    "\n",
    "문제\n",
    "Q1. 사막에서 바늘을 찾는 방법은?\n",
    "\n",
    "A1. 대학원생을 시킨다.\n",
    "\n",
    "Q2. 신촌에서 자취방을 구하는 방법은?\n",
    "\n",
    "A2. 대학원생을 시킨다.\n",
    "\n",
    "연희동 최고의 대학원생 시철이는 오늘도 바쁘다. 그런 시철이도 이번 주말만큼은 꼭 해야 하는 일이 있었는데, 바로 자취방을 구하는 일이다!\n",
    "\n",
    "시철이는 신촌에서 가장 아름다운 자취방을 구하고 싶다. 하지만 시철이는 매우 바빴기 때문에 직접 방을 찾아다닐 수 없었다. 그래서 시철이는 인터넷에서 본 매물번호와 (Greatest Common Divisor, 최대공약수)를 이용해 자취방의 아름다움을 예측하려 했다. 아름다움을 측정하는 자세한 방법은 다음과 같다.\n",
    "\n",
    "매물번호를 나타내는 정수 배열 가 있다. (, 는 의 원소의 개수)\n",
    "배열 의 원소를 왼쪽부터 \n",
    " \n",
    "개 선택하거나, 오른쪽부터 \n",
    " \n",
    "개 선택한다. 만약 의 원소가 단 한 개라면 그 원소를 선택한다.\n",
    "선택한 원소들의 를 구한다.\n",
    "선택하지 않은 원소의 배열 을 다시 번부터 반복한다. \n",
    "이때, 자취방의 아름다움은 번에서 구한 의 합의 최댓값으로 정의한다.\n",
    "교수님의 과제로 쉴 날 없는 시철이는, 그나마 더 나은 삶을 위해 자취방을 빨리 구하려고 한다. 매물번호를 이용해 자취방의 아름다움을 계산해보자!\n",
    "\n",
    "입력\n",
    "첫째 줄에 정수 이 주어진다. ()\n",
    "\n",
    "둘째 줄에 자취방의 매물번호를 의미하는 정수 이 주어진다. ()\n",
    "\n",
    "출력\n",
    "자취방의 아름다움을 출력한다.\n",
    "\n",
    "예제 입력 1 \n",
    "4\n",
    "4 4 4 4\n",
    "예제 출력 1 \n",
    "12\n",
    "예제 입력 2 \n",
    "5\n",
    "1 2 3 4 5\n",
    "예제 출력 2 \n",
    "13"
   ]
  },
  {
   "cell_type": "code",
   "execution_count": 1,
   "metadata": {},
   "outputs": [],
   "source": [
    "def solution():\n",
    "    from math import gcd\n",
    "    from functools import reduce\n",
    "\n",
    "    def GCD(lst):\n",
    "        return reduce(lambda x, y: gcd(x, y), lst)\n",
    "\n",
    "    def calc(lst):\n",
    "        l = len(lst)\n",
    "        if l == 1:\n",
    "            return lst.pop()\n",
    "        return max(calc(lst[:l // 2]) + GCD(lst[l // 2:]), calc(lst[l // 2:]) + GCD(lst[:l // 2]))\n",
    "\n",
    "    N = int(input())\n",
    "    print(calc(list(map(int, input().split()))))"
   ]
  },
  {
   "cell_type": "code",
   "execution_count": 2,
   "metadata": {},
   "outputs": [
    {
     "name": "stdout",
     "output_type": "stream",
     "text": [
      "4\n",
      "4 4 4 4\n",
      "12\n"
     ]
    }
   ],
   "source": [
    "solution()"
   ]
  },
  {
   "cell_type": "code",
   "execution_count": 3,
   "metadata": {},
   "outputs": [
    {
     "name": "stdout",
     "output_type": "stream",
     "text": [
      "5\n",
      "1 2 3 4 5\n",
      "13\n"
     ]
    }
   ],
   "source": [
    "solution()"
   ]
  }
 ],
 "metadata": {
  "kernelspec": {
   "display_name": "Python 3",
   "language": "python",
   "name": "python3"
  },
  "language_info": {
   "codemirror_mode": {
    "name": "ipython",
    "version": 3
   },
   "file_extension": ".py",
   "mimetype": "text/x-python",
   "name": "python",
   "nbconvert_exporter": "python",
   "pygments_lexer": "ipython3",
   "version": "3.7.4"
  }
 },
 "nbformat": 4,
 "nbformat_minor": 2
}
