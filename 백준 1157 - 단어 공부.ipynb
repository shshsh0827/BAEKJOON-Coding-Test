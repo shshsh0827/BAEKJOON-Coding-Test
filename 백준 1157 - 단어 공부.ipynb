{
 "cells": [
  {
   "cell_type": "markdown",
   "id": "9b75b8c3",
   "metadata": {},
   "source": [
    "https://www.acmicpc.net/problem/1157\n",
    "\n",
    "문제\n",
    "알파벳 대소문자로 된 단어가 주어지면, 이 단어에서 가장 많이 사용된 알파벳이 무엇인지 알아내는 프로그램을 작성하시오. 단, 대문자와 소문자를 구분하지 않는다.\n",
    "\n",
    "입력\n",
    "첫째 줄에 알파벳 대소문자로 이루어진 단어가 주어진다. 주어지는 단어의 길이는 1,000,000을 넘지 않는다.\n",
    "\n",
    "출력\n",
    "첫째 줄에 이 단어에서 가장 많이 사용된 알파벳을 대문자로 출력한다. 단, 가장 많이 사용된 알파벳이 여러 개 존재하는 경우에는 ?를 출력한다.\n",
    "\n",
    "예제 입력 1 \n",
    "Mississipi\n",
    "예제 출력 1 \n",
    "?\n",
    "예제 입력 2 \n",
    "zZa\n",
    "예제 출력 2 \n",
    "Z\n",
    "예제 입력 3 \n",
    "z\n",
    "예제 출력 3 \n",
    "Z\n",
    "예제 입력 4 \n",
    "baaa\n",
    "예제 출력 4 \n",
    "A"
   ]
  },
  {
   "cell_type": "code",
   "execution_count": 1,
   "id": "eb325367",
   "metadata": {},
   "outputs": [],
   "source": [
    "def solution():\n",
    "    import sys\n",
    "    from collections import Counter\n",
    "    # w = sys.stdin.readline().upper().strip()\n",
    "    w = input().upper().strip()\n",
    "    counter = sorted(list(Counter(w).items()), key=lambda x: x[1])\n",
    "    s, n = counter.pop()\n",
    "    if counter:\n",
    "        ss, nn = counter.pop()\n",
    "        if nn == n:\n",
    "            print('?')\n",
    "        else:\n",
    "            print(s)\n",
    "    else: print(s)"
   ]
  },
  {
   "cell_type": "code",
   "execution_count": 2,
   "id": "ef734135",
   "metadata": {},
   "outputs": [
    {
     "name": "stdout",
     "output_type": "stream",
     "text": [
      "Mississipi\n",
      "?\n"
     ]
    }
   ],
   "source": [
    "solution()"
   ]
  },
  {
   "cell_type": "code",
   "execution_count": 3,
   "id": "5352fb10",
   "metadata": {},
   "outputs": [
    {
     "name": "stdout",
     "output_type": "stream",
     "text": [
      "zZa\n",
      "Z\n"
     ]
    }
   ],
   "source": [
    "solution()"
   ]
  },
  {
   "cell_type": "code",
   "execution_count": 4,
   "id": "5ca46909",
   "metadata": {},
   "outputs": [
    {
     "name": "stdout",
     "output_type": "stream",
     "text": [
      "z\n",
      "Z\n"
     ]
    }
   ],
   "source": [
    "solution()"
   ]
  },
  {
   "cell_type": "code",
   "execution_count": 5,
   "id": "20a65fc2",
   "metadata": {},
   "outputs": [
    {
     "name": "stdout",
     "output_type": "stream",
     "text": [
      "baaa\n",
      "A\n"
     ]
    }
   ],
   "source": [
    "solution()"
   ]
  }
 ],
 "metadata": {
  "kernelspec": {
   "display_name": "Python 3",
   "language": "python",
   "name": "python3"
  },
  "language_info": {
   "codemirror_mode": {
    "name": "ipython",
    "version": 3
   },
   "file_extension": ".py",
   "mimetype": "text/x-python",
   "name": "python",
   "nbconvert_exporter": "python",
   "pygments_lexer": "ipython3",
   "version": "3.8.8"
  }
 },
 "nbformat": 4,
 "nbformat_minor": 5
}
