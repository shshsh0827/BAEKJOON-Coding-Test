{
 "cells": [
  {
   "cell_type": "markdown",
   "metadata": {},
   "source": [
    "https://www.acmicpc.net/problem/14582\n",
    "\n",
    "문제\n",
    "프로야구팀 울림 제미니스는 오늘도 졌다. 이번에는 스타트링크 걸리버스의 4번타자가 끝내기 홈런을 쳐서 졌다. 울림 제미니스의 열렬한 팬인 지수는 속으로 화를 참으며 어떤 선수 때문에 졌는지 생각해보았다. 지수는 팀이 역전패를 했다면 불펜 투수의 책임이고, 그렇지 않다면 타자와 선발 투수의 책임이라고 생각했다.\n",
    "\n",
    "지수는 오늘 경기에서 울림이 어떻게 졌는지 생각해보려 했지만, 기분이 너무 더러워서 뭘 할 의욕이 나지 않았다. 지수를 도와 오늘 경기에서 울림 제미니스가 역전패를 했는지 구하는 프로그램을 작성하여라. 역전패가 성립하려면 경기 도중 울림 제미니스가 이기고 있는 순간이 있어야 한다.\n",
    "\n",
    "입력\n",
    "첫 번째 줄에는 9개의 정수가 주어지는데, 오늘 경기에서 울림 제미니스가 1회 초, 2회 초, ..., 9회 초에 낸 득점이 주어진다.\n",
    "\n",
    "두 번째 줄에도 9개의 정수가 주어지는데, 스타트링크 걸리버스가 1회 말, 2회 말, ..., 9회 말에 낸 득점이 주어진다.\n",
    "\n",
    "한 팀이 한 회에 낸 득점은 모두 0 이상 20 이하이며, 스타트링크 걸리버스의 총 득점이 울림 제미니스의 총 득점보다 많다.\n",
    "\n",
    "경기는 1회 초->1회 말->2회 초->...->9회 초->9회 말 순서로 진행된다.\n",
    "\n",
    "출력\n",
    "만약 울림 제미니스가 역전패를 했다면 'Yes'를 출력한다.\n",
    "\n",
    "그렇지 않으면 'No'를 출력한다.\n",
    "\n",
    "예제 입력 1 \n",
    "1 0 0 0 0 0 2 2 1\n",
    "0 0 3 0 0 0 0 1 4\n",
    "예제 출력 1 \n",
    "Yes\n",
    "예제 입력 2 \n",
    "0 0 0 0 0 0 0 1 0\n",
    "1 0 0 0 0 0 0 4 0\n",
    "예제 출력 2 \n",
    "No\n",
    "힌트\n",
    "첫 번째 예제에서 울림 제미니스가 이기고 있던 순간은 (울림이 1회 초에 1점을 낸 순간) ~ (스타트링크가 3회 말에 1점을 낸 순간)과 (울림이 8회 초에 1점을 낸 순간) ~ (스타트링크가 9회 말에 2점을 낸 순간)이다."
   ]
  },
  {
   "cell_type": "code",
   "execution_count": 1,
   "metadata": {},
   "outputs": [],
   "source": [
    "def solution():\n",
    "    A = list(map(int, input().strip().split()))\n",
    "    B = list(map(int, input().strip().split()))\n",
    "    total = 0\n",
    "    win = 'B'\n",
    "    for a, b in zip(A, B):\n",
    "        total += a\n",
    "        if win == 'B' and total > 0:\n",
    "            win = 'A'\n",
    "        total -= b\n",
    "        if total < 0 and win == 'A':\n",
    "            print('Yes')\n",
    "            break\n",
    "    else: print('No')"
   ]
  },
  {
   "cell_type": "code",
   "execution_count": 2,
   "metadata": {},
   "outputs": [
    {
     "name": "stdout",
     "output_type": "stream",
     "text": [
      "1 0 0 0 0 0 2 2 1\n",
      "0 0 3 0 0 0 0 1 4\n",
      "Yes\n"
     ]
    }
   ],
   "source": [
    "solution()"
   ]
  },
  {
   "cell_type": "code",
   "execution_count": 3,
   "metadata": {},
   "outputs": [
    {
     "name": "stdout",
     "output_type": "stream",
     "text": [
      "0 0 0 0 0 0 0 1 0\n",
      "1 0 0 0 0 0 0 4 0\n",
      "No\n"
     ]
    }
   ],
   "source": [
    "solution()"
   ]
  }
 ],
 "metadata": {
  "kernelspec": {
   "display_name": "Python 3",
   "language": "python",
   "name": "python3"
  },
  "language_info": {
   "codemirror_mode": {
    "name": "ipython",
    "version": 3
   },
   "file_extension": ".py",
   "mimetype": "text/x-python",
   "name": "python",
   "nbconvert_exporter": "python",
   "pygments_lexer": "ipython3",
   "version": "3.7.4"
  }
 },
 "nbformat": 4,
 "nbformat_minor": 2
}
