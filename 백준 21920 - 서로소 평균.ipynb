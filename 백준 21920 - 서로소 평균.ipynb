{
 "cells": [
  {
   "cell_type": "markdown",
   "id": "1b27438e",
   "metadata": {},
   "source": [
    "https://www.acmicpc.net/problem/21920\n",
    "\n",
    "문제\n",
    "효성이는 길이가 인 수열 에서 와 서로소인 수들을 골라 평균을 구해보려고 한다.\n",
    "\n",
    "효성이를 도와 이를 계산해주자.\n",
    "\n",
    "입력\n",
    "첫 번째 줄에 입력될 수들의 개수 이 주어진다. \n",
    "\n",
    "두 번째 줄에는 수열 를 이루는 자연수  가 공백으로 구분되어 주어진다. \n",
    "\n",
    "수열 에 와 서로소인 수가 최소 1개 이상 존재한다.\n",
    "\n",
    "마지막 줄에는 가 주어진다. \n",
    "\n",
    "출력\n",
    "첫째 줄에 수열 A에서 X와 서로소인 수들의 평균을 출력한다.\n",
    "\n",
    "절대/상대 오차는 10-6까지 허용한다.\n",
    "\n",
    "예제 입력 1 \n",
    "5\n",
    "4 2 8 5 7\n",
    "4\n",
    "예제 출력 1 \n",
    "6"
   ]
  },
  {
   "cell_type": "code",
   "execution_count": 1,
   "id": "69abd37b",
   "metadata": {},
   "outputs": [
    {
     "name": "stdout",
     "output_type": "stream",
     "text": [
      "5\n",
      "4 2 8 5 7\n",
      "4\n",
      "6\n"
     ]
    }
   ],
   "source": [
    "N = int(input())\n",
    "seq = list(map(int, input().split()))\n",
    "X = int(input())\n",
    "k = 2\n",
    "divisor = []\n",
    "while k < X ** 0.5 + 1:\n",
    "    if X % k == 0:\n",
    "        X //= k\n",
    "        divisor.append(k)\n",
    "    else:\n",
    "        k += 1\n",
    "else:\n",
    "    if X > 1:\n",
    "        divisor.append(X)\n",
    "divisor = set(divisor)\n",
    "coprime = []\n",
    "for n in seq:\n",
    "    for d in divisor:\n",
    "        if n % d == 0:\n",
    "            break\n",
    "    else:\n",
    "        coprime.append(n)\n",
    "answer = sum(coprime) / len(coprime)\n",
    "print(int(answer)) if answer.is_integer() else print(answer)"
   ]
  }
 ],
 "metadata": {
  "kernelspec": {
   "display_name": "Python 3",
   "language": "python",
   "name": "python3"
  },
  "language_info": {
   "codemirror_mode": {
    "name": "ipython",
    "version": 3
   },
   "file_extension": ".py",
   "mimetype": "text/x-python",
   "name": "python",
   "nbconvert_exporter": "python",
   "pygments_lexer": "ipython3",
   "version": "3.8.8"
  }
 },
 "nbformat": 4,
 "nbformat_minor": 5
}
