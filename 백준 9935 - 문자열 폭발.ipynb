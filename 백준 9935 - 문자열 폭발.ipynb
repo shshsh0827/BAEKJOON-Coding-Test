{
 "cells": [
  {
   "cell_type": "markdown",
   "id": "7b3e7c0b",
   "metadata": {},
   "source": [
    "https://www.acmicpc.net/problem/9935\n",
    "\n",
    "문제\n",
    "상근이는 문자열에 폭발 문자열을 심어 놓았다. 폭발 문자열이 폭발하면 그 문자는 문자열에서 사라지며, 남은 문자열은 합쳐지게 된다.\n",
    "\n",
    "폭발은 다음과 같은 과정으로 진행된다.\n",
    "\n",
    "문자열이 폭발 문자열을 포함하고 있는 경우에, 모든 폭발 문자열이 폭발하게 된다. 남은 문자열을 순서대로 이어 붙여 새로운 문자열을 만든다.\n",
    "새로 생긴 문자열에 폭발 문자열이 포함되어 있을 수도 있다.\n",
    "폭발은 폭발 문자열이 문자열에 없을 때까지 계속된다.\n",
    "상근이는 모든 폭발이 끝난 후에 어떤 문자열이 남는지 구해보려고 한다. 남아있는 문자가 없는 경우가 있다. 이때는 \"FRULA\"를 출력한다.\n",
    "\n",
    "폭발 문자열은 같은 문자를 두 개 이상 포함하지 않는다.\n",
    "\n",
    "입력\n",
    "첫째 줄에 문자열이 주어진다. 문자열의 길이는 1보다 크거나 같고, 1,000,000보다 작거나 같다.\n",
    "\n",
    "둘째 줄에 폭발 문자열이 주어진다. 길이는 1보다 크거나 같고, 36보다 작거나 같다.\n",
    "\n",
    "두 문자열은 모두 알파벳 소문자와 대문자, 숫자 0, 1, ..., 9로만 이루어져 있다.\n",
    "\n",
    "출력\n",
    "첫째 줄에 모든 폭발이 끝난 후 남은 문자열을 출력한다.\n",
    "\n",
    "예제 입력 1 \n",
    "mirkovC4nizCC44\n",
    "C4\n",
    "예제 출력 1 \n",
    "mirkovniz\n",
    "예제 입력 2 \n",
    "12ab112ab2ab\n",
    "12ab\n",
    "예제 출력 2 \n",
    "FRULA"
   ]
  },
  {
   "cell_type": "code",
   "execution_count": 1,
   "id": "7d40cbcb",
   "metadata": {},
   "outputs": [],
   "source": [
    "def solution():\n",
    "    from collections import deque\n",
    "\n",
    "    string = deque(input())\n",
    "    bomb = list(input())\n",
    "    length = len(bomb)\n",
    "    char = bomb[-1]\n",
    "    stack = []\n",
    "    while string:\n",
    "        c = deque.popleft(string)\n",
    "        stack.append(c)\n",
    "        if c == char and len(stack) >= length and stack[-length:] == bomb:\n",
    "            for _ in range(length): stack.pop()\n",
    "    if stack:\n",
    "        print(''.join(stack))\n",
    "    else:\n",
    "        print('FRULA')"
   ]
  },
  {
   "cell_type": "code",
   "execution_count": 2,
   "id": "2d47ddd3",
   "metadata": {},
   "outputs": [
    {
     "name": "stdout",
     "output_type": "stream",
     "text": [
      "mirkovC4nizCC44\n",
      "C4\n",
      "mirkovniz\n"
     ]
    }
   ],
   "source": [
    "solution()"
   ]
  },
  {
   "cell_type": "code",
   "execution_count": 3,
   "id": "e1c73510",
   "metadata": {},
   "outputs": [
    {
     "name": "stdout",
     "output_type": "stream",
     "text": [
      "12ab112ab2ab\n",
      "12ab\n",
      "FRULA\n"
     ]
    }
   ],
   "source": [
    "solution()"
   ]
  }
 ],
 "metadata": {
  "kernelspec": {
   "display_name": "Python 3",
   "language": "python",
   "name": "python3"
  },
  "language_info": {
   "codemirror_mode": {
    "name": "ipython",
    "version": 3
   },
   "file_extension": ".py",
   "mimetype": "text/x-python",
   "name": "python",
   "nbconvert_exporter": "python",
   "pygments_lexer": "ipython3",
   "version": "3.8.8"
  }
 },
 "nbformat": 4,
 "nbformat_minor": 5
}
