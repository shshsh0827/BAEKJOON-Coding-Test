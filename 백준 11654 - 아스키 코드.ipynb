{
 "cells": [
  {
   "cell_type": "markdown",
   "id": "b12c827e",
   "metadata": {},
   "source": [
    "https://www.acmicpc.net/problem/11654\n",
    "\n",
    "문제\n",
    "알파벳 소문자, 대문자, 숫자 0-9중 하나가 주어졌을 때, 주어진 글자의 아스키 코드값을 출력하는 프로그램을 작성하시오.\n",
    "\n",
    "입력\n",
    "알파벳 소문자, 대문자, 숫자 0-9 중 하나가 첫째 줄에 주어진다.\n",
    "\n",
    "출력\n",
    "입력으로 주어진 글자의 아스키 코드 값을 출력한다.\n",
    "\n",
    "예제 입력 1 \n",
    "A\n",
    "예제 출력 1 \n",
    "65\n",
    "예제 입력 2 \n",
    "C\n",
    "예제 출력 2 \n",
    "67\n",
    "예제 입력 3 \n",
    "0\n",
    "예제 출력 3 \n",
    "48\n",
    "예제 입력 4 \n",
    "9\n",
    "예제 출력 4 \n",
    "57\n",
    "예제 입력 5 \n",
    "a\n",
    "예제 출력 5 \n",
    "97\n",
    "예제 입력 6 \n",
    "z\n",
    "예제 출력 6 \n",
    "122"
   ]
  },
  {
   "cell_type": "code",
   "execution_count": 1,
   "id": "f21542ea",
   "metadata": {
    "scrolled": true
   },
   "outputs": [],
   "source": [
    "def solution():\n",
    "    print(ord(input()))"
   ]
  },
  {
   "cell_type": "code",
   "execution_count": 2,
   "id": "55cca76a",
   "metadata": {},
   "outputs": [
    {
     "name": "stdout",
     "output_type": "stream",
     "text": [
      "A\n",
      "65\n"
     ]
    }
   ],
   "source": [
    "solution()"
   ]
  },
  {
   "cell_type": "code",
   "execution_count": 3,
   "id": "2f5f4f36",
   "metadata": {},
   "outputs": [
    {
     "name": "stdout",
     "output_type": "stream",
     "text": [
      "C\n",
      "67\n"
     ]
    }
   ],
   "source": [
    "solution()"
   ]
  },
  {
   "cell_type": "code",
   "execution_count": 4,
   "id": "cb306daf",
   "metadata": {},
   "outputs": [
    {
     "name": "stdout",
     "output_type": "stream",
     "text": [
      "0\n",
      "48\n"
     ]
    }
   ],
   "source": [
    "solution()"
   ]
  },
  {
   "cell_type": "code",
   "execution_count": 5,
   "id": "547ab8a7",
   "metadata": {},
   "outputs": [
    {
     "name": "stdout",
     "output_type": "stream",
     "text": [
      "9\n",
      "57\n"
     ]
    }
   ],
   "source": [
    "solution()"
   ]
  },
  {
   "cell_type": "code",
   "execution_count": 6,
   "id": "89fd2b30",
   "metadata": {},
   "outputs": [
    {
     "name": "stdout",
     "output_type": "stream",
     "text": [
      "a\n",
      "97\n"
     ]
    }
   ],
   "source": [
    "solution()"
   ]
  },
  {
   "cell_type": "code",
   "execution_count": 7,
   "id": "f89d3f8e",
   "metadata": {},
   "outputs": [
    {
     "name": "stdout",
     "output_type": "stream",
     "text": [
      "z\n",
      "122\n"
     ]
    }
   ],
   "source": [
    "solution()"
   ]
  }
 ],
 "metadata": {
  "kernelspec": {
   "display_name": "Python 3",
   "language": "python",
   "name": "python3"
  },
  "language_info": {
   "codemirror_mode": {
    "name": "ipython",
    "version": 3
   },
   "file_extension": ".py",
   "mimetype": "text/x-python",
   "name": "python",
   "nbconvert_exporter": "python",
   "pygments_lexer": "ipython3",
   "version": "3.8.8"
  }
 },
 "nbformat": 4,
 "nbformat_minor": 5
}
