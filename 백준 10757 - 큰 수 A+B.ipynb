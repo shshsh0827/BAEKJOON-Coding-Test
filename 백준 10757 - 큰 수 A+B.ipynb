{
 "cells": [
  {
   "cell_type": "markdown",
   "id": "164265d0",
   "metadata": {},
   "source": [
    "https://www.acmicpc.net/problem/10757\n",
    "\n",
    "문제\n",
    "두 정수 A와 B를 입력받은 다음, A+B를 출력하는 프로그램을 작성하시오.\n",
    "\n",
    "입력\n",
    "첫째 줄에 A와 B가 주어진다. (0 < A,B < 1010000)\n",
    "\n",
    "출력\n",
    "첫째 줄에 A+B를 출력한다.\n",
    "\n",
    "예제 입력 1 \n",
    "9223372036854775807 9223372036854775808\n",
    "예제 출력 1 \n",
    "18446744073709551615"
   ]
  },
  {
   "cell_type": "code",
   "execution_count": 1,
   "id": "1ca9a481",
   "metadata": {},
   "outputs": [
    {
     "name": "stdout",
     "output_type": "stream",
     "text": [
      "9223372036854775807 9223372036854775808\n",
      "18446744073709551615\n"
     ]
    }
   ],
   "source": [
    "A, B = input().split()\n",
    "length = max(len(A), len(B))\n",
    "A = A.zfill(length)\n",
    "B = B.zfill(length)\n",
    "answer = ''\n",
    "re = 0\n",
    "for a, b in zip(A[::-1], B[::-1]):\n",
    "    qu = str(int(a) + int(b) + re).zfill(2)\n",
    "    answer = qu[-1] + answer\n",
    "    re = int(qu[0])\n",
    "print(int(str(re) + answer))"
   ]
  }
 ],
 "metadata": {
  "kernelspec": {
   "display_name": "Python 3",
   "language": "python",
   "name": "python3"
  },
  "language_info": {
   "codemirror_mode": {
    "name": "ipython",
    "version": 3
   },
   "file_extension": ".py",
   "mimetype": "text/x-python",
   "name": "python",
   "nbconvert_exporter": "python",
   "pygments_lexer": "ipython3",
   "version": "3.8.8"
  }
 },
 "nbformat": 4,
 "nbformat_minor": 5
}
